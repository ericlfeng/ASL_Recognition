{
 "cells": [
  {
   "cell_type": "code",
   "execution_count": 2,
   "metadata": {},
   "outputs": [],
   "source": [
    "import os\n",
    "import mediapipe as mp\n",
    "from mediapipe import solutions\n",
    "from mediapipe.framework.formats import landmark_pb2\n",
    "import cv2\n",
    "import random\n",
    "import time\n",
    "from PIL import Image\n",
    "import pandas as pd"
   ]
  },
  {
   "cell_type": "code",
   "execution_count": 3,
   "metadata": {},
   "outputs": [],
   "source": [
    "# Library Constants\n",
    "BaseOptions = mp.tasks.BaseOptions\n",
    "HandLandmarker = mp.tasks.vision.HandLandmarker\n",
    "HandLandmarkPoints = mp.solutions.hands.HandLandmark\n",
    "HandLandmarkerOptions = mp.tasks.vision.HandLandmarkerOptions\n",
    "VisionRunningMode = mp.tasks.vision.RunningMode\n",
    "DrawingUtil = mp.solutions.drawing_utils"
   ]
  },
  {
   "cell_type": "code",
   "execution_count": 4,
   "metadata": {},
   "outputs": [
    {
     "name": "stderr",
     "output_type": "stream",
     "text": [
      "WARNING: All log messages before absl::InitializeLog() is called are written to STDERR\n",
      "I0000 00:00:1715138571.179610       1 gl_context.cc:344] GL version: 2.1 (2.1 Metal - 88), renderer: Apple M1\n",
      "INFO: Created TensorFlow Lite XNNPACK delegate for CPU.\n"
     ]
    }
   ],
   "source": [
    "import cv2\n",
    "import mediapipe as mp\n",
    "mp_drawing = mp.solutions.drawing_utils\n",
    "mp_hands = mp.solutions.hands\n",
    "\n",
    "base_options = BaseOptions(model_asset_path='data/hand_landmarker.task')\n",
    "options = HandLandmarkerOptions(base_options=base_options,\n",
    "                                        num_hands=2)\n",
    "\n",
    "detector = HandLandmarker.create_from_options(options)\n",
    "def convert_detection_result(detection_result, image):\n",
    "        \"\"\"\n",
    "        Draws all the landmarks on the hand\n",
    "        Args:\n",
    "            image (Image): Image to draw on\n",
    "            detection_result (HandLandmarkerResult): HandLandmarker detection results\n",
    "        \"\"\"\n",
    "        # Get a list of the landmarks\n",
    "        hand_landmarks_list = detection_result.hand_landmarks\n",
    "        \n",
    "        for idx in range(len(hand_landmarks_list)):\n",
    "            #NOTE this only works for one hand\n",
    "            listofpointstoreturn = []\n",
    "            hand_landmarks = hand_landmarks_list[idx]\n",
    "\n",
    "            # Save the landmarks into a NormalizedLandmarkList\n",
    "            hand_landmarks_proto = landmark_pb2.NormalizedLandmarkList()\n",
    "            hand_landmarks_proto.landmark.extend([\n",
    "            landmark_pb2.NormalizedLandmark(x=landmark.x, y=landmark.y, z=landmark.z) for landmark in hand_landmarks\n",
    "            ])\n",
    "            # results = mp_hands.Hands.process(image = image)\n",
    "\n",
    "            if hand_landmarks:\n",
    "                for landmrk in hand_landmarks:\n",
    "                    # for ids, landmrk in enumerate(hand_landmarks.landmark):\n",
    "                        # print(ids, landmrk)\n",
    "                    listofpointstoreturn.append(landmrk.x)\n",
    "                    listofpointstoreturn.append(landmrk.y)\n",
    "                    listofpointstoreturn.append(landmrk.z)\n",
    "                return listofpointstoreturn\n",
    "        \n",
    "        return \"Nothing Here\""
   ]
  },
  {
   "cell_type": "code",
   "execution_count": 5,
   "metadata": {},
   "outputs": [],
   "source": [
    "def returndatapoints(image):\n",
    "    to_detect = mp.Image(image_format=mp.ImageFormat.SRGB, data=image)\n",
    "    results = detector.detect(to_detect)            \n",
    "    # Draw the hand landmarks\n",
    "    points = convert_detection_result(results, image)\n",
    "    if points == \"Nothing Here\":\n",
    "        border_size = 150\n",
    "        frame = cv2.copyMakeBorder(image, top=border_size, \n",
    "                                bottom=border_size, left=border_size, \n",
    "                                right=border_size,\n",
    "                                borderType=cv2.BORDER_CONSTANT, \n",
    "                                value=[0, 0, 0]\n",
    "        )\n",
    "        to_detect = mp.Image(image_format=mp.ImageFormat.SRGB, data=frame)\n",
    "        results = detector.detect(to_detect) \n",
    "        points = convert_detection_result(results, frame)\n",
    "    return points\n"
   ]
  },
  {
   "cell_type": "code",
   "execution_count": 6,
   "metadata": {},
   "outputs": [],
   "source": [
    "def draw_landmarks_on_hand(image, detection_result):\n",
    "    \"\"\"\n",
    "    Draws all the landmarks on the hand\n",
    "    Args:\n",
    "        image (Image): Image to draw on\n",
    "        detection_result (HandLandmarkerResult): HandLandmarker detection results\n",
    "    \"\"\"\n",
    "    # Get a list of the landmarks\n",
    "    hand_landmarks_list = detection_result.hand_landmarks\n",
    "\n",
    "    # Loop through the detected hands to visualize.\n",
    "    for idx in range(len(hand_landmarks_list)):\n",
    "        hand_landmarks = hand_landmarks_list[idx]\n",
    "\n",
    "        # Save the landmarks into a NormalizedLandmarkList\n",
    "        hand_landmarks_proto = landmark_pb2.NormalizedLandmarkList()\n",
    "        hand_landmarks_proto.landmark.extend([\n",
    "        landmark_pb2.NormalizedLandmark(x=landmark.x, y=landmark.y, z=landmark.z) for landmark in hand_landmarks\n",
    "        ])\n",
    "        # Draw the landmarks on the hand\n",
    "        DrawingUtil.draw_landmarks(image,\n",
    "                                    hand_landmarks_proto,\n",
    "                                    solutions.hands.HAND_CONNECTIONS,\n",
    "                                    solutions.drawing_styles.get_default_hand_landmarks_style(),\n",
    "                                    solutions.drawing_styles.get_default_hand_connections_style())\n"
   ]
  },
  {
   "cell_type": "code",
   "execution_count": 7,
   "metadata": {},
   "outputs": [
    {
     "name": "stderr",
     "output_type": "stream",
     "text": [
      "I0000 00:00:1715138571.263361       1 gl_context.cc:344] GL version: 2.1 (2.1 Metal - 88), renderer: Apple M1\n"
     ]
    },
    {
     "ename": "KeyboardInterrupt",
     "evalue": "",
     "output_type": "error",
     "traceback": [
      "\u001b[0;31m---------------------------------------------------------------------------\u001b[0m",
      "\u001b[0;31mKeyboardInterrupt\u001b[0m                         Traceback (most recent call last)",
      "Cell \u001b[0;32mIn[7], line 20\u001b[0m\n\u001b[1;32m     16\u001b[0m NUM_DATA \u001b[38;5;241m=\u001b[39m \u001b[38;5;241m30\u001b[39m\n\u001b[1;32m     19\u001b[0m \u001b[38;5;66;03m# TODO: Load video\u001b[39;00m\n\u001b[0;32m---> 20\u001b[0m video \u001b[38;5;241m=\u001b[39m \u001b[43mcv2\u001b[49m\u001b[38;5;241;43m.\u001b[39;49m\u001b[43mVideoCapture\u001b[49m\u001b[43m(\u001b[49m\u001b[38;5;241;43m0\u001b[39;49m\u001b[43m)\u001b[49m\n\u001b[1;32m     21\u001b[0m START_TIME \u001b[38;5;241m=\u001b[39m time\u001b[38;5;241m.\u001b[39mtime()\n\u001b[1;32m     22\u001b[0m \u001b[38;5;66;03m# TODO: Modify loop condition  \u001b[39;00m\n",
      "\u001b[0;31mKeyboardInterrupt\u001b[0m: "
     ]
    }
   ],
   "source": [
    "\"\"\"\n",
    "Main game loop. Runs until the \n",
    "user presses END_LETTER.\n",
    "\"\"\"    \n",
    "END_LETTER = \"q\"\n",
    "# Create the hand detector\n",
    "base_options = BaseOptions(model_asset_path='data/hand_landmarker.task')\n",
    "options = HandLandmarkerOptions(base_options=base_options,\n",
    "                                        num_hands=2)\n",
    "detector = HandLandmarker.create_from_options(options)\n",
    "\n",
    "mp_drawing = mp.solutions.drawing_utils\n",
    "mp_hands = mp.solutions.hands\n",
    "total_data_collector = []\n",
    "CURRENT_LETTER = \"f\"\n",
    "NUM_DATA = 30\n",
    "\n",
    "\n",
    "# TODO: Load video\n",
    "video = cv2.VideoCapture(0)\n",
    "START_TIME = time.time()\n",
    "# TODO: Modify loop condition  \n",
    "while video.isOpened():\n",
    "    # Get the current frame\n",
    "    frame = video.read()[1]\n",
    "\n",
    "    # Convert it to an RGB image\n",
    "    image = cv2.cvtColor(frame, cv2.COLOR_BGR2RGB)\n",
    "    image = cv2.flip(image, 1)\n",
    "    # Convert the image to a readable format and find the hands\n",
    "    to_detect = mp.Image(image_format=mp.ImageFormat.SRGB, data=image)\n",
    "    results = detector.detect(to_detect)            \n",
    "    \n",
    "\n",
    "    # Draw the hand landmarks\n",
    "    draw_landmarks_on_hand(image, results)\n",
    "    datapoints = returndatapoints(image)\n",
    "    if datapoints != \"Nothing Here\":\n",
    "        most_recent_actual_data = datapoints\n",
    "\n",
    "    # Change the color of the frame back\n",
    "    image = cv2.cvtColor(image, cv2.COLOR_BGR2RGB)\n",
    "    cv2.imshow(\"Hand Tracking\", image)\n",
    "\n",
    "    #stops data collection at NUM_DATA\n",
    "    if len(total_data_collector) >= NUM_DATA:\n",
    "        break\n",
    "    # Break the loop if the user presses 'q'\n",
    "    if cv2.waitKey(50) & 0xFF == ord(END_LETTER):\n",
    "        break\n",
    "    if cv2.waitKey(50) & 0xFF == ord(CURRENT_LETTER):\n",
    "        #print(most_recent_actual_data)\n",
    "        print(len(total_data_collector))\n",
    "        if datapoints != \"Nothing Here\":\n",
    "            total_data_collector.append(most_recent_actual_data)\n",
    "            \n",
    "            \n",
    "\n",
    "video.release()\n",
    "cv2.destroyAllWindows()\n",
    "#cv2.imshow(\"Hand Tracking\", image)\n",
    "\n"
   ]
  },
  {
   "cell_type": "code",
   "execution_count": 100,
   "metadata": {},
   "outputs": [
    {
     "data": {
      "text/plain": [
       "30"
      ]
     },
     "execution_count": 100,
     "metadata": {},
     "output_type": "execute_result"
    }
   ],
   "source": [
    "len(total_data_collector)"
   ]
  },
  {
   "cell_type": "code",
   "execution_count": 101,
   "metadata": {},
   "outputs": [],
   "source": [
    "#total_data_collector[2]"
   ]
  },
  {
   "cell_type": "code",
   "execution_count": 102,
   "metadata": {},
   "outputs": [],
   "source": [
    "acquired_df = []\n",
    "copy_of_total_data = total_data_collector\n",
    "current_letter = CURRENT_LETTER\n",
    "for i in range(len(copy_of_total_data)):\n",
    "    copy_of_total_data[i].append(current_letter)\n",
    "    acquired_df.append(copy_of_total_data[i])\n",
    "\n"
   ]
  },
  {
   "cell_type": "code",
   "execution_count": 103,
   "metadata": {},
   "outputs": [],
   "source": [
    "dfcolnames = []\n",
    "for i in range(1,22):\n",
    "    for j in [\"x\",\"y\",\"z\"]:\n",
    "        dfcolnames.append(j+str(i))\n",
    "dfcolnames.append(\"label\")"
   ]
  },
  {
   "cell_type": "code",
   "execution_count": 104,
   "metadata": {},
   "outputs": [],
   "source": [
    "copy_df = acquired_df"
   ]
  },
  {
   "cell_type": "code",
   "execution_count": 105,
   "metadata": {},
   "outputs": [],
   "source": [
    "#copy_df"
   ]
  },
  {
   "cell_type": "code",
   "execution_count": 106,
   "metadata": {},
   "outputs": [],
   "source": [
    "# out_list = []\n",
    "# for i in range(len(copy_df)):\n",
    "#     out_list.append(copy_df[i][0])"
   ]
  },
  {
   "cell_type": "code",
   "execution_count": 107,
   "metadata": {},
   "outputs": [],
   "source": [
    "end_df = pd.DataFrame(copy_df, columns = dfcolnames)"
   ]
  },
  {
   "cell_type": "code",
   "execution_count": 108,
   "metadata": {},
   "outputs": [],
   "source": [
    "#end_df"
   ]
  },
  {
   "cell_type": "code",
   "execution_count": 112,
   "metadata": {},
   "outputs": [],
   "source": [
    "df  = pd.read_csv('data/acquired_data/' + CURRENT_LETTER + '.csv')"
   ]
  },
  {
   "cell_type": "code",
   "execution_count": 110,
   "metadata": {},
   "outputs": [],
   "source": [
    "#df"
   ]
  },
  {
   "cell_type": "code",
   "execution_count": 111,
   "metadata": {},
   "outputs": [],
   "source": [
    "end_df = pd.concat([df, end_df], ignore_index = True)\n",
    "# end_df.reset_index()"
   ]
  },
  {
   "cell_type": "code",
   "execution_count": 97,
   "metadata": {},
   "outputs": [],
   "source": [
    "#end_df"
   ]
  },
  {
   "cell_type": "code",
   "execution_count": 114,
   "metadata": {},
   "outputs": [],
   "source": [
    "end_df.to_csv('data/acquired_data/' + CURRENT_LETTER + '.csv', index=False) \n",
    "              "
   ]
  },
  {
   "cell_type": "code",
   "execution_count": 126,
   "metadata": {},
   "outputs": [],
   "source": [
    "# copy_df[0]"
   ]
  },
  {
   "cell_type": "code",
   "execution_count": 53,
   "metadata": {},
   "outputs": [],
   "source": [
    "#end_df"
   ]
  },
  {
   "cell_type": "code",
   "execution_count": null,
   "metadata": {},
   "outputs": [],
   "source": []
  },
  {
   "cell_type": "code",
   "execution_count": 20,
   "metadata": {},
   "outputs": [
    {
     "name": "stderr",
     "output_type": "stream",
     "text": [
      "I0000 00:00:1715139833.667164       1 gl_context.cc:344] GL version: 2.1 (2.1 Metal - 88), renderer: Apple M1\n"
     ]
    },
    {
     "name": "stdout",
     "output_type": "stream",
     "text": [
      "0\n",
      "1\n",
      "2\n",
      "3\n",
      "4\n",
      "5\n",
      "6\n",
      "7\n",
      "8\n",
      "9\n",
      "10\n",
      "11\n",
      "12\n",
      "13\n",
      "14\n",
      "15\n",
      "16\n",
      "17\n",
      "18\n",
      "19\n",
      "20\n",
      "21\n",
      "22\n",
      "23\n",
      "24\n",
      "25\n",
      "26\n",
      "27\n",
      "28\n",
      "29\n"
     ]
    }
   ],
   "source": [
    "\"\"\"\n",
    "Main game loop. Runs until the \n",
    "user presses END_LETTER.\n",
    "\"\"\"    \n",
    "END_LETTER = \"q\"\n",
    "# Create the hand detector\n",
    "base_options = BaseOptions(model_asset_path='data/hand_landmarker.task')\n",
    "options = HandLandmarkerOptions(base_options=base_options,\n",
    "                                        num_hands=2)\n",
    "detector = HandLandmarker.create_from_options(options)\n",
    "\n",
    "mp_drawing = mp.solutions.drawing_utils\n",
    "mp_hands = mp.solutions.hands\n",
    "total_data_collector = []\n",
    "CURRENT_LETTER = \"y\"\n",
    "NUM_DATA = 30\n",
    "\n",
    "\n",
    "video = cv2.VideoCapture(0)\n",
    "START_TIME = time.time()\n",
    "while video.isOpened():\n",
    "    # Get the current frame\n",
    "    frame = video.read()[1]\n",
    "\n",
    "    # Convert it to an RGB image\n",
    "    image = cv2.cvtColor(frame, cv2.COLOR_BGR2RGB)\n",
    "    image = cv2.flip(image, 1)\n",
    "    # Convert the image to a readable format and find the hands\n",
    "    to_detect = mp.Image(image_format=mp.ImageFormat.SRGB, data=image)\n",
    "    results = detector.detect(to_detect)            \n",
    "    \n",
    "\n",
    "    # Draw the hand landmarks\n",
    "    draw_landmarks_on_hand(image, results)\n",
    "    datapoints = returndatapoints(image)\n",
    "    if datapoints != \"Nothing Here\":\n",
    "        most_recent_actual_data = datapoints\n",
    "\n",
    "    # Change the color of the frame back\n",
    "    image = cv2.cvtColor(image, cv2.COLOR_BGR2RGB)\n",
    "    cv2.imshow(\"Hand Tracking\", image)\n",
    "\n",
    "    #stops data collection at NUM_DATA\n",
    "    if len(total_data_collector) >= NUM_DATA:\n",
    "        break\n",
    "    # Break the loop if the user presses 'q'\n",
    "    if cv2.waitKey(50) & 0xFF == ord(END_LETTER):\n",
    "        break\n",
    "    if cv2.waitKey(50) & 0xFF == ord(CURRENT_LETTER):\n",
    "        #print(most_recent_actual_data)\n",
    "        print(len(total_data_collector))\n",
    "        if datapoints != \"Nothing Here\":\n",
    "            total_data_collector.append(most_recent_actual_data)\n",
    "            \n",
    "            \n",
    "\n",
    "video.release()\n",
    "cv2.destroyAllWindows()\n",
    "#cv2.imshow(\"Hand Tracking\", image)\n",
    "acquired_df = []\n",
    "copy_of_total_data = total_data_collector\n",
    "current_letter = CURRENT_LETTER\n",
    "for i in range(len(copy_of_total_data)):\n",
    "    copy_of_total_data[i].append(current_letter)\n",
    "    acquired_df.append(copy_of_total_data[i])\n",
    "dfcolnames = []\n",
    "for i in range(1,22):\n",
    "    for j in [\"x\",\"y\",\"z\"]:\n",
    "        dfcolnames.append(j+str(i))\n",
    "dfcolnames.append(\"label\")\n",
    "copy_df = acquired_df\n",
    "end_df = pd.DataFrame(copy_df, columns = dfcolnames)\n",
    "df  = pd.read_csv('data/acquired_data/' + CURRENT_LETTER + '.csv')\n",
    "end_df = pd.concat([df, end_df], ignore_index = True)\n",
    "end_df.to_csv('data/acquired_data/' + CURRENT_LETTER + '.csv', index=False) \n"
   ]
  },
  {
   "cell_type": "code",
   "execution_count": null,
   "metadata": {},
   "outputs": [],
   "source": []
  }
 ],
 "metadata": {
  "kernelspec": {
   "display_name": ".venv",
   "language": "python",
   "name": "python3"
  },
  "language_info": {
   "codemirror_mode": {
    "name": "ipython",
    "version": 3
   },
   "file_extension": ".py",
   "mimetype": "text/x-python",
   "name": "python",
   "nbconvert_exporter": "python",
   "pygments_lexer": "ipython3",
   "version": "3.10.7"
  }
 },
 "nbformat": 4,
 "nbformat_minor": 2
}
