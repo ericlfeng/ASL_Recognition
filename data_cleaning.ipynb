{
 "cells": [
  {
   "cell_type": "code",
   "execution_count": 1,
   "metadata": {},
   "outputs": [],
   "source": [
    "import os\n",
    "import mediapipe as mp\n",
    "from mediapipe import solutions\n",
    "from mediapipe.framework.formats import landmark_pb2\n",
    "import cv2\n",
    "import random\n",
    "import time\n",
    "from PIL import Image\n",
    "import pandas as pd\n",
    "from sklearn.neighbors import KNeighborsClassifier\n",
    "from sklearn.model_selection import train_test_split, cross_val_score\n",
    "import seaborn as sns\n",
    "import matplotlib.pyplot as plt"
   ]
  },
  {
   "cell_type": "code",
   "execution_count": 2,
   "metadata": {},
   "outputs": [],
   "source": [
    "# Library Constants\n",
    "BaseOptions = mp.tasks.BaseOptions\n",
    "HandLandmarker = mp.tasks.vision.HandLandmarker\n",
    "HandLandmarkPoints = mp.solutions.hands.HandLandmark\n",
    "HandLandmarkerOptions = mp.tasks.vision.HandLandmarkerOptions\n",
    "VisionRunningMode = mp.tasks.vision.RunningMode\n",
    "DrawingUtil = mp.solutions.drawing_utils"
   ]
  },
  {
   "cell_type": "code",
   "execution_count": 3,
   "metadata": {},
   "outputs": [],
   "source": [
    "# base_options = BaseOptions(model_asset_path='data/hand_landmarker.task')\n",
    "# options = HandLandmarkerOptions(base_options=base_options,\n",
    "#                                         num_hands=2)\n",
    "\n",
    "# detector = HandLandmarker.create_from_options(options)\n",
    "# def convert_detection_result(detection_result, image):\n",
    "#         \"\"\"\n",
    "#         Draws all the landmarks on the hand\n",
    "#         Args:\n",
    "#             image (Image): Image to draw on\n",
    "#             detection_result (HandLandmarkerResult): HandLandmarker detection results\n",
    "#         \"\"\"\n",
    "#         # Get a list of the landmarks\n",
    "#         hand_landmarks_list = detection_result.hand_landmarks\n",
    "        \n",
    "#         # Loop through the detected hands to visualize.\n",
    "#         listofpoints = []\n",
    "#         for idx in range(len(hand_landmarks_list)):\n",
    "#             hand_landmarks = hand_landmarks_list[idx]\n",
    "#             for landmark in hand_landmarks:\n",
    "#                   listofpoints.append(landmark.x)\n",
    "#                   listofpoints.append(landmark.y)\n",
    "#                   listofpoints.append(landmark.z)\n",
    "        \n",
    "\n",
    "#         return \"Nothing Here\""
   ]
  },
  {
   "cell_type": "code",
   "execution_count": 4,
   "metadata": {},
   "outputs": [
    {
     "name": "stderr",
     "output_type": "stream",
     "text": [
      "WARNING: All log messages before absl::InitializeLog() is called are written to STDERR\n",
      "I0000 00:00:1714667376.986367       1 gl_context.cc:344] GL version: 2.1 (2.1 Metal - 88), renderer: Apple M1\n",
      "INFO: Created TensorFlow Lite XNNPACK delegate for CPU.\n"
     ]
    }
   ],
   "source": [
    "import cv2\n",
    "import mediapipe as mp\n",
    "mp_drawing = mp.solutions.drawing_utils\n",
    "mp_hands = mp.solutions.hands\n",
    "\n",
    "base_options = BaseOptions(model_asset_path='data/hand_landmarker.task')\n",
    "options = HandLandmarkerOptions(base_options=base_options,\n",
    "                                        num_hands=2)\n",
    "\n",
    "detector = HandLandmarker.create_from_options(options)\n",
    "def convert_detection_result(detection_result, image):\n",
    "        \"\"\"\n",
    "        Draws all the landmarks on the hand\n",
    "        Args:\n",
    "            image (Image): Image to draw on\n",
    "            detection_result (HandLandmarkerResult): HandLandmarker detection results\n",
    "        \"\"\"\n",
    "        # Get a list of the landmarks\n",
    "        hand_landmarks_list = detection_result.hand_landmarks\n",
    "        \n",
    "        for idx in range(len(hand_landmarks_list)):\n",
    "            #NOTE this only works for one hand\n",
    "            listofpointstoreturn = []\n",
    "            hand_landmarks = hand_landmarks_list[idx]\n",
    "\n",
    "            # Save the landmarks into a NormalizedLandmarkList\n",
    "            hand_landmarks_proto = landmark_pb2.NormalizedLandmarkList()\n",
    "            hand_landmarks_proto.landmark.extend([\n",
    "            landmark_pb2.NormalizedLandmark(x=landmark.x, y=landmark.y, z=landmark.z) for landmark in hand_landmarks\n",
    "            ])\n",
    "            # results = mp_hands.Hands.process(image = image)\n",
    "\n",
    "            if hand_landmarks:\n",
    "                for landmrk in hand_landmarks:\n",
    "                    # for ids, landmrk in enumerate(hand_landmarks.landmark):\n",
    "                        # print(ids, landmrk)\n",
    "                    listofpointstoreturn.append(landmrk.x)\n",
    "                    listofpointstoreturn.append(landmrk.y)\n",
    "                    listofpointstoreturn.append(landmrk.z)\n",
    "                return listofpointstoreturn\n",
    "        \n",
    "        return \"Nothing Here\""
   ]
  },
  {
   "cell_type": "code",
   "execution_count": 5,
   "metadata": {},
   "outputs": [],
   "source": [
    "def returndatapoints(image):\n",
    "    to_detect = mp.Image(image_format=mp.ImageFormat.SRGB, data=image)\n",
    "    results = detector.detect(to_detect)            \n",
    "    # Draw the hand landmarks\n",
    "    points = convert_detection_result(results, image)\n",
    "    if points == \"Nothing Here\":\n",
    "        border_size = 150\n",
    "        frame = cv2.copyMakeBorder(image, top=border_size, \n",
    "                                bottom=border_size, left=border_size, \n",
    "                                right=border_size,\n",
    "                                borderType=cv2.BORDER_CONSTANT, \n",
    "                                value=[0, 0, 0]\n",
    "        )\n",
    "        to_detect = mp.Image(image_format=mp.ImageFormat.SRGB, data=frame)\n",
    "        results = detector.detect(to_detect) \n",
    "        points = convert_detection_result(results, frame)\n",
    "    return points\n"
   ]
  },
  {
   "cell_type": "code",
   "execution_count": 6,
   "metadata": {},
   "outputs": [
    {
     "data": {
      "text/plain": [
       "63"
      ]
     },
     "execution_count": 6,
     "metadata": {},
     "output_type": "execute_result"
    }
   ],
   "source": [
    "\n",
    "file_path = \"data/raw_asl_hands/c/hand2_c_dif_seg_2_cropped.jpeg\"\n",
    "img = cv2.imread(file_path)\n",
    "len(returndatapoints(image = img))\n",
    "#Planning on seperating the xyz coordinates into seperate columns\n"
   ]
  },
  {
   "cell_type": "code",
   "execution_count": 7,
   "metadata": {},
   "outputs": [],
   "source": [
    "twodarray = []\n",
    "dfcolnames = []\n",
    "for i in range(1,22):\n",
    "    for j in [\"x\",\"y\",\"z\"]:\n",
    "        dfcolnames.append(j+str(i))\n",
    "dfcolnames.append(\"label\")\n",
    "\n",
    "# Iterates over every file in the raw_asl_hands folder\n",
    "for folder in [\"a\",\"b\",\"c\",\"d\",\"e\",\"f\",\"g\",\"h\",\"i\",\"j\",\n",
    "               \"k\",\"l\",\"m\",\"n\",\"o\",\"p\",\"q\",\"r\",\"s\",\"t\",\n",
    "               \"u\",\"v\",\"w\",\"x\",\"y\",\"z\"]:\n",
    "    directory = 'data/raw_asl_hands/' + folder + \"/\"\n",
    "    # Iterate over files in\n",
    "    # that directory\n",
    "    for filename in os.listdir(directory):\n",
    "        f = os.path.join(directory, filename)\n",
    "        # Checking if it is a file\n",
    "        if os.path.isfile(f):\n",
    "            file_path = directory + filename\n",
    "            #print(file_path)\n",
    "            img = cv2.imread(file_path)\n",
    "            #print(returndatapoints(image = img))\n",
    "            goodvarname = returndatapoints(img)\n",
    "            if goodvarname != \"Nothing Here\" and len(goodvarname) == 63:\n",
    "                goodvarname.append(folder)\n",
    "                twodarray.append(goodvarname)\n",
    "\n",
    "\n",
    "df = pd.DataFrame(twodarray, columns = dfcolnames)\n",
    "#print(dfcolnames)\n",
    "                \n",
    "\n"
   ]
  },
  {
   "cell_type": "code",
   "execution_count": 7,
   "metadata": {},
   "outputs": [],
   "source": [
    "#df.to_csv('data/cleanhands.csv', index=False) "
   ]
  },
  {
   "cell_type": "code",
   "execution_count": 8,
   "metadata": {},
   "outputs": [
    {
     "data": {
      "text/plain": [
       "label\n",
       "l    28\n",
       "a    20\n",
       "k    19\n",
       "p    11\n",
       "y    10\n",
       "h     9\n",
       "t     8\n",
       "c     7\n",
       "b     2\n",
       "r     1\n",
       "z     1\n",
       "Name: count, dtype: int64"
      ]
     },
     "execution_count": 8,
     "metadata": {},
     "output_type": "execute_result"
    }
   ],
   "source": [
    "df[\"label\"].value_counts()"
   ]
  },
  {
   "cell_type": "code",
   "execution_count": null,
   "metadata": {},
   "outputs": [],
   "source": []
  },
  {
   "cell_type": "code",
   "execution_count": 9,
   "metadata": {},
   "outputs": [
    {
     "name": "stdout",
     "output_type": "stream",
     "text": [
      "Added best feature: x13, Current feature list: ['x13'] Current Score: 0.75\n",
      "Added best feature: x2, Current feature list: ['x13', 'x2'] Current Score: 0.7916666666666666\n",
      "Added best feature: x7, Current feature list: ['x13', 'x2', 'x7'] Current Score: 0.8333333333333334\n",
      "Added best feature: z10, Current feature list: ['x13', 'x2', 'x7', 'z10'] Current Score: 0.875\n",
      "Added best feature: z1, Current feature list: ['x13', 'x2', 'x7', 'z10', 'z1'] Current Score: 0.875\n",
      "Added best feature: x8, Current feature list: ['x13', 'x2', 'x7', 'z10', 'z1', 'x8'] Current Score: 0.875\n",
      "Added best feature: x3, Current feature list: ['x13', 'x2', 'x7', 'z10', 'z1', 'x8', 'x3'] Current Score: 0.875\n",
      "Added best feature: z2, Current feature list: ['x13', 'x2', 'x7', 'z10', 'z1', 'x8', 'x3', 'z2'] Current Score: 0.875\n",
      "Added best feature: z3, Current feature list: ['x13', 'x2', 'x7', 'z10', 'z1', 'x8', 'x3', 'z2', 'z3'] Current Score: 0.875\n",
      "Added best feature: x4, Current feature list: ['x13', 'x2', 'x7', 'z10', 'z1', 'x8', 'x3', 'z2', 'z3', 'x4'] Current Score: 0.875\n",
      "Added best feature: z4, Current feature list: ['x13', 'x2', 'x7', 'z10', 'z1', 'x8', 'x3', 'z2', 'z3', 'x4', 'z4'] Current Score: 0.875\n",
      "Added best feature: x5, Current feature list: ['x13', 'x2', 'x7', 'z10', 'z1', 'x8', 'x3', 'z2', 'z3', 'x4', 'z4', 'x5'] Current Score: 0.875\n",
      "Added best feature: z5, Current feature list: ['x13', 'x2', 'x7', 'z10', 'z1', 'x8', 'x3', 'z2', 'z3', 'x4', 'z4', 'x5', 'z5'] Current Score: 0.875\n",
      "Added best feature: x6, Current feature list: ['x13', 'x2', 'x7', 'z10', 'z1', 'x8', 'x3', 'z2', 'z3', 'x4', 'z4', 'x5', 'z5', 'x6'] Current Score: 0.875\n",
      "Added best feature: z6, Current feature list: ['x13', 'x2', 'x7', 'z10', 'z1', 'x8', 'x3', 'z2', 'z3', 'x4', 'z4', 'x5', 'z5', 'x6', 'z6'] Current Score: 0.875\n",
      "Added best feature: z7, Current feature list: ['x13', 'x2', 'x7', 'z10', 'z1', 'x8', 'x3', 'z2', 'z3', 'x4', 'z4', 'x5', 'z5', 'x6', 'z6', 'z7'] Current Score: 0.875\n",
      "Added best feature: y8, Current feature list: ['x13', 'x2', 'x7', 'z10', 'z1', 'x8', 'x3', 'z2', 'z3', 'x4', 'z4', 'x5', 'z5', 'x6', 'z6', 'z7', 'y8'] Current Score: 0.875\n",
      "Added best feature: x9, Current feature list: ['x13', 'x2', 'x7', 'z10', 'z1', 'x8', 'x3', 'z2', 'z3', 'x4', 'z4', 'x5', 'z5', 'x6', 'z6', 'z7', 'y8', 'x9'] Current Score: 0.875\n",
      "Added best feature: x1, Current feature list: ['x13', 'x2', 'x7', 'z10', 'z1', 'x8', 'x3', 'z2', 'z3', 'x4', 'z4', 'x5', 'z5', 'x6', 'z6', 'z7', 'y8', 'x9', 'x1'] Current Score: 0.875\n",
      "Added best feature: z8, Current feature list: ['x13', 'x2', 'x7', 'z10', 'z1', 'x8', 'x3', 'z2', 'z3', 'x4', 'z4', 'x5', 'z5', 'x6', 'z6', 'z7', 'y8', 'x9', 'x1', 'z8'] Current Score: 0.875\n",
      "Added best feature: y9, Current feature list: ['x13', 'x2', 'x7', 'z10', 'z1', 'x8', 'x3', 'z2', 'z3', 'x4', 'z4', 'x5', 'z5', 'x6', 'z6', 'z7', 'y8', 'x9', 'x1', 'z8', 'y9'] Current Score: 0.875\n",
      "Added best feature: x10, Current feature list: ['x13', 'x2', 'x7', 'z10', 'z1', 'x8', 'x3', 'z2', 'z3', 'x4', 'z4', 'x5', 'z5', 'x6', 'z6', 'z7', 'y8', 'x9', 'x1', 'z8', 'y9', 'x10'] Current Score: 0.875\n",
      "Added best feature: x11, Current feature list: ['x13', 'x2', 'x7', 'z10', 'z1', 'x8', 'x3', 'z2', 'z3', 'x4', 'z4', 'x5', 'z5', 'x6', 'z6', 'z7', 'y8', 'x9', 'x1', 'z8', 'y9', 'x10', 'x11'] Current Score: 0.875\n",
      "Added best feature: x12, Current feature list: ['x13', 'x2', 'x7', 'z10', 'z1', 'x8', 'x3', 'z2', 'z3', 'x4', 'z4', 'x5', 'z5', 'x6', 'z6', 'z7', 'y8', 'x9', 'x1', 'z8', 'y9', 'x10', 'x11', 'x12'] Current Score: 0.875\n",
      "Added best feature: z9, Current feature list: ['x13', 'x2', 'x7', 'z10', 'z1', 'x8', 'x3', 'z2', 'z3', 'x4', 'z4', 'x5', 'z5', 'x6', 'z6', 'z7', 'y8', 'x9', 'x1', 'z8', 'y9', 'x10', 'x11', 'x12', 'z9'] Current Score: 0.875\n",
      "Added best feature: x14, Current feature list: ['x13', 'x2', 'x7', 'z10', 'z1', 'x8', 'x3', 'z2', 'z3', 'x4', 'z4', 'x5', 'z5', 'x6', 'z6', 'z7', 'y8', 'x9', 'x1', 'z8', 'y9', 'x10', 'x11', 'x12', 'z9', 'x14'] Current Score: 0.875\n",
      "Added best feature: x15, Current feature list: ['x13', 'x2', 'x7', 'z10', 'z1', 'x8', 'x3', 'z2', 'z3', 'x4', 'z4', 'x5', 'z5', 'x6', 'z6', 'z7', 'y8', 'x9', 'x1', 'z8', 'y9', 'x10', 'x11', 'x12', 'z9', 'x14', 'x15'] Current Score: 0.875\n",
      "Added best feature: x16, Current feature list: ['x13', 'x2', 'x7', 'z10', 'z1', 'x8', 'x3', 'z2', 'z3', 'x4', 'z4', 'x5', 'z5', 'x6', 'z6', 'z7', 'y8', 'x9', 'x1', 'z8', 'y9', 'x10', 'x11', 'x12', 'z9', 'x14', 'x15', 'x16'] Current Score: 0.875\n",
      "Added best feature: y5, Current feature list: ['x13', 'x2', 'x7', 'z10', 'z1', 'x8', 'x3', 'z2', 'z3', 'x4', 'z4', 'x5', 'z5', 'x6', 'z6', 'z7', 'y8', 'x9', 'x1', 'z8', 'y9', 'x10', 'x11', 'x12', 'z9', 'x14', 'x15', 'x16', 'y5'] Current Score: 0.875\n",
      "Added best feature: x17, Current feature list: ['x13', 'x2', 'x7', 'z10', 'z1', 'x8', 'x3', 'z2', 'z3', 'x4', 'z4', 'x5', 'z5', 'x6', 'z6', 'z7', 'y8', 'x9', 'x1', 'z8', 'y9', 'x10', 'x11', 'x12', 'z9', 'x14', 'x15', 'x16', 'y5', 'x17'] Current Score: 0.9166666666666666\n",
      "Added best feature: z11, Current feature list: ['x13', 'x2', 'x7', 'z10', 'z1', 'x8', 'x3', 'z2', 'z3', 'x4', 'z4', 'x5', 'z5', 'x6', 'z6', 'z7', 'y8', 'x9', 'x1', 'z8', 'y9', 'x10', 'x11', 'x12', 'z9', 'x14', 'x15', 'x16', 'y5', 'x17', 'z11'] Current Score: 0.9166666666666666\n",
      "Added best feature: z14, Current feature list: ['x13', 'x2', 'x7', 'z10', 'z1', 'x8', 'x3', 'z2', 'z3', 'x4', 'z4', 'x5', 'z5', 'x6', 'z6', 'z7', 'y8', 'x9', 'x1', 'z8', 'y9', 'x10', 'x11', 'x12', 'z9', 'x14', 'x15', 'x16', 'y5', 'x17', 'z11', 'z14'] Current Score: 0.9166666666666666\n",
      "Added best feature: z12, Current feature list: ['x13', 'x2', 'x7', 'z10', 'z1', 'x8', 'x3', 'z2', 'z3', 'x4', 'z4', 'x5', 'z5', 'x6', 'z6', 'z7', 'y8', 'x9', 'x1', 'z8', 'y9', 'x10', 'x11', 'x12', 'z9', 'x14', 'x15', 'x16', 'y5', 'x17', 'z11', 'z14', 'z12'] Current Score: 0.875\n",
      "Added best feature: z13, Current feature list: ['x13', 'x2', 'x7', 'z10', 'z1', 'x8', 'x3', 'z2', 'z3', 'x4', 'z4', 'x5', 'z5', 'x6', 'z6', 'z7', 'y8', 'x9', 'x1', 'z8', 'y9', 'x10', 'x11', 'x12', 'z9', 'x14', 'x15', 'x16', 'y5', 'x17', 'z11', 'z14', 'z12', 'z13'] Current Score: 0.875\n",
      "Added best feature: z15, Current feature list: ['x13', 'x2', 'x7', 'z10', 'z1', 'x8', 'x3', 'z2', 'z3', 'x4', 'z4', 'x5', 'z5', 'x6', 'z6', 'z7', 'y8', 'x9', 'x1', 'z8', 'y9', 'x10', 'x11', 'x12', 'z9', 'x14', 'x15', 'x16', 'y5', 'x17', 'z11', 'z14', 'z12', 'z13', 'z15'] Current Score: 0.875\n",
      "Added best feature: z18, Current feature list: ['x13', 'x2', 'x7', 'z10', 'z1', 'x8', 'x3', 'z2', 'z3', 'x4', 'z4', 'x5', 'z5', 'x6', 'z6', 'z7', 'y8', 'x9', 'x1', 'z8', 'y9', 'x10', 'x11', 'x12', 'z9', 'x14', 'x15', 'x16', 'y5', 'x17', 'z11', 'z14', 'z12', 'z13', 'z15', 'z18'] Current Score: 0.875\n",
      "Added best feature: y1, Current feature list: ['x13', 'x2', 'x7', 'z10', 'z1', 'x8', 'x3', 'z2', 'z3', 'x4', 'z4', 'x5', 'z5', 'x6', 'z6', 'z7', 'y8', 'x9', 'x1', 'z8', 'y9', 'x10', 'x11', 'x12', 'z9', 'x14', 'x15', 'x16', 'y5', 'x17', 'z11', 'z14', 'z12', 'z13', 'z15', 'z18', 'y1'] Current Score: 0.8333333333333334\n",
      "Added best feature: y2, Current feature list: ['x13', 'x2', 'x7', 'z10', 'z1', 'x8', 'x3', 'z2', 'z3', 'x4', 'z4', 'x5', 'z5', 'x6', 'z6', 'z7', 'y8', 'x9', 'x1', 'z8', 'y9', 'x10', 'x11', 'x12', 'z9', 'x14', 'x15', 'x16', 'y5', 'x17', 'z11', 'z14', 'z12', 'z13', 'z15', 'z18', 'y1', 'y2'] Current Score: 0.8333333333333334\n",
      "Added best feature: y13, Current feature list: ['x13', 'x2', 'x7', 'z10', 'z1', 'x8', 'x3', 'z2', 'z3', 'x4', 'z4', 'x5', 'z5', 'x6', 'z6', 'z7', 'y8', 'x9', 'x1', 'z8', 'y9', 'x10', 'x11', 'x12', 'z9', 'x14', 'x15', 'x16', 'y5', 'x17', 'z11', 'z14', 'z12', 'z13', 'z15', 'z18', 'y1', 'y2', 'y13'] Current Score: 0.875\n",
      "Added best feature: z16, Current feature list: ['x13', 'x2', 'x7', 'z10', 'z1', 'x8', 'x3', 'z2', 'z3', 'x4', 'z4', 'x5', 'z5', 'x6', 'z6', 'z7', 'y8', 'x9', 'x1', 'z8', 'y9', 'x10', 'x11', 'x12', 'z9', 'x14', 'x15', 'x16', 'y5', 'x17', 'z11', 'z14', 'z12', 'z13', 'z15', 'z18', 'y1', 'y2', 'y13', 'z16'] Current Score: 0.875\n",
      "Added best feature: z17, Current feature list: ['x13', 'x2', 'x7', 'z10', 'z1', 'x8', 'x3', 'z2', 'z3', 'x4', 'z4', 'x5', 'z5', 'x6', 'z6', 'z7', 'y8', 'x9', 'x1', 'z8', 'y9', 'x10', 'x11', 'x12', 'z9', 'x14', 'x15', 'x16', 'y5', 'x17', 'z11', 'z14', 'z12', 'z13', 'z15', 'z18', 'y1', 'y2', 'y13', 'z16', 'z17'] Current Score: 0.875\n",
      "Added best feature: z19, Current feature list: ['x13', 'x2', 'x7', 'z10', 'z1', 'x8', 'x3', 'z2', 'z3', 'x4', 'z4', 'x5', 'z5', 'x6', 'z6', 'z7', 'y8', 'x9', 'x1', 'z8', 'y9', 'x10', 'x11', 'x12', 'z9', 'x14', 'x15', 'x16', 'y5', 'x17', 'z11', 'z14', 'z12', 'z13', 'z15', 'z18', 'y1', 'y2', 'y13', 'z16', 'z17', 'z19'] Current Score: 0.875\n",
      "Added best feature: y3, Current feature list: ['x13', 'x2', 'x7', 'z10', 'z1', 'x8', 'x3', 'z2', 'z3', 'x4', 'z4', 'x5', 'z5', 'x6', 'z6', 'z7', 'y8', 'x9', 'x1', 'z8', 'y9', 'x10', 'x11', 'x12', 'z9', 'x14', 'x15', 'x16', 'y5', 'x17', 'z11', 'z14', 'z12', 'z13', 'z15', 'z18', 'y1', 'y2', 'y13', 'z16', 'z17', 'z19', 'y3'] Current Score: 0.8333333333333334\n",
      "Added best feature: y4, Current feature list: ['x13', 'x2', 'x7', 'z10', 'z1', 'x8', 'x3', 'z2', 'z3', 'x4', 'z4', 'x5', 'z5', 'x6', 'z6', 'z7', 'y8', 'x9', 'x1', 'z8', 'y9', 'x10', 'x11', 'x12', 'z9', 'x14', 'x15', 'x16', 'y5', 'x17', 'z11', 'z14', 'z12', 'z13', 'z15', 'z18', 'y1', 'y2', 'y13', 'z16', 'z17', 'z19', 'y3', 'y4'] Current Score: 0.8333333333333334\n",
      "Added best feature: y6, Current feature list: ['x13', 'x2', 'x7', 'z10', 'z1', 'x8', 'x3', 'z2', 'z3', 'x4', 'z4', 'x5', 'z5', 'x6', 'z6', 'z7', 'y8', 'x9', 'x1', 'z8', 'y9', 'x10', 'x11', 'x12', 'z9', 'x14', 'x15', 'x16', 'y5', 'x17', 'z11', 'z14', 'z12', 'z13', 'z15', 'z18', 'y1', 'y2', 'y13', 'z16', 'z17', 'z19', 'y3', 'y4', 'y6'] Current Score: 0.8333333333333334\n",
      "Added best feature: y7, Current feature list: ['x13', 'x2', 'x7', 'z10', 'z1', 'x8', 'x3', 'z2', 'z3', 'x4', 'z4', 'x5', 'z5', 'x6', 'z6', 'z7', 'y8', 'x9', 'x1', 'z8', 'y9', 'x10', 'x11', 'x12', 'z9', 'x14', 'x15', 'x16', 'y5', 'x17', 'z11', 'z14', 'z12', 'z13', 'z15', 'z18', 'y1', 'y2', 'y13', 'z16', 'z17', 'z19', 'y3', 'y4', 'y6', 'y7'] Current Score: 0.8333333333333334\n",
      "Added best feature: y10, Current feature list: ['x13', 'x2', 'x7', 'z10', 'z1', 'x8', 'x3', 'z2', 'z3', 'x4', 'z4', 'x5', 'z5', 'x6', 'z6', 'z7', 'y8', 'x9', 'x1', 'z8', 'y9', 'x10', 'x11', 'x12', 'z9', 'x14', 'x15', 'x16', 'y5', 'x17', 'z11', 'z14', 'z12', 'z13', 'z15', 'z18', 'y1', 'y2', 'y13', 'z16', 'z17', 'z19', 'y3', 'y4', 'y6', 'y7', 'y10'] Current Score: 0.8333333333333334\n",
      "Added best feature: y11, Current feature list: ['x13', 'x2', 'x7', 'z10', 'z1', 'x8', 'x3', 'z2', 'z3', 'x4', 'z4', 'x5', 'z5', 'x6', 'z6', 'z7', 'y8', 'x9', 'x1', 'z8', 'y9', 'x10', 'x11', 'x12', 'z9', 'x14', 'x15', 'x16', 'y5', 'x17', 'z11', 'z14', 'z12', 'z13', 'z15', 'z18', 'y1', 'y2', 'y13', 'z16', 'z17', 'z19', 'y3', 'y4', 'y6', 'y7', 'y10', 'y11'] Current Score: 0.8333333333333334\n",
      "Added best feature: y12, Current feature list: ['x13', 'x2', 'x7', 'z10', 'z1', 'x8', 'x3', 'z2', 'z3', 'x4', 'z4', 'x5', 'z5', 'x6', 'z6', 'z7', 'y8', 'x9', 'x1', 'z8', 'y9', 'x10', 'x11', 'x12', 'z9', 'x14', 'x15', 'x16', 'y5', 'x17', 'z11', 'z14', 'z12', 'z13', 'z15', 'z18', 'y1', 'y2', 'y13', 'z16', 'z17', 'z19', 'y3', 'y4', 'y6', 'y7', 'y10', 'y11', 'y12'] Current Score: 0.8333333333333334\n",
      "Added best feature: y14, Current feature list: ['x13', 'x2', 'x7', 'z10', 'z1', 'x8', 'x3', 'z2', 'z3', 'x4', 'z4', 'x5', 'z5', 'x6', 'z6', 'z7', 'y8', 'x9', 'x1', 'z8', 'y9', 'x10', 'x11', 'x12', 'z9', 'x14', 'x15', 'x16', 'y5', 'x17', 'z11', 'z14', 'z12', 'z13', 'z15', 'z18', 'y1', 'y2', 'y13', 'z16', 'z17', 'z19', 'y3', 'y4', 'y6', 'y7', 'y10', 'y11', 'y12', 'y14'] Current Score: 0.8333333333333334\n",
      "Added best feature: y15, Current feature list: ['x13', 'x2', 'x7', 'z10', 'z1', 'x8', 'x3', 'z2', 'z3', 'x4', 'z4', 'x5', 'z5', 'x6', 'z6', 'z7', 'y8', 'x9', 'x1', 'z8', 'y9', 'x10', 'x11', 'x12', 'z9', 'x14', 'x15', 'x16', 'y5', 'x17', 'z11', 'z14', 'z12', 'z13', 'z15', 'z18', 'y1', 'y2', 'y13', 'z16', 'z17', 'z19', 'y3', 'y4', 'y6', 'y7', 'y10', 'y11', 'y12', 'y14', 'y15'] Current Score: 0.8333333333333334\n",
      "Added best feature: y16, Current feature list: ['x13', 'x2', 'x7', 'z10', 'z1', 'x8', 'x3', 'z2', 'z3', 'x4', 'z4', 'x5', 'z5', 'x6', 'z6', 'z7', 'y8', 'x9', 'x1', 'z8', 'y9', 'x10', 'x11', 'x12', 'z9', 'x14', 'x15', 'x16', 'y5', 'x17', 'z11', 'z14', 'z12', 'z13', 'z15', 'z18', 'y1', 'y2', 'y13', 'z16', 'z17', 'z19', 'y3', 'y4', 'y6', 'y7', 'y10', 'y11', 'y12', 'y14', 'y15', 'y16'] Current Score: 0.8333333333333334\n",
      "Added best feature: y17, Current feature list: ['x13', 'x2', 'x7', 'z10', 'z1', 'x8', 'x3', 'z2', 'z3', 'x4', 'z4', 'x5', 'z5', 'x6', 'z6', 'z7', 'y8', 'x9', 'x1', 'z8', 'y9', 'x10', 'x11', 'x12', 'z9', 'x14', 'x15', 'x16', 'y5', 'x17', 'z11', 'z14', 'z12', 'z13', 'z15', 'z18', 'y1', 'y2', 'y13', 'z16', 'z17', 'z19', 'y3', 'y4', 'y6', 'y7', 'y10', 'y11', 'y12', 'y14', 'y15', 'y16', 'y17'] Current Score: 0.8333333333333334\n",
      "Added best feature: x18, Current feature list: ['x13', 'x2', 'x7', 'z10', 'z1', 'x8', 'x3', 'z2', 'z3', 'x4', 'z4', 'x5', 'z5', 'x6', 'z6', 'z7', 'y8', 'x9', 'x1', 'z8', 'y9', 'x10', 'x11', 'x12', 'z9', 'x14', 'x15', 'x16', 'y5', 'x17', 'z11', 'z14', 'z12', 'z13', 'z15', 'z18', 'y1', 'y2', 'y13', 'z16', 'z17', 'z19', 'y3', 'y4', 'y6', 'y7', 'y10', 'y11', 'y12', 'y14', 'y15', 'y16', 'y17', 'x18'] Current Score: 0.8333333333333334\n",
      "Added best feature: y18, Current feature list: ['x13', 'x2', 'x7', 'z10', 'z1', 'x8', 'x3', 'z2', 'z3', 'x4', 'z4', 'x5', 'z5', 'x6', 'z6', 'z7', 'y8', 'x9', 'x1', 'z8', 'y9', 'x10', 'x11', 'x12', 'z9', 'x14', 'x15', 'x16', 'y5', 'x17', 'z11', 'z14', 'z12', 'z13', 'z15', 'z18', 'y1', 'y2', 'y13', 'z16', 'z17', 'z19', 'y3', 'y4', 'y6', 'y7', 'y10', 'y11', 'y12', 'y14', 'y15', 'y16', 'y17', 'x18', 'y18'] Current Score: 0.8333333333333334\n",
      "Added best feature: x19, Current feature list: ['x13', 'x2', 'x7', 'z10', 'z1', 'x8', 'x3', 'z2', 'z3', 'x4', 'z4', 'x5', 'z5', 'x6', 'z6', 'z7', 'y8', 'x9', 'x1', 'z8', 'y9', 'x10', 'x11', 'x12', 'z9', 'x14', 'x15', 'x16', 'y5', 'x17', 'z11', 'z14', 'z12', 'z13', 'z15', 'z18', 'y1', 'y2', 'y13', 'z16', 'z17', 'z19', 'y3', 'y4', 'y6', 'y7', 'y10', 'y11', 'y12', 'y14', 'y15', 'y16', 'y17', 'x18', 'y18', 'x19'] Current Score: 0.8333333333333334\n",
      "Added best feature: y19, Current feature list: ['x13', 'x2', 'x7', 'z10', 'z1', 'x8', 'x3', 'z2', 'z3', 'x4', 'z4', 'x5', 'z5', 'x6', 'z6', 'z7', 'y8', 'x9', 'x1', 'z8', 'y9', 'x10', 'x11', 'x12', 'z9', 'x14', 'x15', 'x16', 'y5', 'x17', 'z11', 'z14', 'z12', 'z13', 'z15', 'z18', 'y1', 'y2', 'y13', 'z16', 'z17', 'z19', 'y3', 'y4', 'y6', 'y7', 'y10', 'y11', 'y12', 'y14', 'y15', 'y16', 'y17', 'x18', 'y18', 'x19', 'y19'] Current Score: 0.8333333333333334\n",
      "Added best feature: x20, Current feature list: ['x13', 'x2', 'x7', 'z10', 'z1', 'x8', 'x3', 'z2', 'z3', 'x4', 'z4', 'x5', 'z5', 'x6', 'z6', 'z7', 'y8', 'x9', 'x1', 'z8', 'y9', 'x10', 'x11', 'x12', 'z9', 'x14', 'x15', 'x16', 'y5', 'x17', 'z11', 'z14', 'z12', 'z13', 'z15', 'z18', 'y1', 'y2', 'y13', 'z16', 'z17', 'z19', 'y3', 'y4', 'y6', 'y7', 'y10', 'y11', 'y12', 'y14', 'y15', 'y16', 'y17', 'x18', 'y18', 'x19', 'y19', 'x20'] Current Score: 0.8333333333333334\n",
      "Added best feature: y20, Current feature list: ['x13', 'x2', 'x7', 'z10', 'z1', 'x8', 'x3', 'z2', 'z3', 'x4', 'z4', 'x5', 'z5', 'x6', 'z6', 'z7', 'y8', 'x9', 'x1', 'z8', 'y9', 'x10', 'x11', 'x12', 'z9', 'x14', 'x15', 'x16', 'y5', 'x17', 'z11', 'z14', 'z12', 'z13', 'z15', 'z18', 'y1', 'y2', 'y13', 'z16', 'z17', 'z19', 'y3', 'y4', 'y6', 'y7', 'y10', 'y11', 'y12', 'y14', 'y15', 'y16', 'y17', 'x18', 'y18', 'x19', 'y19', 'x20', 'y20'] Current Score: 0.8333333333333334\n",
      "Added best feature: z20, Current feature list: ['x13', 'x2', 'x7', 'z10', 'z1', 'x8', 'x3', 'z2', 'z3', 'x4', 'z4', 'x5', 'z5', 'x6', 'z6', 'z7', 'y8', 'x9', 'x1', 'z8', 'y9', 'x10', 'x11', 'x12', 'z9', 'x14', 'x15', 'x16', 'y5', 'x17', 'z11', 'z14', 'z12', 'z13', 'z15', 'z18', 'y1', 'y2', 'y13', 'z16', 'z17', 'z19', 'y3', 'y4', 'y6', 'y7', 'y10', 'y11', 'y12', 'y14', 'y15', 'y16', 'y17', 'x18', 'y18', 'x19', 'y19', 'x20', 'y20', 'z20'] Current Score: 0.8333333333333334\n",
      "Added best feature: z21, Current feature list: ['x13', 'x2', 'x7', 'z10', 'z1', 'x8', 'x3', 'z2', 'z3', 'x4', 'z4', 'x5', 'z5', 'x6', 'z6', 'z7', 'y8', 'x9', 'x1', 'z8', 'y9', 'x10', 'x11', 'x12', 'z9', 'x14', 'x15', 'x16', 'y5', 'x17', 'z11', 'z14', 'z12', 'z13', 'z15', 'z18', 'y1', 'y2', 'y13', 'z16', 'z17', 'z19', 'y3', 'y4', 'y6', 'y7', 'y10', 'y11', 'y12', 'y14', 'y15', 'y16', 'y17', 'x18', 'y18', 'x19', 'y19', 'x20', 'y20', 'z20', 'z21'] Current Score: 0.8333333333333334\n",
      "Added best feature: x21, Current feature list: ['x13', 'x2', 'x7', 'z10', 'z1', 'x8', 'x3', 'z2', 'z3', 'x4', 'z4', 'x5', 'z5', 'x6', 'z6', 'z7', 'y8', 'x9', 'x1', 'z8', 'y9', 'x10', 'x11', 'x12', 'z9', 'x14', 'x15', 'x16', 'y5', 'x17', 'z11', 'z14', 'z12', 'z13', 'z15', 'z18', 'y1', 'y2', 'y13', 'z16', 'z17', 'z19', 'y3', 'y4', 'y6', 'y7', 'y10', 'y11', 'y12', 'y14', 'y15', 'y16', 'y17', 'x18', 'y18', 'x19', 'y19', 'x20', 'y20', 'z20', 'z21', 'x21'] Current Score: 0.7916666666666666\n",
      "Added best feature: y21, Current feature list: ['x13', 'x2', 'x7', 'z10', 'z1', 'x8', 'x3', 'z2', 'z3', 'x4', 'z4', 'x5', 'z5', 'x6', 'z6', 'z7', 'y8', 'x9', 'x1', 'z8', 'y9', 'x10', 'x11', 'x12', 'z9', 'x14', 'x15', 'x16', 'y5', 'x17', 'z11', 'z14', 'z12', 'z13', 'z15', 'z18', 'y1', 'y2', 'y13', 'z16', 'z17', 'z19', 'y3', 'y4', 'y6', 'y7', 'y10', 'y11', 'y12', 'y14', 'y15', 'y16', 'y17', 'x18', 'y18', 'x19', 'y19', 'x20', 'y20', 'z20', 'z21', 'x21', 'y21'] Current Score: 0.7916666666666666\n",
      "Final features: ['x13', 'x2', 'x7', 'z10', 'z1', 'x8', 'x3', 'z2', 'z3', 'x4', 'z4', 'x5', 'z5', 'x6', 'z6', 'z7', 'y8', 'x9', 'x1', 'z8', 'y9', 'x10', 'x11', 'x12', 'z9', 'x14', 'x15', 'x16', 'y5', 'x17', 'z11', 'z14', 'z12', 'z13', 'z15', 'z18', 'y1', 'y2', 'y13', 'z16', 'z17', 'z19', 'y3', 'y4', 'y6', 'y7', 'y10', 'y11', 'y12', 'y14', 'y15', 'y16', 'y17', 'x18', 'y18', 'x19', 'y19', 'x20', 'y20', 'z20', 'z21', 'x21', 'y21'] Score: 0.7916666666666666\n"
     ]
    }
   ],
   "source": [
    "import pandas as pd\n",
    "import seaborn as sns\n",
    "import matplotlib.pyplot as plt\n",
    "from sklearn.neighbors import KNeighborsClassifier\n",
    "from sklearn.model_selection import train_test_split\n",
    "from sklearn.metrics import confusion_matrix, ConfusionMatrixDisplay\n",
    "\n",
    "df = pd.read_csv(\"data/cleanhands.csv\")\n",
    "all = df.loc[:, df.columns != \"label\"]\n",
    "selected = []\n",
    "to_add = len(all)\n",
    "y_train = df[\"label\"]\n",
    "scorelist = []\n",
    "\n",
    "model = KNeighborsClassifier(n_neighbors=13)\n",
    "# Perform forward selection\n",
    "while to_add > 0:\n",
    "    best_feature = None\n",
    "    best_score = 0\n",
    "    for feature in all:\n",
    "        if feature not in selected:\n",
    "            combined_features = selected + [feature]\n",
    "            X_train, X_test, y_train, y_test = train_test_split(df[combined_features], df[\"label\"], test_size= 0.2, random_state=5)\n",
    "            #print(combined_features)\n",
    "            model.fit(X_train, y_train)\n",
    "            model_score = model.score(X_test, y_test)\n",
    "            #print(\"Features:\", selected, \"+\", feature + \", Score:\", model_score)\n",
    "            if model_score > best_score:\n",
    "                best_score = model_score\n",
    "                best_feature = feature\n",
    "    \n",
    "    # Append best feature to model\n",
    "    if(not best_feature):\n",
    "        break\n",
    "       \n",
    "    \n",
    "    selected.append(best_feature)\n",
    "    print(\"Added best feature:\", best_feature + \", Current feature list:\", selected, \"Current Score:\", best_score)\n",
    "    scorelist.append(best_score)\n",
    "    to_add -= 1\n",
    "# Print final feature score\n",
    "X_train, X_test, y_train, y_test = train_test_split(df[combined_features], df[\"label\"], test_size= 0.2, random_state=5)\n",
    "model.fit(X_train, y_train)\n",
    "initial_score = model.score(X_test, y_test)\n",
    "\n",
    "print(\"Final features:\", selected, \"Score:\", initial_score)"
   ]
  },
  {
   "cell_type": "code",
   "execution_count": 10,
   "metadata": {},
   "outputs": [
    {
     "data": {
      "text/plain": [
       "0.9166666666666666"
      ]
     },
     "execution_count": 10,
     "metadata": {},
     "output_type": "execute_result"
    }
   ],
   "source": [
    "scorelist[31]"
   ]
  },
  {
   "cell_type": "code",
   "execution_count": 11,
   "metadata": {},
   "outputs": [
    {
     "data": {
      "text/plain": [
       "<matplotlib.collections.PathCollection at 0x286e53970>"
      ]
     },
     "execution_count": 11,
     "metadata": {},
     "output_type": "execute_result"
    },
    {
     "data": {
      "image/png": "[encoded data removed]",
      "text/plain": [
       "<Figure size 640x480 with 1 Axes>"
      ]
     },
     "metadata": {},
     "output_type": "display_data"
    }
   ],
   "source": [
    "plt.scatter(range(len(scorelist)),scorelist)"
   ]
  },
  {
   "cell_type": "code",
   "execution_count": 12,
   "metadata": {},
   "outputs": [],
   "source": [
    "X = df[selected[0:31]]\n",
    "y = df[\"label\"]\n",
    "X_train, X_test, y_train, y_test = train_test_split(X, y, test_size=0.2, random_state=5)"
   ]
  },
  {
   "cell_type": "code",
   "execution_count": 13,
   "metadata": {},
   "outputs": [
    {
     "name": "stderr",
     "output_type": "stream",
     "text": [
      "/Users/ericfeng/Desktop/CS_Projects/ASL_Recognition/ASL_Recognition/.venv/lib/python3.10/site-packages/sklearn/model_selection/_split.py:737: UserWarning: The least populated class in y has only 1 members, which is less than n_splits=5.\n",
      "  warnings.warn(\n",
      "/Users/ericfeng/Desktop/CS_Projects/ASL_Recognition/ASL_Recognition/.venv/lib/python3.10/site-packages/sklearn/model_selection/_split.py:737: UserWarning: The least populated class in y has only 1 members, which is less than n_splits=5.\n",
      "  warnings.warn(\n",
      "/Users/ericfeng/Desktop/CS_Projects/ASL_Recognition/ASL_Recognition/.venv/lib/python3.10/site-packages/sklearn/model_selection/_split.py:737: UserWarning: The least populated class in y has only 1 members, which is less than n_splits=5.\n",
      "  warnings.warn(\n",
      "/Users/ericfeng/Desktop/CS_Projects/ASL_Recognition/ASL_Recognition/.venv/lib/python3.10/site-packages/sklearn/model_selection/_split.py:737: UserWarning: The least populated class in y has only 1 members, which is less than n_splits=5.\n",
      "  warnings.warn(\n",
      "/Users/ericfeng/Desktop/CS_Projects/ASL_Recognition/ASL_Recognition/.venv/lib/python3.10/site-packages/sklearn/model_selection/_split.py:737: UserWarning: The least populated class in y has only 1 members, which is less than n_splits=5.\n",
      "  warnings.warn(\n",
      "/Users/ericfeng/Desktop/CS_Projects/ASL_Recognition/ASL_Recognition/.venv/lib/python3.10/site-packages/sklearn/model_selection/_split.py:737: UserWarning: The least populated class in y has only 1 members, which is less than n_splits=5.\n",
      "  warnings.warn(\n",
      "/Users/ericfeng/Desktop/CS_Projects/ASL_Recognition/ASL_Recognition/.venv/lib/python3.10/site-packages/sklearn/model_selection/_split.py:737: UserWarning: The least populated class in y has only 1 members, which is less than n_splits=5.\n",
      "  warnings.warn(\n",
      "/Users/ericfeng/Desktop/CS_Projects/ASL_Recognition/ASL_Recognition/.venv/lib/python3.10/site-packages/sklearn/model_selection/_split.py:737: UserWarning: The least populated class in y has only 1 members, which is less than n_splits=5.\n",
      "  warnings.warn(\n",
      "/Users/ericfeng/Desktop/CS_Projects/ASL_Recognition/ASL_Recognition/.venv/lib/python3.10/site-packages/sklearn/model_selection/_split.py:737: UserWarning: The least populated class in y has only 1 members, which is less than n_splits=5.\n",
      "  warnings.warn(\n",
      "/Users/ericfeng/Desktop/CS_Projects/ASL_Recognition/ASL_Recognition/.venv/lib/python3.10/site-packages/sklearn/model_selection/_split.py:737: UserWarning: The least populated class in y has only 1 members, which is less than n_splits=5.\n",
      "  warnings.warn(\n",
      "/Users/ericfeng/Desktop/CS_Projects/ASL_Recognition/ASL_Recognition/.venv/lib/python3.10/site-packages/sklearn/model_selection/_split.py:737: UserWarning: The least populated class in y has only 1 members, which is less than n_splits=5.\n",
      "  warnings.warn(\n",
      "/Users/ericfeng/Desktop/CS_Projects/ASL_Recognition/ASL_Recognition/.venv/lib/python3.10/site-packages/sklearn/model_selection/_split.py:737: UserWarning: The least populated class in y has only 1 members, which is less than n_splits=5.\n",
      "  warnings.warn(\n",
      "/Users/ericfeng/Desktop/CS_Projects/ASL_Recognition/ASL_Recognition/.venv/lib/python3.10/site-packages/sklearn/model_selection/_split.py:737: UserWarning: The least populated class in y has only 1 members, which is less than n_splits=5.\n",
      "  warnings.warn(\n",
      "/Users/ericfeng/Desktop/CS_Projects/ASL_Recognition/ASL_Recognition/.venv/lib/python3.10/site-packages/sklearn/model_selection/_split.py:737: UserWarning: The least populated class in y has only 1 members, which is less than n_splits=5.\n",
      "  warnings.warn(\n",
      "/Users/ericfeng/Desktop/CS_Projects/ASL_Recognition/ASL_Recognition/.venv/lib/python3.10/site-packages/sklearn/model_selection/_split.py:737: UserWarning: The least populated class in y has only 1 members, which is less than n_splits=5.\n",
      "  warnings.warn(\n"
     ]
    }
   ],
   "source": [
    "k_values = list(range(1,30,2))\n",
    "\n",
    "# Initiallize an empty list for our scores\n",
    "cv_scores = []\n",
    "\n",
    "#Perform 5-fold cross validation\n",
    "for k in k_values:\n",
    "    model = KNeighborsClassifier(n_neighbors=k)\n",
    "    scores = cross_val_score(model, X_train, y_train,cv =5, scoring = \"accuracy\")\n",
    "    # print(scores)\n",
    "    cv_scores.append(scores.mean())"
   ]
  },
  {
   "cell_type": "code",
   "execution_count": 14,
   "metadata": {},
   "outputs": [
    {
     "data": {
      "image/png": "[encoded data removed]",
      "text/plain": [
       "<Figure size 640x480 with 1 Axes>"
      ]
     },
     "metadata": {},
     "output_type": "display_data"
    }
   ],
   "source": [
    "sns.lineplot(x=k_values, y=cv_scores, marker='o')\n",
    "plt.title('Accuracy vs. K')\n",
    "plt.xlabel('Number of Neighbors (K)')\n",
    "plt.ylabel('Accuracy')\n",
    "plt.xticks(k_values)\n",
    "plt.grid(True)"
   ]
  },
  {
   "cell_type": "code",
   "execution_count": 15,
   "metadata": {},
   "outputs": [
    {
     "name": "stderr",
     "output_type": "stream",
     "text": [
      "/Users/ericfeng/Desktop/CS_Projects/ASL_Recognition/ASL_Recognition/.venv/lib/python3.10/site-packages/sklearn/model_selection/_split.py:737: UserWarning: The least populated class in y has only 1 members, which is less than n_splits=5.\n",
      "  warnings.warn(\n"
     ]
    },
    {
     "data": {
      "text/plain": [
       "0.9023391812865498"
      ]
     },
     "execution_count": 15,
     "metadata": {},
     "output_type": "execute_result"
    }
   ],
   "source": [
    "X = df[selected[0:31]]\n",
    "y = df[\"label\"]\n",
    "X_train, X_test, y_train, y_test = train_test_split(X, y, test_size=0.2, random_state=5)\n",
    "model = KNeighborsClassifier(n_neighbors=9)\n",
    "model = model.fit(X_train, y_train)\n",
    "scores = cross_val_score(model, X_train, y_train,cv =5, scoring = \"accuracy\")\n",
    "scores.mean()"
   ]
  },
  {
   "cell_type": "code",
   "execution_count": 16,
   "metadata": {},
   "outputs": [
    {
     "data": {
      "text/plain": [
       "array(['a', 'a', 'a', 'a', 'a'], dtype=object)"
      ]
     },
     "execution_count": 16,
     "metadata": {},
     "output_type": "execute_result"
    }
   ],
   "source": [
    "something_test = pd.read_csv(\"data/acquired_data/a.csv\")\n",
    "something_else = something_test.loc[:,list(X_train.columns)]\n",
    "model.predict(something_else)\n"
   ]
  },
  {
   "cell_type": "code",
   "execution_count": null,
   "metadata": {},
   "outputs": [],
   "source": []
  }
 ],
 "metadata": {
  "kernelspec": {
   "display_name": ".venv",
   "language": "python",
   "name": "python3"
  },
  "language_info": {
   "codemirror_mode": {
    "name": "ipython",
    "version": 3
   },
   "file_extension": ".py",
   "mimetype": "text/x-python",
   "name": "python",
   "nbconvert_exporter": "python",
   "pygments_lexer": "ipython3",
   "version": "3.10.7"
  }
 },
 "nbformat": 4,
 "nbformat_minor": 2
}
