{
 "cells": [
  {
   "cell_type": "code",
   "execution_count": 2,
   "metadata": {},
   "outputs": [],
   "source": [
    "import os\n",
    "import mediapipe as mp\n",
    "from mediapipe import solutions\n",
    "from mediapipe.framework.formats import landmark_pb2\n",
    "import cv2\n",
    "import random\n",
    "import time\n",
    "from PIL import Image\n",
    "import pandas as pd\n",
    "from sklearn.neighbors import KNeighborsClassifier\n",
    "from sklearn.model_selection import train_test_split, cross_val_score\n",
    "import seaborn as sns\n",
    "import matplotlib.pyplot as plt"
   ]
  },
  {
   "cell_type": "code",
   "execution_count": 3,
   "metadata": {},
   "outputs": [],
   "source": [
    "# Library Constants\n",
    "BaseOptions = mp.tasks.BaseOptions\n",
    "HandLandmarker = mp.tasks.vision.HandLandmarker\n",
    "HandLandmarkPoints = mp.solutions.hands.HandLandmark\n",
    "HandLandmarkerOptions = mp.tasks.vision.HandLandmarkerOptions\n",
    "VisionRunningMode = mp.tasks.vision.RunningMode\n",
    "DrawingUtil = mp.solutions.drawing_utils"
   ]
  },
  {
   "cell_type": "code",
   "execution_count": 4,
   "metadata": {},
   "outputs": [],
   "source": [
    "# base_options = BaseOptions(model_asset_path='data/hand_landmarker.task')\n",
    "# options = HandLandmarkerOptions(base_options=base_options,\n",
    "#                                         num_hands=2)\n",
    "\n",
    "# detector = HandLandmarker.create_from_options(options)\n",
    "# def convert_detection_result(detection_result, image):\n",
    "#         \"\"\"\n",
    "#         Draws all the landmarks on the hand\n",
    "#         Args:\n",
    "#             image (Image): Image to draw on\n",
    "#             detection_result (HandLandmarkerResult): HandLandmarker detection results\n",
    "#         \"\"\"\n",
    "#         # Get a list of the landmarks\n",
    "#         hand_landmarks_list = detection_result.hand_landmarks\n",
    "        \n",
    "#         # Loop through the detected hands to visualize.\n",
    "#         listofpoints = []\n",
    "#         for idx in range(len(hand_landmarks_list)):\n",
    "#             hand_landmarks = hand_landmarks_list[idx]\n",
    "#             for landmark in hand_landmarks:\n",
    "#                   listofpoints.append(landmark.x)\n",
    "#                   listofpoints.append(landmark.y)\n",
    "#                   listofpoints.append(landmark.z)\n",
    "        \n",
    "\n",
    "#         return \"Nothing Here\""
   ]
  },
  {
   "cell_type": "code",
   "execution_count": 5,
   "metadata": {},
   "outputs": [
    {
     "name": "stderr",
     "output_type": "stream",
     "text": [
      "WARNING: All log messages before absl::InitializeLog() is called are written to STDERR\n",
      "I0000 00:00:1714958009.698945       1 gl_context.cc:344] GL version: 2.1 (2.1 Metal - 88), renderer: Apple M1\n",
      "INFO: Created TensorFlow Lite XNNPACK delegate for CPU.\n"
     ]
    }
   ],
   "source": [
    "import cv2\n",
    "import mediapipe as mp\n",
    "mp_drawing = mp.solutions.drawing_utils\n",
    "mp_hands = mp.solutions.hands\n",
    "\n",
    "base_options = BaseOptions(model_asset_path='data/hand_landmarker.task')\n",
    "options = HandLandmarkerOptions(base_options=base_options,\n",
    "                                        num_hands=2)\n",
    "\n",
    "detector = HandLandmarker.create_from_options(options)\n",
    "def convert_detection_result(detection_result, image):\n",
    "        \"\"\"\n",
    "        Draws all the landmarks on the hand\n",
    "        Args:\n",
    "            image (Image): Image to draw on\n",
    "            detection_result (HandLandmarkerResult): HandLandmarker detection results\n",
    "        \"\"\"\n",
    "        # Get a list of the landmarks\n",
    "        hand_landmarks_list = detection_result.hand_landmarks\n",
    "        \n",
    "        for idx in range(len(hand_landmarks_list)):\n",
    "            #NOTE this only works for one hand\n",
    "            listofpointstoreturn = []\n",
    "            hand_landmarks = hand_landmarks_list[idx]\n",
    "\n",
    "            # Save the landmarks into a NormalizedLandmarkList\n",
    "            hand_landmarks_proto = landmark_pb2.NormalizedLandmarkList()\n",
    "            hand_landmarks_proto.landmark.extend([\n",
    "            landmark_pb2.NormalizedLandmark(x=landmark.x, y=landmark.y, z=landmark.z) for landmark in hand_landmarks\n",
    "            ])\n",
    "            # results = mp_hands.Hands.process(image = image)\n",
    "\n",
    "            if hand_landmarks:\n",
    "                for landmrk in hand_landmarks:\n",
    "                    # for ids, landmrk in enumerate(hand_landmarks.landmark):\n",
    "                        # print(ids, landmrk)\n",
    "                    listofpointstoreturn.append(landmrk.x)\n",
    "                    listofpointstoreturn.append(landmrk.y)\n",
    "                    listofpointstoreturn.append(landmrk.z)\n",
    "                return listofpointstoreturn\n",
    "        \n",
    "        return \"Nothing Here\""
   ]
  },
  {
   "cell_type": "code",
   "execution_count": 6,
   "metadata": {},
   "outputs": [],
   "source": [
    "def returndatapoints(image):\n",
    "    to_detect = mp.Image(image_format=mp.ImageFormat.SRGB, data=image)\n",
    "    results = detector.detect(to_detect)            \n",
    "    # Draw the hand landmarks\n",
    "    points = convert_detection_result(results, image)\n",
    "    if points == \"Nothing Here\":\n",
    "        border_size = 150\n",
    "        frame = cv2.copyMakeBorder(image, top=border_size, \n",
    "                                bottom=border_size, left=border_size, \n",
    "                                right=border_size,\n",
    "                                borderType=cv2.BORDER_CONSTANT, \n",
    "                                value=[0, 0, 0]\n",
    "        )\n",
    "        to_detect = mp.Image(image_format=mp.ImageFormat.SRGB, data=frame)\n",
    "        results = detector.detect(to_detect) \n",
    "        points = convert_detection_result(results, frame)\n",
    "    return points\n"
   ]
  },
  {
   "cell_type": "code",
   "execution_count": 7,
   "metadata": {},
   "outputs": [
    {
     "data": {
      "text/plain": [
       "63"
      ]
     },
     "execution_count": 7,
     "metadata": {},
     "output_type": "execute_result"
    }
   ],
   "source": [
    "\n",
    "file_path = \"data/raw_asl_hands/c/hand2_c_dif_seg_2_cropped.jpeg\"\n",
    "img = cv2.imread(file_path)\n",
    "len(returndatapoints(image = img))\n",
    "#Planning on seperating the xyz coordinates into seperate columns\n"
   ]
  },
  {
   "cell_type": "code",
   "execution_count": 7,
   "metadata": {},
   "outputs": [],
   "source": [
    "twodarray = []\n",
    "dfcolnames = []\n",
    "for i in range(1,22):\n",
    "    for j in [\"x\",\"y\",\"z\"]:\n",
    "        dfcolnames.append(j+str(i))\n",
    "dfcolnames.append(\"label\")\n",
    "\n",
    "# Iterates over every file in the raw_asl_hands folder\n",
    "for folder in [\"a\",\"b\",\"c\",\"d\",\"e\",\"f\",\"g\",\"h\",\"i\",\"j\",\n",
    "               \"k\",\"l\",\"m\",\"n\",\"o\",\"p\",\"q\",\"r\",\"s\",\"t\",\n",
    "               \"u\",\"v\",\"w\",\"x\",\"y\",\"z\"]:\n",
    "    directory = 'data/raw_asl_hands/' + folder + \"/\"\n",
    "    # Iterate over files in\n",
    "    # that directory\n",
    "    for filename in os.listdir(directory):\n",
    "        f = os.path.join(directory, filename)\n",
    "        # Checking if it is a file\n",
    "        if os.path.isfile(f):\n",
    "            file_path = directory + filename\n",
    "            #print(file_path)\n",
    "            img = cv2.imread(file_path)\n",
    "            #print(returndatapoints(image = img))\n",
    "            goodvarname = returndatapoints(img)\n",
    "            if goodvarname != \"Nothing Here\" and len(goodvarname) == 63:\n",
    "                goodvarname.append(folder)\n",
    "                twodarray.append(goodvarname)\n",
    "\n",
    "\n",
    "df = pd.DataFrame(twodarray, columns = dfcolnames)\n",
    "#print(dfcolnames)\n",
    "                \n",
    "\n"
   ]
  },
  {
   "cell_type": "code",
   "execution_count": 7,
   "metadata": {},
   "outputs": [],
   "source": [
    "#df.to_csv('data/cleanhands.csv', index=False) "
   ]
  },
  {
   "cell_type": "code",
   "execution_count": 8,
   "metadata": {},
   "outputs": [
    {
     "data": {
      "text/plain": [
       "label\n",
       "l    28\n",
       "a    20\n",
       "k    19\n",
       "p    11\n",
       "y    10\n",
       "h     9\n",
       "t     8\n",
       "c     7\n",
       "b     2\n",
       "r     1\n",
       "z     1\n",
       "Name: count, dtype: int64"
      ]
     },
     "execution_count": 8,
     "metadata": {},
     "output_type": "execute_result"
    }
   ],
   "source": [
    "df[\"label\"].value_counts()"
   ]
  },
  {
   "cell_type": "code",
   "execution_count": null,
   "metadata": {},
   "outputs": [],
   "source": []
  },
  {
   "cell_type": "code",
   "execution_count": 25,
   "metadata": {},
   "outputs": [
    {
     "name": "stdout",
     "output_type": "stream",
     "text": [
      "Added best feature: y17, Current feature list: ['y17'] Current Score: 0.3541666666666667\n",
      "Added best feature: x7, Current feature list: ['y17', 'x7'] Current Score: 0.5416666666666666\n",
      "Added best feature: x1, Current feature list: ['y17', 'x7', 'x1'] Current Score: 0.6666666666666666\n",
      "Added best feature: x5, Current feature list: ['y17', 'x7', 'x1', 'x5'] Current Score: 0.7291666666666666\n",
      "Added best feature: x6, Current feature list: ['y17', 'x7', 'x1', 'x5', 'x6'] Current Score: 0.7604166666666666\n",
      "Added best feature: z1, Current feature list: ['y17', 'x7', 'x1', 'x5', 'x6', 'z1'] Current Score: 0.7604166666666666\n",
      "Added best feature: x3, Current feature list: ['y17', 'x7', 'x1', 'x5', 'x6', 'z1', 'x3'] Current Score: 0.7604166666666666\n",
      "Added best feature: y21, Current feature list: ['y17', 'x7', 'x1', 'x5', 'x6', 'z1', 'x3', 'y21'] Current Score: 0.78125\n",
      "Added best feature: z7, Current feature list: ['y17', 'x7', 'x1', 'x5', 'x6', 'z1', 'x3', 'y21', 'z7'] Current Score: 0.7916666666666666\n",
      "Added best feature: x10, Current feature list: ['y17', 'x7', 'x1', 'x5', 'x6', 'z1', 'x3', 'y21', 'z7', 'x10'] Current Score: 0.78125\n",
      "Added best feature: z2, Current feature list: ['y17', 'x7', 'x1', 'x5', 'x6', 'z1', 'x3', 'y21', 'z7', 'x10', 'z2'] Current Score: 0.78125\n",
      "Added best feature: x16, Current feature list: ['y17', 'x7', 'x1', 'x5', 'x6', 'z1', 'x3', 'y21', 'z7', 'x10', 'z2', 'x16'] Current Score: 0.78125\n",
      "Added best feature: z5, Current feature list: ['y17', 'x7', 'x1', 'x5', 'x6', 'z1', 'x3', 'y21', 'z7', 'x10', 'z2', 'x16', 'z5'] Current Score: 0.78125\n",
      "Added best feature: x2, Current feature list: ['y17', 'x7', 'x1', 'x5', 'x6', 'z1', 'x3', 'y21', 'z7', 'x10', 'z2', 'x16', 'z5', 'x2'] Current Score: 0.7916666666666666\n",
      "Added best feature: z3, Current feature list: ['y17', 'x7', 'x1', 'x5', 'x6', 'z1', 'x3', 'y21', 'z7', 'x10', 'z2', 'x16', 'z5', 'x2', 'z3'] Current Score: 0.7916666666666666\n",
      "Added best feature: x14, Current feature list: ['y17', 'x7', 'x1', 'x5', 'x6', 'z1', 'x3', 'y21', 'z7', 'x10', 'z2', 'x16', 'z5', 'x2', 'z3', 'x14'] Current Score: 0.7916666666666666\n",
      "Added best feature: z9, Current feature list: ['y17', 'x7', 'x1', 'x5', 'x6', 'z1', 'x3', 'y21', 'z7', 'x10', 'z2', 'x16', 'z5', 'x2', 'z3', 'x14', 'z9'] Current Score: 0.78125\n",
      "Added best feature: x17, Current feature list: ['y17', 'x7', 'x1', 'x5', 'x6', 'z1', 'x3', 'y21', 'z7', 'x10', 'z2', 'x16', 'z5', 'x2', 'z3', 'x14', 'z9', 'x17'] Current Score: 0.7916666666666666\n",
      "Added best feature: z6, Current feature list: ['y17', 'x7', 'x1', 'x5', 'x6', 'z1', 'x3', 'y21', 'z7', 'x10', 'z2', 'x16', 'z5', 'x2', 'z3', 'x14', 'z9', 'x17', 'z6'] Current Score: 0.7916666666666666\n",
      "Added best feature: x4, Current feature list: ['y17', 'x7', 'x1', 'x5', 'x6', 'z1', 'x3', 'y21', 'z7', 'x10', 'z2', 'x16', 'z5', 'x2', 'z3', 'x14', 'z9', 'x17', 'z6', 'x4'] Current Score: 0.78125\n",
      "Added best feature: z10, Current feature list: ['y17', 'x7', 'x1', 'x5', 'x6', 'z1', 'x3', 'y21', 'z7', 'x10', 'z2', 'x16', 'z5', 'x2', 'z3', 'x14', 'z9', 'x17', 'z6', 'x4', 'z10'] Current Score: 0.7708333333333334\n",
      "Added best feature: x19, Current feature list: ['y17', 'x7', 'x1', 'x5', 'x6', 'z1', 'x3', 'y21', 'z7', 'x10', 'z2', 'x16', 'z5', 'x2', 'z3', 'x14', 'z9', 'x17', 'z6', 'x4', 'z10', 'x19'] Current Score: 0.7708333333333334\n",
      "Added best feature: x13, Current feature list: ['y17', 'x7', 'x1', 'x5', 'x6', 'z1', 'x3', 'y21', 'z7', 'x10', 'z2', 'x16', 'z5', 'x2', 'z3', 'x14', 'z9', 'x17', 'z6', 'x4', 'z10', 'x19', 'x13'] Current Score: 0.7708333333333334\n",
      "Added best feature: z15, Current feature list: ['y17', 'x7', 'x1', 'x5', 'x6', 'z1', 'x3', 'y21', 'z7', 'x10', 'z2', 'x16', 'z5', 'x2', 'z3', 'x14', 'z9', 'x17', 'z6', 'x4', 'z10', 'x19', 'x13', 'z15'] Current Score: 0.78125\n",
      "Added best feature: x18, Current feature list: ['y17', 'x7', 'x1', 'x5', 'x6', 'z1', 'x3', 'y21', 'z7', 'x10', 'z2', 'x16', 'z5', 'x2', 'z3', 'x14', 'z9', 'x17', 'z6', 'x4', 'z10', 'x19', 'x13', 'z15', 'x18'] Current Score: 0.78125\n",
      "Added best feature: x12, Current feature list: ['y17', 'x7', 'x1', 'x5', 'x6', 'z1', 'x3', 'y21', 'z7', 'x10', 'z2', 'x16', 'z5', 'x2', 'z3', 'x14', 'z9', 'x17', 'z6', 'x4', 'z10', 'x19', 'x13', 'z15', 'x18', 'x12'] Current Score: 0.78125\n",
      "Added best feature: x8, Current feature list: ['y17', 'x7', 'x1', 'x5', 'x6', 'z1', 'x3', 'y21', 'z7', 'x10', 'z2', 'x16', 'z5', 'x2', 'z3', 'x14', 'z9', 'x17', 'z6', 'x4', 'z10', 'x19', 'x13', 'z15', 'x18', 'x12', 'x8'] Current Score: 0.7708333333333334\n",
      "Added best feature: z14, Current feature list: ['y17', 'x7', 'x1', 'x5', 'x6', 'z1', 'x3', 'y21', 'z7', 'x10', 'z2', 'x16', 'z5', 'x2', 'z3', 'x14', 'z9', 'x17', 'z6', 'x4', 'z10', 'x19', 'x13', 'z15', 'x18', 'x12', 'x8', 'z14'] Current Score: 0.7708333333333334\n",
      "Added best feature: z8, Current feature list: ['y17', 'x7', 'x1', 'x5', 'x6', 'z1', 'x3', 'y21', 'z7', 'x10', 'z2', 'x16', 'z5', 'x2', 'z3', 'x14', 'z9', 'x17', 'z6', 'x4', 'z10', 'x19', 'x13', 'z15', 'x18', 'x12', 'x8', 'z14', 'z8'] Current Score: 0.7708333333333334\n",
      "Added best feature: z11, Current feature list: ['y17', 'x7', 'x1', 'x5', 'x6', 'z1', 'x3', 'y21', 'z7', 'x10', 'z2', 'x16', 'z5', 'x2', 'z3', 'x14', 'z9', 'x17', 'z6', 'x4', 'z10', 'x19', 'x13', 'z15', 'x18', 'x12', 'x8', 'z14', 'z8', 'z11'] Current Score: 0.78125\n",
      "Added best feature: z18, Current feature list: ['y17', 'x7', 'x1', 'x5', 'x6', 'z1', 'x3', 'y21', 'z7', 'x10', 'z2', 'x16', 'z5', 'x2', 'z3', 'x14', 'z9', 'x17', 'z6', 'x4', 'z10', 'x19', 'x13', 'z15', 'x18', 'x12', 'x8', 'z14', 'z8', 'z11', 'z18'] Current Score: 0.78125\n",
      "Added best feature: z20, Current feature list: ['y17', 'x7', 'x1', 'x5', 'x6', 'z1', 'x3', 'y21', 'z7', 'x10', 'z2', 'x16', 'z5', 'x2', 'z3', 'x14', 'z9', 'x17', 'z6', 'x4', 'z10', 'x19', 'x13', 'z15', 'x18', 'x12', 'x8', 'z14', 'z8', 'z11', 'z18', 'z20'] Current Score: 0.78125\n",
      "Added best feature: x11, Current feature list: ['y17', 'x7', 'x1', 'x5', 'x6', 'z1', 'x3', 'y21', 'z7', 'x10', 'z2', 'x16', 'z5', 'x2', 'z3', 'x14', 'z9', 'x17', 'z6', 'x4', 'z10', 'x19', 'x13', 'z15', 'x18', 'x12', 'x8', 'z14', 'z8', 'z11', 'z18', 'z20', 'x11'] Current Score: 0.7604166666666666\n",
      "Added best feature: z19, Current feature list: ['y17', 'x7', 'x1', 'x5', 'x6', 'z1', 'x3', 'y21', 'z7', 'x10', 'z2', 'x16', 'z5', 'x2', 'z3', 'x14', 'z9', 'x17', 'z6', 'x4', 'z10', 'x19', 'x13', 'z15', 'x18', 'x12', 'x8', 'z14', 'z8', 'z11', 'z18', 'z20', 'x11', 'z19'] Current Score: 0.7604166666666666\n",
      "Added best feature: z4, Current feature list: ['y17', 'x7', 'x1', 'x5', 'x6', 'z1', 'x3', 'y21', 'z7', 'x10', 'z2', 'x16', 'z5', 'x2', 'z3', 'x14', 'z9', 'x17', 'z6', 'x4', 'z10', 'x19', 'x13', 'z15', 'x18', 'x12', 'x8', 'z14', 'z8', 'z11', 'z18', 'z20', 'x11', 'z19', 'z4'] Current Score: 0.75\n",
      "Added best feature: x9, Current feature list: ['y17', 'x7', 'x1', 'x5', 'x6', 'z1', 'x3', 'y21', 'z7', 'x10', 'z2', 'x16', 'z5', 'x2', 'z3', 'x14', 'z9', 'x17', 'z6', 'x4', 'z10', 'x19', 'x13', 'z15', 'x18', 'x12', 'x8', 'z14', 'z8', 'z11', 'z18', 'z20', 'x11', 'z19', 'z4', 'x9'] Current Score: 0.75\n",
      "Added best feature: z12, Current feature list: ['y17', 'x7', 'x1', 'x5', 'x6', 'z1', 'x3', 'y21', 'z7', 'x10', 'z2', 'x16', 'z5', 'x2', 'z3', 'x14', 'z9', 'x17', 'z6', 'x4', 'z10', 'x19', 'x13', 'z15', 'x18', 'x12', 'x8', 'z14', 'z8', 'z11', 'z18', 'z20', 'x11', 'z19', 'z4', 'x9', 'z12'] Current Score: 0.75\n",
      "Added best feature: z21, Current feature list: ['y17', 'x7', 'x1', 'x5', 'x6', 'z1', 'x3', 'y21', 'z7', 'x10', 'z2', 'x16', 'z5', 'x2', 'z3', 'x14', 'z9', 'x17', 'z6', 'x4', 'z10', 'x19', 'x13', 'z15', 'x18', 'x12', 'x8', 'z14', 'z8', 'z11', 'z18', 'z20', 'x11', 'z19', 'z4', 'x9', 'z12', 'z21'] Current Score: 0.75\n",
      "Added best feature: z16, Current feature list: ['y17', 'x7', 'x1', 'x5', 'x6', 'z1', 'x3', 'y21', 'z7', 'x10', 'z2', 'x16', 'z5', 'x2', 'z3', 'x14', 'z9', 'x17', 'z6', 'x4', 'z10', 'x19', 'x13', 'z15', 'x18', 'x12', 'x8', 'z14', 'z8', 'z11', 'z18', 'z20', 'x11', 'z19', 'z4', 'x9', 'z12', 'z21', 'z16'] Current Score: 0.75\n",
      "Added best feature: z13, Current feature list: ['y17', 'x7', 'x1', 'x5', 'x6', 'z1', 'x3', 'y21', 'z7', 'x10', 'z2', 'x16', 'z5', 'x2', 'z3', 'x14', 'z9', 'x17', 'z6', 'x4', 'z10', 'x19', 'x13', 'z15', 'x18', 'x12', 'x8', 'z14', 'z8', 'z11', 'z18', 'z20', 'x11', 'z19', 'z4', 'x9', 'z12', 'z21', 'z16', 'z13'] Current Score: 0.7395833333333334\n",
      "Added best feature: y9, Current feature list: ['y17', 'x7', 'x1', 'x5', 'x6', 'z1', 'x3', 'y21', 'z7', 'x10', 'z2', 'x16', 'z5', 'x2', 'z3', 'x14', 'z9', 'x17', 'z6', 'x4', 'z10', 'x19', 'x13', 'z15', 'x18', 'x12', 'x8', 'z14', 'z8', 'z11', 'z18', 'z20', 'x11', 'z19', 'z4', 'x9', 'z12', 'z21', 'z16', 'z13', 'y9'] Current Score: 0.7395833333333334\n",
      "Added best feature: y2, Current feature list: ['y17', 'x7', 'x1', 'x5', 'x6', 'z1', 'x3', 'y21', 'z7', 'x10', 'z2', 'x16', 'z5', 'x2', 'z3', 'x14', 'z9', 'x17', 'z6', 'x4', 'z10', 'x19', 'x13', 'z15', 'x18', 'x12', 'x8', 'z14', 'z8', 'z11', 'z18', 'z20', 'x11', 'z19', 'z4', 'x9', 'z12', 'z21', 'z16', 'z13', 'y9', 'y2'] Current Score: 0.75\n",
      "Added best feature: y20, Current feature list: ['y17', 'x7', 'x1', 'x5', 'x6', 'z1', 'x3', 'y21', 'z7', 'x10', 'z2', 'x16', 'z5', 'x2', 'z3', 'x14', 'z9', 'x17', 'z6', 'x4', 'z10', 'x19', 'x13', 'z15', 'x18', 'x12', 'x8', 'z14', 'z8', 'z11', 'z18', 'z20', 'x11', 'z19', 'z4', 'x9', 'z12', 'z21', 'z16', 'z13', 'y9', 'y2', 'y20'] Current Score: 0.7604166666666666\n",
      "Added best feature: y3, Current feature list: ['y17', 'x7', 'x1', 'x5', 'x6', 'z1', 'x3', 'y21', 'z7', 'x10', 'z2', 'x16', 'z5', 'x2', 'z3', 'x14', 'z9', 'x17', 'z6', 'x4', 'z10', 'x19', 'x13', 'z15', 'x18', 'x12', 'x8', 'z14', 'z8', 'z11', 'z18', 'z20', 'x11', 'z19', 'z4', 'x9', 'z12', 'z21', 'z16', 'z13', 'y9', 'y2', 'y20', 'y3'] Current Score: 0.7604166666666666\n",
      "Added best feature: x15, Current feature list: ['y17', 'x7', 'x1', 'x5', 'x6', 'z1', 'x3', 'y21', 'z7', 'x10', 'z2', 'x16', 'z5', 'x2', 'z3', 'x14', 'z9', 'x17', 'z6', 'x4', 'z10', 'x19', 'x13', 'z15', 'x18', 'x12', 'x8', 'z14', 'z8', 'z11', 'z18', 'z20', 'x11', 'z19', 'z4', 'x9', 'z12', 'z21', 'z16', 'z13', 'y9', 'y2', 'y20', 'y3', 'x15'] Current Score: 0.7604166666666666\n",
      "Added best feature: y16, Current feature list: ['y17', 'x7', 'x1', 'x5', 'x6', 'z1', 'x3', 'y21', 'z7', 'x10', 'z2', 'x16', 'z5', 'x2', 'z3', 'x14', 'z9', 'x17', 'z6', 'x4', 'z10', 'x19', 'x13', 'z15', 'x18', 'x12', 'x8', 'z14', 'z8', 'z11', 'z18', 'z20', 'x11', 'z19', 'z4', 'x9', 'z12', 'z21', 'z16', 'z13', 'y9', 'y2', 'y20', 'y3', 'x15', 'y16'] Current Score: 0.75\n",
      "Added best feature: y1, Current feature list: ['y17', 'x7', 'x1', 'x5', 'x6', 'z1', 'x3', 'y21', 'z7', 'x10', 'z2', 'x16', 'z5', 'x2', 'z3', 'x14', 'z9', 'x17', 'z6', 'x4', 'z10', 'x19', 'x13', 'z15', 'x18', 'x12', 'x8', 'z14', 'z8', 'z11', 'z18', 'z20', 'x11', 'z19', 'z4', 'x9', 'z12', 'z21', 'z16', 'z13', 'y9', 'y2', 'y20', 'y3', 'x15', 'y16', 'y1'] Current Score: 0.75\n",
      "Added best feature: y8, Current feature list: ['y17', 'x7', 'x1', 'x5', 'x6', 'z1', 'x3', 'y21', 'z7', 'x10', 'z2', 'x16', 'z5', 'x2', 'z3', 'x14', 'z9', 'x17', 'z6', 'x4', 'z10', 'x19', 'x13', 'z15', 'x18', 'x12', 'x8', 'z14', 'z8', 'z11', 'z18', 'z20', 'x11', 'z19', 'z4', 'x9', 'z12', 'z21', 'z16', 'z13', 'y9', 'y2', 'y20', 'y3', 'x15', 'y16', 'y1', 'y8'] Current Score: 0.7395833333333334\n",
      "Added best feature: y18, Current feature list: ['y17', 'x7', 'x1', 'x5', 'x6', 'z1', 'x3', 'y21', 'z7', 'x10', 'z2', 'x16', 'z5', 'x2', 'z3', 'x14', 'z9', 'x17', 'z6', 'x4', 'z10', 'x19', 'x13', 'z15', 'x18', 'x12', 'x8', 'z14', 'z8', 'z11', 'z18', 'z20', 'x11', 'z19', 'z4', 'x9', 'z12', 'z21', 'z16', 'z13', 'y9', 'y2', 'y20', 'y3', 'x15', 'y16', 'y1', 'y8', 'y18'] Current Score: 0.75\n",
      "Added best feature: y6, Current feature list: ['y17', 'x7', 'x1', 'x5', 'x6', 'z1', 'x3', 'y21', 'z7', 'x10', 'z2', 'x16', 'z5', 'x2', 'z3', 'x14', 'z9', 'x17', 'z6', 'x4', 'z10', 'x19', 'x13', 'z15', 'x18', 'x12', 'x8', 'z14', 'z8', 'z11', 'z18', 'z20', 'x11', 'z19', 'z4', 'x9', 'z12', 'z21', 'z16', 'z13', 'y9', 'y2', 'y20', 'y3', 'x15', 'y16', 'y1', 'y8', 'y18', 'y6'] Current Score: 0.7604166666666666\n",
      "Added best feature: x20, Current feature list: ['y17', 'x7', 'x1', 'x5', 'x6', 'z1', 'x3', 'y21', 'z7', 'x10', 'z2', 'x16', 'z5', 'x2', 'z3', 'x14', 'z9', 'x17', 'z6', 'x4', 'z10', 'x19', 'x13', 'z15', 'x18', 'x12', 'x8', 'z14', 'z8', 'z11', 'z18', 'z20', 'x11', 'z19', 'z4', 'x9', 'z12', 'z21', 'z16', 'z13', 'y9', 'y2', 'y20', 'y3', 'x15', 'y16', 'y1', 'y8', 'y18', 'y6', 'x20'] Current Score: 0.7604166666666666\n",
      "Added best feature: y14, Current feature list: ['y17', 'x7', 'x1', 'x5', 'x6', 'z1', 'x3', 'y21', 'z7', 'x10', 'z2', 'x16', 'z5', 'x2', 'z3', 'x14', 'z9', 'x17', 'z6', 'x4', 'z10', 'x19', 'x13', 'z15', 'x18', 'x12', 'x8', 'z14', 'z8', 'z11', 'z18', 'z20', 'x11', 'z19', 'z4', 'x9', 'z12', 'z21', 'z16', 'z13', 'y9', 'y2', 'y20', 'y3', 'x15', 'y16', 'y1', 'y8', 'y18', 'y6', 'x20', 'y14'] Current Score: 0.75\n",
      "Added best feature: y4, Current feature list: ['y17', 'x7', 'x1', 'x5', 'x6', 'z1', 'x3', 'y21', 'z7', 'x10', 'z2', 'x16', 'z5', 'x2', 'z3', 'x14', 'z9', 'x17', 'z6', 'x4', 'z10', 'x19', 'x13', 'z15', 'x18', 'x12', 'x8', 'z14', 'z8', 'z11', 'z18', 'z20', 'x11', 'z19', 'z4', 'x9', 'z12', 'z21', 'z16', 'z13', 'y9', 'y2', 'y20', 'y3', 'x15', 'y16', 'y1', 'y8', 'y18', 'y6', 'x20', 'y14', 'y4'] Current Score: 0.7395833333333334\n",
      "Added best feature: y19, Current feature list: ['y17', 'x7', 'x1', 'x5', 'x6', 'z1', 'x3', 'y21', 'z7', 'x10', 'z2', 'x16', 'z5', 'x2', 'z3', 'x14', 'z9', 'x17', 'z6', 'x4', 'z10', 'x19', 'x13', 'z15', 'x18', 'x12', 'x8', 'z14', 'z8', 'z11', 'z18', 'z20', 'x11', 'z19', 'z4', 'x9', 'z12', 'z21', 'z16', 'z13', 'y9', 'y2', 'y20', 'y3', 'x15', 'y16', 'y1', 'y8', 'y18', 'y6', 'x20', 'y14', 'y4', 'y19'] Current Score: 0.75\n",
      "Added best feature: y5, Current feature list: ['y17', 'x7', 'x1', 'x5', 'x6', 'z1', 'x3', 'y21', 'z7', 'x10', 'z2', 'x16', 'z5', 'x2', 'z3', 'x14', 'z9', 'x17', 'z6', 'x4', 'z10', 'x19', 'x13', 'z15', 'x18', 'x12', 'x8', 'z14', 'z8', 'z11', 'z18', 'z20', 'x11', 'z19', 'z4', 'x9', 'z12', 'z21', 'z16', 'z13', 'y9', 'y2', 'y20', 'y3', 'x15', 'y16', 'y1', 'y8', 'y18', 'y6', 'x20', 'y14', 'y4', 'y19', 'y5'] Current Score: 0.75\n",
      "Added best feature: y7, Current feature list: ['y17', 'x7', 'x1', 'x5', 'x6', 'z1', 'x3', 'y21', 'z7', 'x10', 'z2', 'x16', 'z5', 'x2', 'z3', 'x14', 'z9', 'x17', 'z6', 'x4', 'z10', 'x19', 'x13', 'z15', 'x18', 'x12', 'x8', 'z14', 'z8', 'z11', 'z18', 'z20', 'x11', 'z19', 'z4', 'x9', 'z12', 'z21', 'z16', 'z13', 'y9', 'y2', 'y20', 'y3', 'x15', 'y16', 'y1', 'y8', 'y18', 'y6', 'x20', 'y14', 'y4', 'y19', 'y5', 'y7'] Current Score: 0.75\n",
      "Added best feature: y12, Current feature list: ['y17', 'x7', 'x1', 'x5', 'x6', 'z1', 'x3', 'y21', 'z7', 'x10', 'z2', 'x16', 'z5', 'x2', 'z3', 'x14', 'z9', 'x17', 'z6', 'x4', 'z10', 'x19', 'x13', 'z15', 'x18', 'x12', 'x8', 'z14', 'z8', 'z11', 'z18', 'z20', 'x11', 'z19', 'z4', 'x9', 'z12', 'z21', 'z16', 'z13', 'y9', 'y2', 'y20', 'y3', 'x15', 'y16', 'y1', 'y8', 'y18', 'y6', 'x20', 'y14', 'y4', 'y19', 'y5', 'y7', 'y12'] Current Score: 0.7604166666666666\n",
      "Added best feature: y10, Current feature list: ['y17', 'x7', 'x1', 'x5', 'x6', 'z1', 'x3', 'y21', 'z7', 'x10', 'z2', 'x16', 'z5', 'x2', 'z3', 'x14', 'z9', 'x17', 'z6', 'x4', 'z10', 'x19', 'x13', 'z15', 'x18', 'x12', 'x8', 'z14', 'z8', 'z11', 'z18', 'z20', 'x11', 'z19', 'z4', 'x9', 'z12', 'z21', 'z16', 'z13', 'y9', 'y2', 'y20', 'y3', 'x15', 'y16', 'y1', 'y8', 'y18', 'y6', 'x20', 'y14', 'y4', 'y19', 'y5', 'y7', 'y12', 'y10'] Current Score: 0.75\n",
      "Added best feature: y15, Current feature list: ['y17', 'x7', 'x1', 'x5', 'x6', 'z1', 'x3', 'y21', 'z7', 'x10', 'z2', 'x16', 'z5', 'x2', 'z3', 'x14', 'z9', 'x17', 'z6', 'x4', 'z10', 'x19', 'x13', 'z15', 'x18', 'x12', 'x8', 'z14', 'z8', 'z11', 'z18', 'z20', 'x11', 'z19', 'z4', 'x9', 'z12', 'z21', 'z16', 'z13', 'y9', 'y2', 'y20', 'y3', 'x15', 'y16', 'y1', 'y8', 'y18', 'y6', 'x20', 'y14', 'y4', 'y19', 'y5', 'y7', 'y12', 'y10', 'y15'] Current Score: 0.75\n",
      "Added best feature: z17, Current feature list: ['y17', 'x7', 'x1', 'x5', 'x6', 'z1', 'x3', 'y21', 'z7', 'x10', 'z2', 'x16', 'z5', 'x2', 'z3', 'x14', 'z9', 'x17', 'z6', 'x4', 'z10', 'x19', 'x13', 'z15', 'x18', 'x12', 'x8', 'z14', 'z8', 'z11', 'z18', 'z20', 'x11', 'z19', 'z4', 'x9', 'z12', 'z21', 'z16', 'z13', 'y9', 'y2', 'y20', 'y3', 'x15', 'y16', 'y1', 'y8', 'y18', 'y6', 'x20', 'y14', 'y4', 'y19', 'y5', 'y7', 'y12', 'y10', 'y15', 'z17'] Current Score: 0.75\n",
      "Added best feature: x21, Current feature list: ['y17', 'x7', 'x1', 'x5', 'x6', 'z1', 'x3', 'y21', 'z7', 'x10', 'z2', 'x16', 'z5', 'x2', 'z3', 'x14', 'z9', 'x17', 'z6', 'x4', 'z10', 'x19', 'x13', 'z15', 'x18', 'x12', 'x8', 'z14', 'z8', 'z11', 'z18', 'z20', 'x11', 'z19', 'z4', 'x9', 'z12', 'z21', 'z16', 'z13', 'y9', 'y2', 'y20', 'y3', 'x15', 'y16', 'y1', 'y8', 'y18', 'y6', 'x20', 'y14', 'y4', 'y19', 'y5', 'y7', 'y12', 'y10', 'y15', 'z17', 'x21'] Current Score: 0.7395833333333334\n",
      "Added best feature: y11, Current feature list: ['y17', 'x7', 'x1', 'x5', 'x6', 'z1', 'x3', 'y21', 'z7', 'x10', 'z2', 'x16', 'z5', 'x2', 'z3', 'x14', 'z9', 'x17', 'z6', 'x4', 'z10', 'x19', 'x13', 'z15', 'x18', 'x12', 'x8', 'z14', 'z8', 'z11', 'z18', 'z20', 'x11', 'z19', 'z4', 'x9', 'z12', 'z21', 'z16', 'z13', 'y9', 'y2', 'y20', 'y3', 'x15', 'y16', 'y1', 'y8', 'y18', 'y6', 'x20', 'y14', 'y4', 'y19', 'y5', 'y7', 'y12', 'y10', 'y15', 'z17', 'x21', 'y11'] Current Score: 0.7291666666666666\n",
      "Added best feature: y13, Current feature list: ['y17', 'x7', 'x1', 'x5', 'x6', 'z1', 'x3', 'y21', 'z7', 'x10', 'z2', 'x16', 'z5', 'x2', 'z3', 'x14', 'z9', 'x17', 'z6', 'x4', 'z10', 'x19', 'x13', 'z15', 'x18', 'x12', 'x8', 'z14', 'z8', 'z11', 'z18', 'z20', 'x11', 'z19', 'z4', 'x9', 'z12', 'z21', 'z16', 'z13', 'y9', 'y2', 'y20', 'y3', 'x15', 'y16', 'y1', 'y8', 'y18', 'y6', 'x20', 'y14', 'y4', 'y19', 'y5', 'y7', 'y12', 'y10', 'y15', 'z17', 'x21', 'y11', 'y13'] Current Score: 0.71875\n",
      "Final features: ['y17', 'x7', 'x1', 'x5', 'x6', 'z1', 'x3', 'y21', 'z7', 'x10', 'z2', 'x16', 'z5', 'x2', 'z3', 'x14', 'z9', 'x17', 'z6', 'x4', 'z10', 'x19', 'x13', 'z15', 'x18', 'x12', 'x8', 'z14', 'z8', 'z11', 'z18', 'z20', 'x11', 'z19', 'z4', 'x9', 'z12', 'z21', 'z16', 'z13', 'y9', 'y2', 'y20', 'y3', 'x15', 'y16', 'y1', 'y8', 'y18', 'y6', 'x20', 'y14', 'y4', 'y19', 'y5', 'y7', 'y12', 'y10', 'y15', 'z17', 'x21', 'y11', 'y13'] Score: 0.71875\n"
     ]
    }
   ],
   "source": [
    "import pandas as pd\n",
    "import seaborn as sns\n",
    "import matplotlib.pyplot as plt\n",
    "from sklearn.neighbors import KNeighborsClassifier\n",
    "from sklearn.model_selection import train_test_split\n",
    "from sklearn.metrics import confusion_matrix, ConfusionMatrixDisplay\n",
    "\n",
    "df = pd.read_csv(\"data/acquired_hands.csv\")\n",
    "all = df.loc[:, df.columns != \"label\"]\n",
    "selected = []\n",
    "to_add = len(all)\n",
    "y_train = df[\"label\"]\n",
    "scorelist = []\n",
    "\n",
    "model = KNeighborsClassifier(n_neighbors=13)\n",
    "# Perform forward selection\n",
    "while to_add > 0:\n",
    "    best_feature = None\n",
    "    best_score = 0\n",
    "    for feature in all:\n",
    "        if feature not in selected:\n",
    "            combined_features = selected + [feature]\n",
    "            X_train, X_test, y_train, y_test = train_test_split(df[combined_features], df[\"label\"], test_size= 0.2, random_state=5)\n",
    "            #print(combined_features)\n",
    "            model.fit(X_train, y_train)\n",
    "            model_score = model.score(X_test, y_test)\n",
    "            #print(\"Features:\", selected, \"+\", feature + \", Score:\", model_score)\n",
    "            if model_score > best_score:\n",
    "                best_score = model_score\n",
    "                best_feature = feature\n",
    "    \n",
    "    # Append best feature to model\n",
    "    if(not best_feature):\n",
    "        break\n",
    "       \n",
    "    \n",
    "    selected.append(best_feature)\n",
    "    print(\"Added best feature:\", best_feature + \", Current feature list:\", selected, \"Current Score:\", best_score)\n",
    "    scorelist.append(best_score)\n",
    "    to_add -= 1\n",
    "# Print final feature score\n",
    "X_train, X_test, y_train, y_test = train_test_split(df[combined_features], df[\"label\"], test_size= 0.2, random_state=5)\n",
    "model.fit(X_train, y_train)\n",
    "initial_score = model.score(X_test, y_test)\n",
    "\n",
    "print(\"Final features:\", selected, \"Score:\", initial_score)"
   ]
  },
  {
   "cell_type": "code",
   "execution_count": 30,
   "metadata": {},
   "outputs": [
    {
     "data": {
      "text/plain": [
       "0.78125"
      ]
     },
     "execution_count": 30,
     "metadata": {},
     "output_type": "execute_result"
    }
   ],
   "source": [
    "scorelist[31]"
   ]
  },
  {
   "cell_type": "code",
   "execution_count": 26,
   "metadata": {},
   "outputs": [
    {
     "data": {
      "text/plain": [
       "<matplotlib.collections.PathCollection at 0x28e1759f0>"
      ]
     },
     "execution_count": 26,
     "metadata": {},
     "output_type": "execute_result"
    },
    {
     "data": {
      "image/png": "[encoded data removed]",
      "text/plain": [
       "<Figure size 640x480 with 1 Axes>"
      ]
     },
     "metadata": {},
     "output_type": "display_data"
    }
   ],
   "source": [
    "plt.scatter(range(len(scorelist)),scorelist)"
   ]
  },
  {
   "cell_type": "code",
   "execution_count": 27,
   "metadata": {},
   "outputs": [],
   "source": [
    "X = df.loc[:, df.columns != \"label\"]\n",
    "y = df[\"label\"]\n",
    "X_train, X_test, y_train, y_test = train_test_split(X, y, test_size=0.2, random_state=5)"
   ]
  },
  {
   "cell_type": "code",
   "execution_count": 28,
   "metadata": {},
   "outputs": [],
   "source": [
    "k_values = list(range(1,30,2))\n",
    "\n",
    "# Initiallize an empty list for our scores\n",
    "cv_scores = []\n",
    "\n",
    "#Perform 5-fold cross validation\n",
    "for k in k_values:\n",
    "    model = KNeighborsClassifier(n_neighbors=k)\n",
    "    scores = cross_val_score(model, X_train, y_train,cv =5, scoring = \"accuracy\")\n",
    "    # print(scores)\n",
    "    cv_scores.append(scores.mean())"
   ]
  },
  {
   "cell_type": "code",
   "execution_count": 29,
   "metadata": {},
   "outputs": [
    {
     "data": {
      "image/png": "[encoded data removed]",
      "text/plain": [
       "<Figure size 640x480 with 1 Axes>"
      ]
     },
     "metadata": {},
     "output_type": "display_data"
    }
   ],
   "source": [
    "sns.lineplot(x=k_values, y=cv_scores, marker='o')\n",
    "plt.title('Accuracy vs. K')\n",
    "plt.xlabel('Number of Neighbors (K)')\n",
    "plt.ylabel('Accuracy')\n",
    "plt.xticks(k_values)\n",
    "plt.grid(True)"
   ]
  },
  {
   "cell_type": "code",
   "execution_count": 46,
   "metadata": {},
   "outputs": [
    {
     "data": {
      "text/plain": [
       "0.757963089542037"
      ]
     },
     "execution_count": 46,
     "metadata": {},
     "output_type": "execute_result"
    }
   ],
   "source": [
    "X = df.loc[:, df.columns != \"label\"]\n",
    "y = df[\"label\"]\n",
    "X_train, X_test, y_train, y_test = train_test_split(X, y, test_size=0.2, random_state=5)\n",
    "model = KNeighborsClassifier(n_neighbors=9)\n",
    "model = model.fit(X_train, y_train)\n",
    "scores = cross_val_score(model, X_train, y_train,cv =5, scoring = \"accuracy\")\n",
    "scores.mean()"
   ]
  },
  {
   "cell_type": "code",
   "execution_count": 32,
   "metadata": {},
   "outputs": [
    {
     "data": {
      "text/plain": [
       "array(['a', 'a', 'a', 'a', 'a', 'a', 'a', 'a', 'a', 'a', 'a', 'a', 'a',\n",
       "       'a', 'a', 'a', 'l', 'a', 'a', 'x'], dtype=object)"
      ]
     },
     "execution_count": 32,
     "metadata": {},
     "output_type": "execute_result"
    }
   ],
   "source": [
    "something_test = pd.read_csv(\"data/acquired_data/a.csv\")\n",
    "something_else = something_test.loc[:,list(X_train.columns)]\n",
    "model.predict(something_else)\n"
   ]
  },
  {
   "cell_type": "code",
   "execution_count": 33,
   "metadata": {},
   "outputs": [
    {
     "data": {
      "text/plain": [
       "<sklearn.metrics._plot.confusion_matrix.ConfusionMatrixDisplay at 0x28e29e260>"
      ]
     },
     "execution_count": 33,
     "metadata": {},
     "output_type": "execute_result"
    },
    {
     "data": {
      "image/png": "[encoded data removed]",
      "text/plain": [
       "<Figure size 640x480 with 2 Axes>"
      ]
     },
     "metadata": {},
     "output_type": "display_data"
    }
   ],
   "source": [
    "y_pred = model.predict(X_test)\n",
    "\n",
    "# Create a confusion matrix\n",
    "labels = df[\"label\"].unique()\n",
    "conf_mat = confusion_matrix(y_test, y_pred, labels=labels)\n",
    "\n",
    "disp = ConfusionMatrixDisplay(conf_mat, display_labels=labels)\n",
    "disp.plot()"
   ]
  },
  {
   "cell_type": "code",
   "execution_count": 10,
   "metadata": {},
   "outputs": [],
   "source": [
    "dfcolnames = []\n",
    "for i in range(1,22):\n",
    "    for j in [\"x\",\"y\",\"z\"]:\n",
    "        dfcolnames.append(j+str(i))\n",
    "dfcolnames.append(\"label\")"
   ]
  },
  {
   "cell_type": "code",
   "execution_count": 15,
   "metadata": {},
   "outputs": [],
   "source": [
    "directory = 'data/acquired_data/'\n",
    "combined_acquired_df = pd.DataFrame()\n",
    "for filename in os.listdir(directory):\n",
    "    f = os.path.join(directory, filename)\n",
    "    # Checking if it is a file\n",
    "    if os.path.isfile(f):\n",
    "        file_path = directory + filename\n",
    "        df_temp = pd.read_csv(file_path)\n",
    "        combined_acquired_df = pd.concat([combined_acquired_df, df_temp], ignore_index = True)\n",
    "        combined_acquired_df.reset_index()\n"
   ]
  },
  {
   "cell_type": "code",
   "execution_count": 18,
   "metadata": {},
   "outputs": [],
   "source": [
    "combined_acquired_df.to_csv('data/acquired_hands.csv', index=False) "
   ]
  },
  {
   "cell_type": "code",
   "execution_count": 23,
   "metadata": {},
   "outputs": [
    {
     "data": {
      "text/plain": [
       "label\n",
       "w    20\n",
       "v    20\n",
       "l    20\n",
       "n    20\n",
       "y    20\n",
       "x    20\n",
       "o    20\n",
       "k    20\n",
       "h    20\n",
       "i    20\n",
       "s    20\n",
       "d    20\n",
       "e    20\n",
       "r    20\n",
       "p    20\n",
       "g    20\n",
       "f    20\n",
       "q    20\n",
       "b    20\n",
       "u    20\n",
       "t    20\n",
       "c    20\n",
       "a    20\n",
       "m    20\n",
       "Name: count, dtype: int64"
      ]
     },
     "execution_count": 23,
     "metadata": {},
     "output_type": "execute_result"
    }
   ],
   "source": [
    "combined_acquired_df[\"label\"].value_counts()"
   ]
  },
  {
   "cell_type": "code",
   "execution_count": null,
   "metadata": {},
   "outputs": [],
   "source": []
  }
 ],
 "metadata": {
  "kernelspec": {
   "display_name": ".venv",
   "language": "python",
   "name": "python3"
  },
  "language_info": {
   "codemirror_mode": {
    "name": "ipython",
    "version": 3
   },
   "file_extension": ".py",
   "mimetype": "text/x-python",
   "name": "python",
   "nbconvert_exporter": "python",
   "pygments_lexer": "ipython3",
   "version": "3.10.7"
  }
 },
 "nbformat": 4,
 "nbformat_minor": 2
}
