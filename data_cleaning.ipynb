{
 "cells": [
  {
   "cell_type": "code",
   "execution_count": 1,
   "metadata": {},
   "outputs": [],
   "source": [
    "import os\n",
    "import mediapipe as mp\n",
    "from mediapipe import solutions\n",
    "from mediapipe.framework.formats import landmark_pb2\n",
    "import cv2\n",
    "import random\n",
    "import time\n",
    "from PIL import Image\n",
    "import pandas as pd\n",
    "from sklearn.neighbors import KNeighborsClassifier\n",
    "from sklearn.model_selection import train_test_split, cross_val_score\n",
    "import seaborn as sns\n",
    "import matplotlib.pyplot as plt"
   ]
  },
  {
   "cell_type": "code",
   "execution_count": 2,
   "metadata": {},
   "outputs": [],
   "source": [
    "# Library Constants\n",
    "BaseOptions = mp.tasks.BaseOptions\n",
    "HandLandmarker = mp.tasks.vision.HandLandmarker\n",
    "HandLandmarkPoints = mp.solutions.hands.HandLandmark\n",
    "HandLandmarkerOptions = mp.tasks.vision.HandLandmarkerOptions\n",
    "VisionRunningMode = mp.tasks.vision.RunningMode\n",
    "DrawingUtil = mp.solutions.drawing_utils"
   ]
  },
  {
   "cell_type": "code",
   "execution_count": 3,
   "metadata": {},
   "outputs": [],
   "source": [
    "# base_options = BaseOptions(model_asset_path='data/hand_landmarker.task')\n",
    "# options = HandLandmarkerOptions(base_options=base_options,\n",
    "#                                         num_hands=2)\n",
    "\n",
    "# detector = HandLandmarker.create_from_options(options)\n",
    "# def convert_detection_result(detection_result, image):\n",
    "#         \"\"\"\n",
    "#         Draws all the landmarks on the hand\n",
    "#         Args:\n",
    "#             image (Image): Image to draw on\n",
    "#             detection_result (HandLandmarkerResult): HandLandmarker detection results\n",
    "#         \"\"\"\n",
    "#         # Get a list of the landmarks\n",
    "#         hand_landmarks_list = detection_result.hand_landmarks\n",
    "        \n",
    "#         # Loop through the detected hands to visualize.\n",
    "#         listofpoints = []\n",
    "#         for idx in range(len(hand_landmarks_list)):\n",
    "#             hand_landmarks = hand_landmarks_list[idx]\n",
    "#             for landmark in hand_landmarks:\n",
    "#                   listofpoints.append(landmark.x)\n",
    "#                   listofpoints.append(landmark.y)\n",
    "#                   listofpoints.append(landmark.z)\n",
    "        \n",
    "\n",
    "#         return \"Nothing Here\""
   ]
  },
  {
   "cell_type": "code",
   "execution_count": 4,
   "metadata": {},
   "outputs": [
    {
     "name": "stderr",
     "output_type": "stream",
     "text": [
      "WARNING: All log messages before absl::InitializeLog() is called are written to STDERR\n",
      "I0000 00:00:1715139892.999078       1 gl_context.cc:344] GL version: 2.1 (2.1 Metal - 88), renderer: Apple M1\n",
      "INFO: Created TensorFlow Lite XNNPACK delegate for CPU.\n"
     ]
    }
   ],
   "source": [
    "import cv2\n",
    "import mediapipe as mp\n",
    "mp_drawing = mp.solutions.drawing_utils\n",
    "mp_hands = mp.solutions.hands\n",
    "\n",
    "base_options = BaseOptions(model_asset_path='data/hand_landmarker.task')\n",
    "options = HandLandmarkerOptions(base_options=base_options,\n",
    "                                        num_hands=2)\n",
    "\n",
    "detector = HandLandmarker.create_from_options(options)\n",
    "def convert_detection_result(detection_result, image):\n",
    "        \"\"\"\n",
    "        Draws all the landmarks on the hand\n",
    "        Args:\n",
    "            image (Image): Image to draw on\n",
    "            detection_result (HandLandmarkerResult): HandLandmarker detection results\n",
    "        \"\"\"\n",
    "        # Get a list of the landmarks\n",
    "        hand_landmarks_list = detection_result.hand_landmarks\n",
    "        \n",
    "        for idx in range(len(hand_landmarks_list)):\n",
    "            #NOTE this only works for one hand\n",
    "            listofpointstoreturn = []\n",
    "            hand_landmarks = hand_landmarks_list[idx]\n",
    "\n",
    "            # Save the landmarks into a NormalizedLandmarkList\n",
    "            hand_landmarks_proto = landmark_pb2.NormalizedLandmarkList()\n",
    "            hand_landmarks_proto.landmark.extend([\n",
    "            landmark_pb2.NormalizedLandmark(x=landmark.x, y=landmark.y, z=landmark.z) for landmark in hand_landmarks\n",
    "            ])\n",
    "            # results = mp_hands.Hands.process(image = image)\n",
    "\n",
    "            if hand_landmarks:\n",
    "                for landmrk in hand_landmarks:\n",
    "                    # for ids, landmrk in enumerate(hand_landmarks.landmark):\n",
    "                        # print(ids, landmrk)\n",
    "                    listofpointstoreturn.append(landmrk.x)\n",
    "                    listofpointstoreturn.append(landmrk.y)\n",
    "                    listofpointstoreturn.append(landmrk.z)\n",
    "                return listofpointstoreturn\n",
    "        \n",
    "        return \"Nothing Here\""
   ]
  },
  {
   "cell_type": "code",
   "execution_count": 5,
   "metadata": {},
   "outputs": [],
   "source": [
    "def returndatapoints(image):\n",
    "    to_detect = mp.Image(image_format=mp.ImageFormat.SRGB, data=image)\n",
    "    results = detector.detect(to_detect)            \n",
    "    # Draw the hand landmarks\n",
    "    points = convert_detection_result(results, image)\n",
    "    if points == \"Nothing Here\":\n",
    "        border_size = 150\n",
    "        frame = cv2.copyMakeBorder(image, top=border_size, \n",
    "                                bottom=border_size, left=border_size, \n",
    "                                right=border_size,\n",
    "                                borderType=cv2.BORDER_CONSTANT, \n",
    "                                value=[0, 0, 0]\n",
    "        )\n",
    "        to_detect = mp.Image(image_format=mp.ImageFormat.SRGB, data=frame)\n",
    "        results = detector.detect(to_detect) \n",
    "        points = convert_detection_result(results, frame)\n",
    "    return points\n"
   ]
  },
  {
   "cell_type": "code",
   "execution_count": 6,
   "metadata": {},
   "outputs": [
    {
     "data": {
      "text/plain": [
       "63"
      ]
     },
     "execution_count": 6,
     "metadata": {},
     "output_type": "execute_result"
    }
   ],
   "source": [
    "\n",
    "file_path = \"data/raw_asl_hands/c/hand2_c_dif_seg_2_cropped.jpeg\"\n",
    "img = cv2.imread(file_path)\n",
    "len(returndatapoints(image = img))\n",
    "#Planning on seperating the xyz coordinates into seperate columns\n"
   ]
  },
  {
   "cell_type": "code",
   "execution_count": 7,
   "metadata": {},
   "outputs": [],
   "source": [
    "twodarray = []\n",
    "dfcolnames = []\n",
    "for i in range(1,22):\n",
    "    for j in [\"x\",\"y\",\"z\"]:\n",
    "        dfcolnames.append(j+str(i))\n",
    "dfcolnames.append(\"label\")\n",
    "\n",
    "# Iterates over every file in the raw_asl_hands folder\n",
    "for folder in [\"a\",\"b\",\"c\",\"d\",\"e\",\"f\",\"g\",\"h\",\"i\",\"j\",\n",
    "               \"k\",\"l\",\"m\",\"n\",\"o\",\"p\",\"q\",\"r\",\"s\",\"t\",\n",
    "               \"u\",\"v\",\"w\",\"x\",\"y\",\"z\"]:\n",
    "    directory = 'data/raw_asl_hands/' + folder + \"/\"\n",
    "    # Iterate over files in\n",
    "    # that directory\n",
    "    for filename in os.listdir(directory):\n",
    "        f = os.path.join(directory, filename)\n",
    "        # Checking if it is a file\n",
    "        if os.path.isfile(f):\n",
    "            file_path = directory + filename\n",
    "            #print(file_path)\n",
    "            img = cv2.imread(file_path)\n",
    "            #print(returndatapoints(image = img))\n",
    "            goodvarname = returndatapoints(img)\n",
    "            if goodvarname != \"Nothing Here\" and len(goodvarname) == 63:\n",
    "                goodvarname.append(folder)\n",
    "                twodarray.append(goodvarname)\n",
    "\n",
    "\n",
    "df = pd.DataFrame(twodarray, columns = dfcolnames)\n",
    "#print(dfcolnames)\n",
    "                \n",
    "\n"
   ]
  },
  {
   "cell_type": "code",
   "execution_count": 7,
   "metadata": {},
   "outputs": [],
   "source": [
    "#df.to_csv('data/cleanhands.csv', index=False) "
   ]
  },
  {
   "cell_type": "code",
   "execution_count": 8,
   "metadata": {},
   "outputs": [
    {
     "data": {
      "text/plain": [
       "label\n",
       "l    28\n",
       "a    20\n",
       "k    19\n",
       "p    11\n",
       "y    10\n",
       "h     9\n",
       "t     8\n",
       "c     7\n",
       "b     2\n",
       "r     1\n",
       "z     1\n",
       "Name: count, dtype: int64"
      ]
     },
     "execution_count": 8,
     "metadata": {},
     "output_type": "execute_result"
    }
   ],
   "source": [
    "df[\"label\"].value_counts()"
   ]
  },
  {
   "cell_type": "code",
   "execution_count": null,
   "metadata": {},
   "outputs": [],
   "source": []
  },
  {
   "cell_type": "code",
   "execution_count": 11,
   "metadata": {},
   "outputs": [
    {
     "name": "stdout",
     "output_type": "stream",
     "text": [
      "Added best feature: x15, Current feature list: ['x15'] Current Score: 0.22916666666666666\n",
      "Added best feature: x1, Current feature list: ['x15', 'x1'] Current Score: 0.4875\n",
      "Added best feature: x7, Current feature list: ['x15', 'x1', 'x7'] Current Score: 0.5625\n",
      "Added best feature: x21, Current feature list: ['x15', 'x1', 'x7', 'x21'] Current Score: 0.6125\n",
      "Added best feature: y17, Current feature list: ['x15', 'x1', 'x7', 'x21', 'y17'] Current Score: 0.65\n",
      "Added best feature: y4, Current feature list: ['x15', 'x1', 'x7', 'x21', 'y17', 'y4'] Current Score: 0.7\n",
      "Added best feature: y20, Current feature list: ['x15', 'x1', 'x7', 'x21', 'y17', 'y4', 'y20'] Current Score: 0.7333333333333333\n",
      "Added best feature: x4, Current feature list: ['x15', 'x1', 'x7', 'x21', 'y17', 'y4', 'y20', 'x4'] Current Score: 0.75\n",
      "Added best feature: y9, Current feature list: ['x15', 'x1', 'x7', 'x21', 'y17', 'y4', 'y20', 'x4', 'y9'] Current Score: 0.7708333333333334\n",
      "Added best feature: z4, Current feature list: ['x15', 'x1', 'x7', 'x21', 'y17', 'y4', 'y20', 'x4', 'y9', 'z4'] Current Score: 0.7958333333333333\n",
      "Added best feature: y15, Current feature list: ['x15', 'x1', 'x7', 'x21', 'y17', 'y4', 'y20', 'x4', 'y9', 'z4', 'y15'] Current Score: 0.8166666666666667\n",
      "Added best feature: z3, Current feature list: ['x15', 'x1', 'x7', 'x21', 'y17', 'y4', 'y20', 'x4', 'y9', 'z4', 'y15', 'z3'] Current Score: 0.825\n",
      "Added best feature: x11, Current feature list: ['x15', 'x1', 'x7', 'x21', 'y17', 'y4', 'y20', 'x4', 'y9', 'z4', 'y15', 'z3', 'x11'] Current Score: 0.8291666666666667\n",
      "Added best feature: z1, Current feature list: ['x15', 'x1', 'x7', 'x21', 'y17', 'y4', 'y20', 'x4', 'y9', 'z4', 'y15', 'z3', 'x11', 'z1'] Current Score: 0.8291666666666667\n",
      "Added best feature: z2, Current feature list: ['x15', 'x1', 'x7', 'x21', 'y17', 'y4', 'y20', 'x4', 'y9', 'z4', 'y15', 'z3', 'x11', 'z1', 'z2'] Current Score: 0.8291666666666667\n",
      "Added best feature: z14, Current feature list: ['x15', 'x1', 'x7', 'x21', 'y17', 'y4', 'y20', 'x4', 'y9', 'z4', 'y15', 'z3', 'x11', 'z1', 'z2', 'z14'] Current Score: 0.825\n",
      "Added best feature: z6, Current feature list: ['x15', 'x1', 'x7', 'x21', 'y17', 'y4', 'y20', 'x4', 'y9', 'z4', 'y15', 'z3', 'x11', 'z1', 'z2', 'z14', 'z6'] Current Score: 0.825\n",
      "Added best feature: z10, Current feature list: ['x15', 'x1', 'x7', 'x21', 'y17', 'y4', 'y20', 'x4', 'y9', 'z4', 'y15', 'z3', 'x11', 'z1', 'z2', 'z14', 'z6', 'z10'] Current Score: 0.8291666666666667\n",
      "Added best feature: x2, Current feature list: ['x15', 'x1', 'x7', 'x21', 'y17', 'y4', 'y20', 'x4', 'y9', 'z4', 'y15', 'z3', 'x11', 'z1', 'z2', 'z14', 'z6', 'z10', 'x2'] Current Score: 0.8291666666666667\n",
      "Added best feature: x5, Current feature list: ['x15', 'x1', 'x7', 'x21', 'y17', 'y4', 'y20', 'x4', 'y9', 'z4', 'y15', 'z3', 'x11', 'z1', 'z2', 'z14', 'z6', 'z10', 'x2', 'x5'] Current Score: 0.8208333333333333\n",
      "Added best feature: z5, Current feature list: ['x15', 'x1', 'x7', 'x21', 'y17', 'y4', 'y20', 'x4', 'y9', 'z4', 'y15', 'z3', 'x11', 'z1', 'z2', 'z14', 'z6', 'z10', 'x2', 'x5', 'z5'] Current Score: 0.8291666666666667\n",
      "Added best feature: y2, Current feature list: ['x15', 'x1', 'x7', 'x21', 'y17', 'y4', 'y20', 'x4', 'y9', 'z4', 'y15', 'z3', 'x11', 'z1', 'z2', 'z14', 'z6', 'z10', 'x2', 'x5', 'z5', 'y2'] Current Score: 0.8375\n",
      "Added best feature: x12, Current feature list: ['x15', 'x1', 'x7', 'x21', 'y17', 'y4', 'y20', 'x4', 'y9', 'z4', 'y15', 'z3', 'x11', 'z1', 'z2', 'z14', 'z6', 'z10', 'x2', 'x5', 'z5', 'y2', 'x12'] Current Score: 0.8458333333333333\n",
      "Added best feature: x20, Current feature list: ['x15', 'x1', 'x7', 'x21', 'y17', 'y4', 'y20', 'x4', 'y9', 'z4', 'y15', 'z3', 'x11', 'z1', 'z2', 'z14', 'z6', 'z10', 'x2', 'x5', 'z5', 'y2', 'x12', 'x20'] Current Score: 0.8375\n",
      "Added best feature: y5, Current feature list: ['x15', 'x1', 'x7', 'x21', 'y17', 'y4', 'y20', 'x4', 'y9', 'z4', 'y15', 'z3', 'x11', 'z1', 'z2', 'z14', 'z6', 'z10', 'x2', 'x5', 'z5', 'y2', 'x12', 'x20', 'y5'] Current Score: 0.8416666666666667\n",
      "Added best feature: y3, Current feature list: ['x15', 'x1', 'x7', 'x21', 'y17', 'y4', 'y20', 'x4', 'y9', 'z4', 'y15', 'z3', 'x11', 'z1', 'z2', 'z14', 'z6', 'z10', 'x2', 'x5', 'z5', 'y2', 'x12', 'x20', 'y5', 'y3'] Current Score: 0.8458333333333333\n",
      "Added best feature: z18, Current feature list: ['x15', 'x1', 'x7', 'x21', 'y17', 'y4', 'y20', 'x4', 'y9', 'z4', 'y15', 'z3', 'x11', 'z1', 'z2', 'z14', 'z6', 'z10', 'x2', 'x5', 'z5', 'y2', 'x12', 'x20', 'y5', 'y3', 'z18'] Current Score: 0.8416666666666667\n",
      "Added best feature: y7, Current feature list: ['x15', 'x1', 'x7', 'x21', 'y17', 'y4', 'y20', 'x4', 'y9', 'z4', 'y15', 'z3', 'x11', 'z1', 'z2', 'z14', 'z6', 'z10', 'x2', 'x5', 'z5', 'y2', 'x12', 'x20', 'y5', 'y3', 'z18', 'y7'] Current Score: 0.8375\n",
      "Added best feature: y1, Current feature list: ['x15', 'x1', 'x7', 'x21', 'y17', 'y4', 'y20', 'x4', 'y9', 'z4', 'y15', 'z3', 'x11', 'z1', 'z2', 'z14', 'z6', 'z10', 'x2', 'x5', 'z5', 'y2', 'x12', 'x20', 'y5', 'y3', 'z18', 'y7', 'y1'] Current Score: 0.8416666666666667\n",
      "Added best feature: x13, Current feature list: ['x15', 'x1', 'x7', 'x21', 'y17', 'y4', 'y20', 'x4', 'y9', 'z4', 'y15', 'z3', 'x11', 'z1', 'z2', 'z14', 'z6', 'z10', 'x2', 'x5', 'z5', 'y2', 'x12', 'x20', 'y5', 'y3', 'z18', 'y7', 'y1', 'x13'] Current Score: 0.8416666666666667\n",
      "Added best feature: z12, Current feature list: ['x15', 'x1', 'x7', 'x21', 'y17', 'y4', 'y20', 'x4', 'y9', 'z4', 'y15', 'z3', 'x11', 'z1', 'z2', 'z14', 'z6', 'z10', 'x2', 'x5', 'z5', 'y2', 'x12', 'x20', 'y5', 'y3', 'z18', 'y7', 'y1', 'x13', 'z12'] Current Score: 0.8416666666666667\n",
      "Added best feature: x3, Current feature list: ['x15', 'x1', 'x7', 'x21', 'y17', 'y4', 'y20', 'x4', 'y9', 'z4', 'y15', 'z3', 'x11', 'z1', 'z2', 'z14', 'z6', 'z10', 'x2', 'x5', 'z5', 'y2', 'x12', 'x20', 'y5', 'y3', 'z18', 'y7', 'y1', 'x13', 'z12', 'x3'] Current Score: 0.8458333333333333\n",
      "Added best feature: x10, Current feature list: ['x15', 'x1', 'x7', 'x21', 'y17', 'y4', 'y20', 'x4', 'y9', 'z4', 'y15', 'z3', 'x11', 'z1', 'z2', 'z14', 'z6', 'z10', 'x2', 'x5', 'z5', 'y2', 'x12', 'x20', 'y5', 'y3', 'z18', 'y7', 'y1', 'x13', 'z12', 'x3', 'x10'] Current Score: 0.8375\n",
      "Added best feature: x6, Current feature list: ['x15', 'x1', 'x7', 'x21', 'y17', 'y4', 'y20', 'x4', 'y9', 'z4', 'y15', 'z3', 'x11', 'z1', 'z2', 'z14', 'z6', 'z10', 'x2', 'x5', 'z5', 'y2', 'x12', 'x20', 'y5', 'y3', 'z18', 'y7', 'y1', 'x13', 'z12', 'x3', 'x10', 'x6'] Current Score: 0.8291666666666667\n",
      "Added best feature: y6, Current feature list: ['x15', 'x1', 'x7', 'x21', 'y17', 'y4', 'y20', 'x4', 'y9', 'z4', 'y15', 'z3', 'x11', 'z1', 'z2', 'z14', 'z6', 'z10', 'x2', 'x5', 'z5', 'y2', 'x12', 'x20', 'y5', 'y3', 'z18', 'y7', 'y1', 'x13', 'z12', 'x3', 'x10', 'x6', 'y6'] Current Score: 0.8291666666666667\n",
      "Added best feature: x14, Current feature list: ['x15', 'x1', 'x7', 'x21', 'y17', 'y4', 'y20', 'x4', 'y9', 'z4', 'y15', 'z3', 'x11', 'z1', 'z2', 'z14', 'z6', 'z10', 'x2', 'x5', 'z5', 'y2', 'x12', 'x20', 'y5', 'y3', 'z18', 'y7', 'y1', 'x13', 'z12', 'x3', 'x10', 'x6', 'y6', 'x14'] Current Score: 0.8291666666666667\n",
      "Added best feature: z11, Current feature list: ['x15', 'x1', 'x7', 'x21', 'y17', 'y4', 'y20', 'x4', 'y9', 'z4', 'y15', 'z3', 'x11', 'z1', 'z2', 'z14', 'z6', 'z10', 'x2', 'x5', 'z5', 'y2', 'x12', 'x20', 'y5', 'y3', 'z18', 'y7', 'y1', 'x13', 'z12', 'x3', 'x10', 'x6', 'y6', 'x14', 'z11'] Current Score: 0.8208333333333333\n",
      "Added best feature: z16, Current feature list: ['x15', 'x1', 'x7', 'x21', 'y17', 'y4', 'y20', 'x4', 'y9', 'z4', 'y15', 'z3', 'x11', 'z1', 'z2', 'z14', 'z6', 'z10', 'x2', 'x5', 'z5', 'y2', 'x12', 'x20', 'y5', 'y3', 'z18', 'y7', 'y1', 'x13', 'z12', 'x3', 'x10', 'x6', 'y6', 'x14', 'z11', 'z16'] Current Score: 0.8208333333333333\n",
      "Added best feature: z15, Current feature list: ['x15', 'x1', 'x7', 'x21', 'y17', 'y4', 'y20', 'x4', 'y9', 'z4', 'y15', 'z3', 'x11', 'z1', 'z2', 'z14', 'z6', 'z10', 'x2', 'x5', 'z5', 'y2', 'x12', 'x20', 'y5', 'y3', 'z18', 'y7', 'y1', 'x13', 'z12', 'x3', 'x10', 'x6', 'y6', 'x14', 'z11', 'z16', 'z15'] Current Score: 0.8208333333333333\n",
      "Added best feature: z7, Current feature list: ['x15', 'x1', 'x7', 'x21', 'y17', 'y4', 'y20', 'x4', 'y9', 'z4', 'y15', 'z3', 'x11', 'z1', 'z2', 'z14', 'z6', 'z10', 'x2', 'x5', 'z5', 'y2', 'x12', 'x20', 'y5', 'y3', 'z18', 'y7', 'y1', 'x13', 'z12', 'x3', 'x10', 'x6', 'y6', 'x14', 'z11', 'z16', 'z15', 'z7'] Current Score: 0.8208333333333333\n",
      "Added best feature: y21, Current feature list: ['x15', 'x1', 'x7', 'x21', 'y17', 'y4', 'y20', 'x4', 'y9', 'z4', 'y15', 'z3', 'x11', 'z1', 'z2', 'z14', 'z6', 'z10', 'x2', 'x5', 'z5', 'y2', 'x12', 'x20', 'y5', 'y3', 'z18', 'y7', 'y1', 'x13', 'z12', 'x3', 'x10', 'x6', 'y6', 'x14', 'z11', 'z16', 'z15', 'z7', 'y21'] Current Score: 0.825\n",
      "Added best feature: z17, Current feature list: ['x15', 'x1', 'x7', 'x21', 'y17', 'y4', 'y20', 'x4', 'y9', 'z4', 'y15', 'z3', 'x11', 'z1', 'z2', 'z14', 'z6', 'z10', 'x2', 'x5', 'z5', 'y2', 'x12', 'x20', 'y5', 'y3', 'z18', 'y7', 'y1', 'x13', 'z12', 'x3', 'x10', 'x6', 'y6', 'x14', 'z11', 'z16', 'z15', 'z7', 'y21', 'z17'] Current Score: 0.825\n",
      "Added best feature: z8, Current feature list: ['x15', 'x1', 'x7', 'x21', 'y17', 'y4', 'y20', 'x4', 'y9', 'z4', 'y15', 'z3', 'x11', 'z1', 'z2', 'z14', 'z6', 'z10', 'x2', 'x5', 'z5', 'y2', 'x12', 'x20', 'y5', 'y3', 'z18', 'y7', 'y1', 'x13', 'z12', 'x3', 'x10', 'x6', 'y6', 'x14', 'z11', 'z16', 'z15', 'z7', 'y21', 'z17', 'z8'] Current Score: 0.825\n",
      "Added best feature: x9, Current feature list: ['x15', 'x1', 'x7', 'x21', 'y17', 'y4', 'y20', 'x4', 'y9', 'z4', 'y15', 'z3', 'x11', 'z1', 'z2', 'z14', 'z6', 'z10', 'x2', 'x5', 'z5', 'y2', 'x12', 'x20', 'y5', 'y3', 'z18', 'y7', 'y1', 'x13', 'z12', 'x3', 'x10', 'x6', 'y6', 'x14', 'z11', 'z16', 'z15', 'z7', 'y21', 'z17', 'z8', 'x9'] Current Score: 0.825\n",
      "Added best feature: x16, Current feature list: ['x15', 'x1', 'x7', 'x21', 'y17', 'y4', 'y20', 'x4', 'y9', 'z4', 'y15', 'z3', 'x11', 'z1', 'z2', 'z14', 'z6', 'z10', 'x2', 'x5', 'z5', 'y2', 'x12', 'x20', 'y5', 'y3', 'z18', 'y7', 'y1', 'x13', 'z12', 'x3', 'x10', 'x6', 'y6', 'x14', 'z11', 'z16', 'z15', 'z7', 'y21', 'z17', 'z8', 'x9', 'x16'] Current Score: 0.825\n",
      "Added best feature: x18, Current feature list: ['x15', 'x1', 'x7', 'x21', 'y17', 'y4', 'y20', 'x4', 'y9', 'z4', 'y15', 'z3', 'x11', 'z1', 'z2', 'z14', 'z6', 'z10', 'x2', 'x5', 'z5', 'y2', 'x12', 'x20', 'y5', 'y3', 'z18', 'y7', 'y1', 'x13', 'z12', 'x3', 'x10', 'x6', 'y6', 'x14', 'z11', 'z16', 'z15', 'z7', 'y21', 'z17', 'z8', 'x9', 'x16', 'x18'] Current Score: 0.825\n",
      "Added best feature: z19, Current feature list: ['x15', 'x1', 'x7', 'x21', 'y17', 'y4', 'y20', 'x4', 'y9', 'z4', 'y15', 'z3', 'x11', 'z1', 'z2', 'z14', 'z6', 'z10', 'x2', 'x5', 'z5', 'y2', 'x12', 'x20', 'y5', 'y3', 'z18', 'y7', 'y1', 'x13', 'z12', 'x3', 'x10', 'x6', 'y6', 'x14', 'z11', 'z16', 'z15', 'z7', 'y21', 'z17', 'z8', 'x9', 'x16', 'x18', 'z19'] Current Score: 0.825\n",
      "Added best feature: y11, Current feature list: ['x15', 'x1', 'x7', 'x21', 'y17', 'y4', 'y20', 'x4', 'y9', 'z4', 'y15', 'z3', 'x11', 'z1', 'z2', 'z14', 'z6', 'z10', 'x2', 'x5', 'z5', 'y2', 'x12', 'x20', 'y5', 'y3', 'z18', 'y7', 'y1', 'x13', 'z12', 'x3', 'x10', 'x6', 'y6', 'x14', 'z11', 'z16', 'z15', 'z7', 'y21', 'z17', 'z8', 'x9', 'x16', 'x18', 'z19', 'y11'] Current Score: 0.8208333333333333\n",
      "Added best feature: y18, Current feature list: ['x15', 'x1', 'x7', 'x21', 'y17', 'y4', 'y20', 'x4', 'y9', 'z4', 'y15', 'z3', 'x11', 'z1', 'z2', 'z14', 'z6', 'z10', 'x2', 'x5', 'z5', 'y2', 'x12', 'x20', 'y5', 'y3', 'z18', 'y7', 'y1', 'x13', 'z12', 'x3', 'x10', 'x6', 'y6', 'x14', 'z11', 'z16', 'z15', 'z7', 'y21', 'z17', 'z8', 'x9', 'x16', 'x18', 'z19', 'y11', 'y18'] Current Score: 0.8208333333333333\n",
      "Added best feature: z9, Current feature list: ['x15', 'x1', 'x7', 'x21', 'y17', 'y4', 'y20', 'x4', 'y9', 'z4', 'y15', 'z3', 'x11', 'z1', 'z2', 'z14', 'z6', 'z10', 'x2', 'x5', 'z5', 'y2', 'x12', 'x20', 'y5', 'y3', 'z18', 'y7', 'y1', 'x13', 'z12', 'x3', 'x10', 'x6', 'y6', 'x14', 'z11', 'z16', 'z15', 'z7', 'y21', 'z17', 'z8', 'x9', 'x16', 'x18', 'z19', 'y11', 'y18', 'z9'] Current Score: 0.8208333333333333\n",
      "Added best feature: y8, Current feature list: ['x15', 'x1', 'x7', 'x21', 'y17', 'y4', 'y20', 'x4', 'y9', 'z4', 'y15', 'z3', 'x11', 'z1', 'z2', 'z14', 'z6', 'z10', 'x2', 'x5', 'z5', 'y2', 'x12', 'x20', 'y5', 'y3', 'z18', 'y7', 'y1', 'x13', 'z12', 'x3', 'x10', 'x6', 'y6', 'x14', 'z11', 'z16', 'z15', 'z7', 'y21', 'z17', 'z8', 'x9', 'x16', 'x18', 'z19', 'y11', 'y18', 'z9', 'y8'] Current Score: 0.8166666666666667\n",
      "Added best feature: y10, Current feature list: ['x15', 'x1', 'x7', 'x21', 'y17', 'y4', 'y20', 'x4', 'y9', 'z4', 'y15', 'z3', 'x11', 'z1', 'z2', 'z14', 'z6', 'z10', 'x2', 'x5', 'z5', 'y2', 'x12', 'x20', 'y5', 'y3', 'z18', 'y7', 'y1', 'x13', 'z12', 'x3', 'x10', 'x6', 'y6', 'x14', 'z11', 'z16', 'z15', 'z7', 'y21', 'z17', 'z8', 'x9', 'x16', 'x18', 'z19', 'y11', 'y18', 'z9', 'y8', 'y10'] Current Score: 0.8125\n",
      "Added best feature: z21, Current feature list: ['x15', 'x1', 'x7', 'x21', 'y17', 'y4', 'y20', 'x4', 'y9', 'z4', 'y15', 'z3', 'x11', 'z1', 'z2', 'z14', 'z6', 'z10', 'x2', 'x5', 'z5', 'y2', 'x12', 'x20', 'y5', 'y3', 'z18', 'y7', 'y1', 'x13', 'z12', 'x3', 'x10', 'x6', 'y6', 'x14', 'z11', 'z16', 'z15', 'z7', 'y21', 'z17', 'z8', 'x9', 'x16', 'x18', 'z19', 'y11', 'y18', 'z9', 'y8', 'y10', 'z21'] Current Score: 0.8166666666666667\n",
      "Added best feature: x8, Current feature list: ['x15', 'x1', 'x7', 'x21', 'y17', 'y4', 'y20', 'x4', 'y9', 'z4', 'y15', 'z3', 'x11', 'z1', 'z2', 'z14', 'z6', 'z10', 'x2', 'x5', 'z5', 'y2', 'x12', 'x20', 'y5', 'y3', 'z18', 'y7', 'y1', 'x13', 'z12', 'x3', 'x10', 'x6', 'y6', 'x14', 'z11', 'z16', 'z15', 'z7', 'y21', 'z17', 'z8', 'x9', 'x16', 'x18', 'z19', 'y11', 'y18', 'z9', 'y8', 'y10', 'z21', 'x8'] Current Score: 0.8166666666666667\n",
      "Added best feature: y14, Current feature list: ['x15', 'x1', 'x7', 'x21', 'y17', 'y4', 'y20', 'x4', 'y9', 'z4', 'y15', 'z3', 'x11', 'z1', 'z2', 'z14', 'z6', 'z10', 'x2', 'x5', 'z5', 'y2', 'x12', 'x20', 'y5', 'y3', 'z18', 'y7', 'y1', 'x13', 'z12', 'x3', 'x10', 'x6', 'y6', 'x14', 'z11', 'z16', 'z15', 'z7', 'y21', 'z17', 'z8', 'x9', 'x16', 'x18', 'z19', 'y11', 'y18', 'z9', 'y8', 'y10', 'z21', 'x8', 'y14'] Current Score: 0.8125\n",
      "Added best feature: z13, Current feature list: ['x15', 'x1', 'x7', 'x21', 'y17', 'y4', 'y20', 'x4', 'y9', 'z4', 'y15', 'z3', 'x11', 'z1', 'z2', 'z14', 'z6', 'z10', 'x2', 'x5', 'z5', 'y2', 'x12', 'x20', 'y5', 'y3', 'z18', 'y7', 'y1', 'x13', 'z12', 'x3', 'x10', 'x6', 'y6', 'x14', 'z11', 'z16', 'z15', 'z7', 'y21', 'z17', 'z8', 'x9', 'x16', 'x18', 'z19', 'y11', 'y18', 'z9', 'y8', 'y10', 'z21', 'x8', 'y14', 'z13'] Current Score: 0.8083333333333333\n",
      "Added best feature: z20, Current feature list: ['x15', 'x1', 'x7', 'x21', 'y17', 'y4', 'y20', 'x4', 'y9', 'z4', 'y15', 'z3', 'x11', 'z1', 'z2', 'z14', 'z6', 'z10', 'x2', 'x5', 'z5', 'y2', 'x12', 'x20', 'y5', 'y3', 'z18', 'y7', 'y1', 'x13', 'z12', 'x3', 'x10', 'x6', 'y6', 'x14', 'z11', 'z16', 'z15', 'z7', 'y21', 'z17', 'z8', 'x9', 'x16', 'x18', 'z19', 'y11', 'y18', 'z9', 'y8', 'y10', 'z21', 'x8', 'y14', 'z13', 'z20'] Current Score: 0.8083333333333333\n",
      "Added best feature: y12, Current feature list: ['x15', 'x1', 'x7', 'x21', 'y17', 'y4', 'y20', 'x4', 'y9', 'z4', 'y15', 'z3', 'x11', 'z1', 'z2', 'z14', 'z6', 'z10', 'x2', 'x5', 'z5', 'y2', 'x12', 'x20', 'y5', 'y3', 'z18', 'y7', 'y1', 'x13', 'z12', 'x3', 'x10', 'x6', 'y6', 'x14', 'z11', 'z16', 'z15', 'z7', 'y21', 'z17', 'z8', 'x9', 'x16', 'x18', 'z19', 'y11', 'y18', 'z9', 'y8', 'y10', 'z21', 'x8', 'y14', 'z13', 'z20', 'y12'] Current Score: 0.8041666666666667\n",
      "Added best feature: x19, Current feature list: ['x15', 'x1', 'x7', 'x21', 'y17', 'y4', 'y20', 'x4', 'y9', 'z4', 'y15', 'z3', 'x11', 'z1', 'z2', 'z14', 'z6', 'z10', 'x2', 'x5', 'z5', 'y2', 'x12', 'x20', 'y5', 'y3', 'z18', 'y7', 'y1', 'x13', 'z12', 'x3', 'x10', 'x6', 'y6', 'x14', 'z11', 'z16', 'z15', 'z7', 'y21', 'z17', 'z8', 'x9', 'x16', 'x18', 'z19', 'y11', 'y18', 'z9', 'y8', 'y10', 'z21', 'x8', 'y14', 'z13', 'z20', 'y12', 'x19'] Current Score: 0.8083333333333333\n",
      "Added best feature: x17, Current feature list: ['x15', 'x1', 'x7', 'x21', 'y17', 'y4', 'y20', 'x4', 'y9', 'z4', 'y15', 'z3', 'x11', 'z1', 'z2', 'z14', 'z6', 'z10', 'x2', 'x5', 'z5', 'y2', 'x12', 'x20', 'y5', 'y3', 'z18', 'y7', 'y1', 'x13', 'z12', 'x3', 'x10', 'x6', 'y6', 'x14', 'z11', 'z16', 'z15', 'z7', 'y21', 'z17', 'z8', 'x9', 'x16', 'x18', 'z19', 'y11', 'y18', 'z9', 'y8', 'y10', 'z21', 'x8', 'y14', 'z13', 'z20', 'y12', 'x19', 'x17'] Current Score: 0.8\n",
      "Added best feature: y16, Current feature list: ['x15', 'x1', 'x7', 'x21', 'y17', 'y4', 'y20', 'x4', 'y9', 'z4', 'y15', 'z3', 'x11', 'z1', 'z2', 'z14', 'z6', 'z10', 'x2', 'x5', 'z5', 'y2', 'x12', 'x20', 'y5', 'y3', 'z18', 'y7', 'y1', 'x13', 'z12', 'x3', 'x10', 'x6', 'y6', 'x14', 'z11', 'z16', 'z15', 'z7', 'y21', 'z17', 'z8', 'x9', 'x16', 'x18', 'z19', 'y11', 'y18', 'z9', 'y8', 'y10', 'z21', 'x8', 'y14', 'z13', 'z20', 'y12', 'x19', 'x17', 'y16'] Current Score: 0.8041666666666667\n",
      "Added best feature: y19, Current feature list: ['x15', 'x1', 'x7', 'x21', 'y17', 'y4', 'y20', 'x4', 'y9', 'z4', 'y15', 'z3', 'x11', 'z1', 'z2', 'z14', 'z6', 'z10', 'x2', 'x5', 'z5', 'y2', 'x12', 'x20', 'y5', 'y3', 'z18', 'y7', 'y1', 'x13', 'z12', 'x3', 'x10', 'x6', 'y6', 'x14', 'z11', 'z16', 'z15', 'z7', 'y21', 'z17', 'z8', 'x9', 'x16', 'x18', 'z19', 'y11', 'y18', 'z9', 'y8', 'y10', 'z21', 'x8', 'y14', 'z13', 'z20', 'y12', 'x19', 'x17', 'y16', 'y19'] Current Score: 0.7916666666666666\n",
      "Added best feature: y13, Current feature list: ['x15', 'x1', 'x7', 'x21', 'y17', 'y4', 'y20', 'x4', 'y9', 'z4', 'y15', 'z3', 'x11', 'z1', 'z2', 'z14', 'z6', 'z10', 'x2', 'x5', 'z5', 'y2', 'x12', 'x20', 'y5', 'y3', 'z18', 'y7', 'y1', 'x13', 'z12', 'x3', 'x10', 'x6', 'y6', 'x14', 'z11', 'z16', 'z15', 'z7', 'y21', 'z17', 'z8', 'x9', 'x16', 'x18', 'z19', 'y11', 'y18', 'z9', 'y8', 'y10', 'z21', 'x8', 'y14', 'z13', 'z20', 'y12', 'x19', 'x17', 'y16', 'y19', 'y13'] Current Score: 0.7791666666666667\n",
      "Final features: ['x15', 'x1', 'x7', 'x21', 'y17', 'y4', 'y20', 'x4', 'y9', 'z4', 'y15', 'z3', 'x11', 'z1', 'z2', 'z14', 'z6', 'z10', 'x2', 'x5', 'z5', 'y2', 'x12', 'x20', 'y5', 'y3', 'z18', 'y7', 'y1', 'x13', 'z12', 'x3', 'x10', 'x6', 'y6', 'x14', 'z11', 'z16', 'z15', 'z7', 'y21', 'z17', 'z8', 'x9', 'x16', 'x18', 'z19', 'y11', 'y18', 'z9', 'y8', 'y10', 'z21', 'x8', 'y14', 'z13', 'z20', 'y12', 'x19', 'x17', 'y16', 'y19', 'y13'] Score: 0.7791666666666667\n"
     ]
    }
   ],
   "source": [
    "import pandas as pd\n",
    "import seaborn as sns\n",
    "import matplotlib.pyplot as plt\n",
    "from sklearn.neighbors import KNeighborsClassifier\n",
    "from sklearn.model_selection import train_test_split\n",
    "from sklearn.metrics import confusion_matrix, ConfusionMatrixDisplay\n",
    "\n",
    "df = pd.read_csv(\"data/acquired_hands.csv\")\n",
    "all = df.loc[:, df.columns != \"label\"]\n",
    "selected = []\n",
    "to_add = len(all)\n",
    "y_train = df[\"label\"]\n",
    "scorelist = []\n",
    "\n",
    "model = KNeighborsClassifier(n_neighbors=13)\n",
    "# Perform forward selection\n",
    "while to_add > 0:\n",
    "    best_feature = None\n",
    "    best_score = 0\n",
    "    for feature in all:\n",
    "        if feature not in selected:\n",
    "            combined_features = selected + [feature]\n",
    "            X_train, X_test, y_train, y_test = train_test_split(df[combined_features], df[\"label\"], test_size= 0.2, random_state=5)\n",
    "            #print(combined_features)\n",
    "            model.fit(X_train, y_train)\n",
    "            model_score = model.score(X_test, y_test)\n",
    "            #print(\"Features:\", selected, \"+\", feature + \", Score:\", model_score)\n",
    "            if model_score > best_score:\n",
    "                best_score = model_score\n",
    "                best_feature = feature\n",
    "    \n",
    "    # Append best feature to model\n",
    "    if(not best_feature):\n",
    "        break\n",
    "       \n",
    "    \n",
    "    selected.append(best_feature)\n",
    "    print(\"Added best feature:\", best_feature + \", Current feature list:\", selected, \"Current Score:\", best_score)\n",
    "    scorelist.append(best_score)\n",
    "    to_add -= 1\n",
    "# Print final feature score\n",
    "X_train, X_test, y_train, y_test = train_test_split(df[combined_features], df[\"label\"], test_size= 0.2, random_state=5)\n",
    "model.fit(X_train, y_train)\n",
    "initial_score = model.score(X_test, y_test)\n",
    "\n",
    "print(\"Final features:\", selected, \"Score:\", initial_score)"
   ]
  },
  {
   "cell_type": "code",
   "execution_count": 12,
   "metadata": {},
   "outputs": [
    {
     "data": {
      "text/plain": [
       "0.8458333333333333"
      ]
     },
     "execution_count": 12,
     "metadata": {},
     "output_type": "execute_result"
    }
   ],
   "source": [
    "scorelist[31]"
   ]
  },
  {
   "cell_type": "code",
   "execution_count": 13,
   "metadata": {},
   "outputs": [
    {
     "data": {
      "text/plain": [
       "<matplotlib.collections.PathCollection at 0x17d6ec9d0>"
      ]
     },
     "execution_count": 13,
     "metadata": {},
     "output_type": "execute_result"
    },
    {
     "data": {
      "image/png": "[encoded data removed]",
      "text/plain": [
       "<Figure size 640x480 with 1 Axes>"
      ]
     },
     "metadata": {},
     "output_type": "display_data"
    }
   ],
   "source": [
    "plt.scatter(range(len(scorelist)),scorelist)"
   ]
  },
  {
   "cell_type": "code",
   "execution_count": 14,
   "metadata": {},
   "outputs": [],
   "source": [
    "X = df.loc[:, df.columns != \"label\"]\n",
    "y = df[\"label\"]\n",
    "X_train, X_test, y_train, y_test = train_test_split(X, y, test_size=0.2, random_state=5)"
   ]
  },
  {
   "cell_type": "code",
   "execution_count": 21,
   "metadata": {},
   "outputs": [],
   "source": [
    "k_values = list(range(1,14,2))\n",
    "\n",
    "# Initiallize an empty list for our scores\n",
    "cv_scores = []\n",
    "\n",
    "#Perform 5-fold cross validation\n",
    "for k in k_values:\n",
    "    model = KNeighborsClassifier(n_neighbors=k)\n",
    "    scores = cross_val_score(model, X_train, y_train,cv =5, scoring = \"accuracy\")\n",
    "    # print(scores)\n",
    "    cv_scores.append(scores.mean())"
   ]
  },
  {
   "cell_type": "code",
   "execution_count": 22,
   "metadata": {},
   "outputs": [
    {
     "data": {
      "image/png": "[encoded data removed]",
      "text/plain": [
       "<Figure size 640x480 with 1 Axes>"
      ]
     },
     "metadata": {},
     "output_type": "display_data"
    }
   ],
   "source": [
    "sns.lineplot(x=k_values, y=cv_scores, marker='o')\n",
    "plt.title('Accuracy vs. K')\n",
    "plt.xlabel('Number of Neighbors (K)')\n",
    "plt.ylabel('Accuracy')\n",
    "plt.xticks(k_values)\n",
    "plt.grid(True)"
   ]
  },
  {
   "cell_type": "code",
   "execution_count": 24,
   "metadata": {},
   "outputs": [
    {
     "data": {
      "text/plain": [
       "0.8145833333333334"
      ]
     },
     "execution_count": 24,
     "metadata": {},
     "output_type": "execute_result"
    }
   ],
   "source": [
    "X = df.loc[:, df.columns != \"label\"]\n",
    "y = df[\"label\"]\n",
    "X_train, X_test, y_train, y_test = train_test_split(X, y, test_size=0.2, random_state=5)\n",
    "model = KNeighborsClassifier(n_neighbors=7)\n",
    "model = model.fit(X_train, y_train)\n",
    "scores = cross_val_score(model, X_train, y_train,cv =5, scoring = \"accuracy\")\n",
    "scores.mean()"
   ]
  },
  {
   "cell_type": "code",
   "execution_count": 25,
   "metadata": {},
   "outputs": [
    {
     "data": {
      "text/plain": [
       "array(['a', 'a', 'a', 'a', 'a', 'a', 'a', 'a', 'a', 'a', 'a', 'a', 'a',\n",
       "       'a', 'a', 'a', 'b', 'a', 'a', 'x', 'a', 'a', 'a', 'a', 'a', 'a',\n",
       "       'a', 'a', 'a', 'a', 'a', 'm', 'a', 'a', 'a', 'a', 'a', 'a', 'a',\n",
       "       'a', 'a', 'a', 'i', 'a', 'a', 'a', 'a', 'a', 'a', 'a'],\n",
       "      dtype=object)"
      ]
     },
     "execution_count": 25,
     "metadata": {},
     "output_type": "execute_result"
    }
   ],
   "source": [
    "something_test = pd.read_csv(\"data/acquired_data/a.csv\")\n",
    "something_else = something_test.loc[:,list(X_train.columns)]\n",
    "model.predict(something_else)\n"
   ]
  },
  {
   "cell_type": "code",
   "execution_count": 26,
   "metadata": {},
   "outputs": [
    {
     "data": {
      "text/plain": [
       "<sklearn.metrics._plot.confusion_matrix.ConfusionMatrixDisplay at 0x17d6a72e0>"
      ]
     },
     "execution_count": 26,
     "metadata": {},
     "output_type": "execute_result"
    },
    {
     "data": {
      "image/png": "[encoded data removed]",
      "text/plain": [
       "<Figure size 640x480 with 2 Axes>"
      ]
     },
     "metadata": {},
     "output_type": "display_data"
    }
   ],
   "source": [
    "y_pred = model.predict(X_test)\n",
    "\n",
    "# Create a confusion matrix\n",
    "labels = df[\"label\"].unique()\n",
    "conf_mat = confusion_matrix(y_test, y_pred, labels=labels)\n",
    "\n",
    "disp = ConfusionMatrixDisplay(conf_mat, display_labels=labels)\n",
    "disp.plot()"
   ]
  },
  {
   "cell_type": "code",
   "execution_count": 7,
   "metadata": {},
   "outputs": [],
   "source": [
    "dfcolnames = []\n",
    "for i in range(1,22):\n",
    "    for j in [\"x\",\"y\",\"z\"]:\n",
    "        dfcolnames.append(j+str(i))\n",
    "dfcolnames.append(\"label\")"
   ]
  },
  {
   "cell_type": "code",
   "execution_count": 8,
   "metadata": {},
   "outputs": [],
   "source": [
    "directory = 'data/acquired_data/'\n",
    "combined_acquired_df = pd.DataFrame()\n",
    "for filename in os.listdir(directory):\n",
    "    f = os.path.join(directory, filename)\n",
    "    # Checking if it is a file\n",
    "    if os.path.isfile(f):\n",
    "        file_path = directory + filename\n",
    "        df_temp = pd.read_csv(file_path)\n",
    "        combined_acquired_df = pd.concat([combined_acquired_df, df_temp], ignore_index = True)\n",
    "        combined_acquired_df.reset_index()\n"
   ]
  },
  {
   "cell_type": "code",
   "execution_count": 10,
   "metadata": {},
   "outputs": [],
   "source": [
    "combined_acquired_df.to_csv('data/acquired_hands.csv', index=False) "
   ]
  },
  {
   "cell_type": "code",
   "execution_count": 9,
   "metadata": {},
   "outputs": [
    {
     "data": {
      "text/plain": [
       "label\n",
       "w    50\n",
       "v    50\n",
       "l    50\n",
       "n    50\n",
       "y    50\n",
       "x    50\n",
       "o    50\n",
       "k    50\n",
       "h    50\n",
       "i    50\n",
       "s    50\n",
       "d    50\n",
       "e    50\n",
       "r    50\n",
       "p    50\n",
       "g    50\n",
       "f    50\n",
       "q    50\n",
       "b    50\n",
       "u    50\n",
       "t    50\n",
       "c    50\n",
       "a    50\n",
       "m    50\n",
       "Name: count, dtype: int64"
      ]
     },
     "execution_count": 9,
     "metadata": {},
     "output_type": "execute_result"
    }
   ],
   "source": [
    "combined_acquired_df[\"label\"].value_counts()"
   ]
  },
  {
   "cell_type": "code",
   "execution_count": null,
   "metadata": {},
   "outputs": [],
   "source": []
  }
 ],
 "metadata": {
  "kernelspec": {
   "display_name": ".venv",
   "language": "python",
   "name": "python3"
  },
  "language_info": {
   "codemirror_mode": {
    "name": "ipython",
    "version": 3
   },
   "file_extension": ".py",
   "mimetype": "text/x-python",
   "name": "python",
   "nbconvert_exporter": "python",
   "pygments_lexer": "ipython3",
   "version": "3.10.7"
  }
 },
 "nbformat": 4,
 "nbformat_minor": 2
}
