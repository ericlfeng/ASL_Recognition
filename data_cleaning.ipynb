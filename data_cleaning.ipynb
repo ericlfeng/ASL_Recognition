{
 "cells": [
  {
   "cell_type": "code",
   "execution_count": 1,
   "metadata": {},
   "outputs": [],
   "source": [
    "import os\n",
    "import mediapipe as mp\n",
    "from mediapipe import solutions\n",
    "from mediapipe.framework.formats import landmark_pb2\n",
    "import cv2\n",
    "import random\n",
    "import time\n",
    "from PIL import Image\n",
    "import pandas as pd"
   ]
  },
  {
   "cell_type": "code",
   "execution_count": 2,
   "metadata": {},
   "outputs": [],
   "source": [
    "# Library Constants\n",
    "BaseOptions = mp.tasks.BaseOptions\n",
    "HandLandmarker = mp.tasks.vision.HandLandmarker\n",
    "HandLandmarkPoints = mp.solutions.hands.HandLandmark\n",
    "HandLandmarkerOptions = mp.tasks.vision.HandLandmarkerOptions\n",
    "VisionRunningMode = mp.tasks.vision.RunningMode\n",
    "DrawingUtil = mp.solutions.drawing_utils"
   ]
  },
  {
   "cell_type": "code",
   "execution_count": 28,
   "metadata": {},
   "outputs": [
    {
     "name": "stderr",
     "output_type": "stream",
     "text": [
      "I0000 00:00:1714441463.611538       1 gl_context.cc:344] GL version: 2.1 (2.1 Metal - 88), renderer: Apple M1\n"
     ]
    }
   ],
   "source": [
    "# base_options = BaseOptions(model_asset_path='data/hand_landmarker.task')\n",
    "# options = HandLandmarkerOptions(base_options=base_options,\n",
    "#                                         num_hands=2)\n",
    "\n",
    "# detector = HandLandmarker.create_from_options(options)\n",
    "# def convert_detection_result(detection_result, image):\n",
    "#         \"\"\"\n",
    "#         Draws all the landmarks on the hand\n",
    "#         Args:\n",
    "#             image (Image): Image to draw on\n",
    "#             detection_result (HandLandmarkerResult): HandLandmarker detection results\n",
    "#         \"\"\"\n",
    "#         # Get a list of the landmarks\n",
    "#         hand_landmarks_list = detection_result.hand_landmarks\n",
    "        \n",
    "#         # Loop through the detected hands to visualize.\n",
    "#         listofpoints = []\n",
    "#         for idx in range(len(hand_landmarks_list)):\n",
    "#             hand_landmarks = hand_landmarks_list[idx]\n",
    "#             for landmark in hand_landmarks:\n",
    "#                   listofpoints.append(landmark.x)\n",
    "#                   listofpoints.append(landmark.y)\n",
    "#                   listofpoints.append(landmark.z)\n",
    "        \n",
    "\n",
    "#         return \"Nothing Here\""
   ]
  },
  {
   "cell_type": "code",
   "execution_count": 3,
   "metadata": {},
   "outputs": [
    {
     "name": "stderr",
     "output_type": "stream",
     "text": [
      "WARNING: All log messages before absl::InitializeLog() is called are written to STDERR\n",
      "I0000 00:00:1714447577.497051       1 gl_context.cc:344] GL version: 2.1 (2.1 Metal - 88), renderer: Apple M1\n",
      "INFO: Created TensorFlow Lite XNNPACK delegate for CPU.\n"
     ]
    }
   ],
   "source": [
    "import cv2\n",
    "import mediapipe as mp\n",
    "mp_drawing = mp.solutions.drawing_utils\n",
    "mp_hands = mp.solutions.hands\n",
    "\n",
    "base_options = BaseOptions(model_asset_path='data/hand_landmarker.task')\n",
    "options = HandLandmarkerOptions(base_options=base_options,\n",
    "                                        num_hands=2)\n",
    "\n",
    "detector = HandLandmarker.create_from_options(options)\n",
    "def convert_detection_result(detection_result, image):\n",
    "        \"\"\"\n",
    "        Draws all the landmarks on the hand\n",
    "        Args:\n",
    "            image (Image): Image to draw on\n",
    "            detection_result (HandLandmarkerResult): HandLandmarker detection results\n",
    "        \"\"\"\n",
    "        # Get a list of the landmarks\n",
    "        hand_landmarks_list = detection_result.hand_landmarks\n",
    "        \n",
    "        for idx in range(len(hand_landmarks_list)):\n",
    "            #NOTE this only works for one hand\n",
    "            listofpointstoreturn = []\n",
    "            hand_landmarks = hand_landmarks_list[idx]\n",
    "\n",
    "            # Save the landmarks into a NormalizedLandmarkList\n",
    "            hand_landmarks_proto = landmark_pb2.NormalizedLandmarkList()\n",
    "            hand_landmarks_proto.landmark.extend([\n",
    "            landmark_pb2.NormalizedLandmark(x=landmark.x, y=landmark.y, z=landmark.z) for landmark in hand_landmarks\n",
    "            ])\n",
    "            # results = mp_hands.Hands.process(image = image)\n",
    "\n",
    "            if hand_landmarks:\n",
    "                for landmrk in hand_landmarks:\n",
    "                    # for ids, landmrk in enumerate(hand_landmarks.landmark):\n",
    "                        # print(ids, landmrk)\n",
    "                    listofpointstoreturn.append(landmrk.x)\n",
    "                    listofpointstoreturn.append(landmrk.y)\n",
    "                    listofpointstoreturn.append(landmrk.z)\n",
    "                return listofpointstoreturn\n",
    "        \n",
    "        return \"Nothing Here\""
   ]
  },
  {
   "cell_type": "code",
   "execution_count": 4,
   "metadata": {},
   "outputs": [],
   "source": [
    "def returndatapoints(image):\n",
    "    to_detect = mp.Image(image_format=mp.ImageFormat.SRGB, data=image)\n",
    "    results = detector.detect(to_detect)            \n",
    "    # Draw the hand landmarks\n",
    "    points = convert_detection_result(results, image)\n",
    "    if points == \"Nothing Here\":\n",
    "        border_size = 150\n",
    "        frame = cv2.copyMakeBorder(image, top=border_size, \n",
    "                                bottom=border_size, left=border_size, \n",
    "                                right=border_size,\n",
    "                                borderType=cv2.BORDER_CONSTANT, \n",
    "                                value=[0, 0, 0]\n",
    "        )\n",
    "        to_detect = mp.Image(image_format=mp.ImageFormat.SRGB, data=frame)\n",
    "        results = detector.detect(to_detect) \n",
    "        points = convert_detection_result(results, frame)\n",
    "    return points\n"
   ]
  },
  {
   "cell_type": "code",
   "execution_count": 5,
   "metadata": {},
   "outputs": [
    {
     "data": {
      "text/plain": [
       "63"
      ]
     },
     "execution_count": 5,
     "metadata": {},
     "output_type": "execute_result"
    }
   ],
   "source": [
    "\n",
    "file_path = \"data/raw_asl_hands/c/hand2_c_dif_seg_2_cropped.jpeg\"\n",
    "img = cv2.imread(file_path)\n",
    "len(returndatapoints(image = img))\n",
    "#Planning on seperating the xyz coordinates into seperate columns\n"
   ]
  },
  {
   "cell_type": "code",
   "execution_count": 6,
   "metadata": {},
   "outputs": [],
   "source": [
    "twodarray = []\n",
    "dfcolnames = []\n",
    "for i in range(1,22):\n",
    "    for j in [\"x\",\"y\",\"z\"]:\n",
    "        dfcolnames.append(j+str(i))\n",
    "dfcolnames.append(\"label\")\n",
    "\n",
    "# Iterates over every file in the raw_asl_hands folder\n",
    "for folder in [\"a\",\"b\",\"c\",\"d\",\"e\",\"f\",\"g\",\"h\",\"i\",\"j\",\n",
    "               \"k\",\"l\",\"m\",\"n\",\"o\",\"p\",\"q\",\"r\",\"s\",\"t\",\n",
    "               \"u\",\"v\",\"w\",\"x\",\"y\",\"z\"]:\n",
    "    directory = 'data/raw_asl_hands/' + folder + \"/\"\n",
    "    # Iterate over files in\n",
    "    # that directory\n",
    "    for filename in os.listdir(directory):\n",
    "        f = os.path.join(directory, filename)\n",
    "        # Checking if it is a file\n",
    "        if os.path.isfile(f):\n",
    "            file_path = directory + filename\n",
    "            #print(file_path)\n",
    "            img = cv2.imread(file_path)\n",
    "            #print(returndatapoints(image = img))\n",
    "            goodvarname = returndatapoints(img)\n",
    "            if goodvarname != \"Nothing Here\" and len(goodvarname) == 63:\n",
    "                goodvarname.append(folder)\n",
    "                twodarray.append(goodvarname)\n",
    "\n",
    "\n",
    "df = pd.DataFrame(twodarray, columns = dfcolnames)\n",
    "#print(dfcolnames)\n",
    "                \n",
    "\n"
   ]
  },
  {
   "cell_type": "code",
   "execution_count": 7,
   "metadata": {},
   "outputs": [],
   "source": [
    "df.to_csv('data/cleanhands.csv', index=False) "
   ]
  },
  {
   "cell_type": "code",
   "execution_count": 13,
   "metadata": {},
   "outputs": [
    {
     "data": {
      "text/plain": [
       "label\n",
       "l    28\n",
       "a    20\n",
       "k    19\n",
       "p    11\n",
       "y    10\n",
       "h     9\n",
       "t     8\n",
       "c     7\n",
       "b     2\n",
       "r     1\n",
       "z     1\n",
       "Name: count, dtype: int64"
      ]
     },
     "execution_count": 13,
     "metadata": {},
     "output_type": "execute_result"
    }
   ],
   "source": [
    "df[\"label\"].value_counts()"
   ]
  },
  {
   "cell_type": "code",
   "execution_count": 2,
   "metadata": {},
   "outputs": [
    {
     "name": "stderr",
     "output_type": "stream",
     "text": [
      "WARNING: All log messages before absl::InitializeLog() is called are written to STDERR\n",
      "I0000 00:00:1713991274.190535       1 gl_context.cc:344] GL version: 2.1 (2.1 Metal - 88), renderer: Apple M1\n",
      "INFO: Created TensorFlow Lite XNNPACK delegate for CPU.\n",
      "2024-04-24 13:41:14.358 Python[80121:5548411] WARNING: Secure coding is not enabled for restorable state! Enable secure coding by implementing NSApplicationDelegate.applicationSupportsSecureRestorableState: and returning YES.\n"
     ]
    }
   ],
   "source": [
    "import cv2\n",
    "import mediapipe as mp\n",
    "mp_drawing = mp.solutions.drawing_utils\n",
    "mp_hands = mp.solutions.hands\n",
    "\n",
    "\n",
    "# For webcam input:\n",
    "cap = cv2.VideoCapture(0)\n",
    "with mp_hands.Hands(\n",
    "    min_detection_confidence=0.5,\n",
    "    min_tracking_confidence=0.5) as hands:\n",
    "  while cap.isOpened():\n",
    "    success, image = cap.read()\n",
    "    if not success:\n",
    "      print(\"Ignoring empty camera frame.\")\n",
    "      # If loading a video, use 'break' instead of 'continue'.\n",
    "      continue\n",
    "\n",
    "    # Flip the image horizontally for a later selfie-view display, and convert\n",
    "    # the BGR image to RGB.\n",
    "    image = cv2.cvtColor(cv2.flip(image, 1), cv2.COLOR_BGR2RGB)\n",
    "    # To improve performance, optionally mark the image as not writeable to\n",
    "    # pass by reference.\n",
    "    image.flags.writeable = False\n",
    "    results = hands.process(image)\n",
    "    image_height, image_width, _ = image.shape\n",
    "    # Draw the hand annotations on the image.\n",
    "    image.flags.writeable = True\n",
    "    image = cv2.cvtColor(image, cv2.COLOR_RGB2BGR)\n",
    "    if results.multi_hand_landmarks:\n",
    "      for hand_landmarks in results.multi_hand_landmarks:\n",
    "        # Here is How to Get All the Coordinates\n",
    "        for ids, landmrk in enumerate(hand_landmarks.landmark):\n",
    "            # print(ids, landmrk)\n",
    "            print(landmrk.x, landmrk.y)\n",
    "            # print (ids, cx, cy)\n",
    "        mp_drawing.draw_landmarks(\n",
    "            image, hand_landmarks, mp_hands.HAND_CONNECTIONS)\n",
    "    cv2.imshow('MediaPipe Hands', image)\n",
    "    if cv2.waitKey(50) & 0xFF == ord('q'):\n",
    "      break\n",
    "cap.release()\n",
    "cv2.destroyAllWindows()\n"
   ]
  },
  {
   "cell_type": "code",
   "execution_count": 17,
   "metadata": {},
   "outputs": [
    {
     "name": "stdout",
     "output_type": "stream",
     "text": [
      "Added best feature: y3, Current feature list: ['y3'] Current Score: 0.75\n",
      "Added best feature: y4, Current feature list: ['y3', 'y4'] Current Score: 0.875\n",
      "Added best feature: z6, Current feature list: ['y3', 'y4', 'z6'] Current Score: 0.9166666666666666\n",
      "Added best feature: y9, Current feature list: ['y3', 'y4', 'z6', 'y9'] Current Score: 0.9583333333333334\n",
      "Added best feature: y1, Current feature list: ['y3', 'y4', 'z6', 'y9', 'y1'] Current Score: 0.9583333333333334\n",
      "Added best feature: z1, Current feature list: ['y3', 'y4', 'z6', 'y9', 'y1', 'z1'] Current Score: 0.9583333333333334\n",
      "Added best feature: y2, Current feature list: ['y3', 'y4', 'z6', 'y9', 'y1', 'z1', 'y2'] Current Score: 0.9583333333333334\n",
      "Added best feature: z2, Current feature list: ['y3', 'y4', 'z6', 'y9', 'y1', 'z1', 'y2', 'z2'] Current Score: 0.9583333333333334\n",
      "Added best feature: x3, Current feature list: ['y3', 'y4', 'z6', 'y9', 'y1', 'z1', 'y2', 'z2', 'x3'] Current Score: 0.9583333333333334\n",
      "Added best feature: z3, Current feature list: ['y3', 'y4', 'z6', 'y9', 'y1', 'z1', 'y2', 'z2', 'x3', 'z3'] Current Score: 0.9583333333333334\n",
      "Added best feature: z4, Current feature list: ['y3', 'y4', 'z6', 'y9', 'y1', 'z1', 'y2', 'z2', 'x3', 'z3', 'z4'] Current Score: 0.9583333333333334\n",
      "Added best feature: x5, Current feature list: ['y3', 'y4', 'z6', 'y9', 'y1', 'z1', 'y2', 'z2', 'x3', 'z3', 'z4', 'x5'] Current Score: 0.9583333333333334\n",
      "Added best feature: x2, Current feature list: ['y3', 'y4', 'z6', 'y9', 'y1', 'z1', 'y2', 'z2', 'x3', 'z3', 'z4', 'x5', 'x2'] Current Score: 0.9583333333333334\n",
      "Added best feature: x6, Current feature list: ['y3', 'y4', 'z6', 'y9', 'y1', 'z1', 'y2', 'z2', 'x3', 'z3', 'z4', 'x5', 'x2', 'x6'] Current Score: 0.9583333333333334\n",
      "Added best feature: x1, Current feature list: ['y3', 'y4', 'z6', 'y9', 'y1', 'z1', 'y2', 'z2', 'x3', 'z3', 'z4', 'x5', 'x2', 'x6', 'x1'] Current Score: 0.9583333333333334\n",
      "Added best feature: y5, Current feature list: ['y3', 'y4', 'z6', 'y9', 'y1', 'z1', 'y2', 'z2', 'x3', 'z3', 'z4', 'x5', 'x2', 'x6', 'x1', 'y5'] Current Score: 0.9583333333333334\n",
      "Added best feature: z5, Current feature list: ['y3', 'y4', 'z6', 'y9', 'y1', 'z1', 'y2', 'z2', 'x3', 'z3', 'z4', 'x5', 'x2', 'x6', 'x1', 'y5', 'z5'] Current Score: 0.9583333333333334\n",
      "Added best feature: y6, Current feature list: ['y3', 'y4', 'z6', 'y9', 'y1', 'z1', 'y2', 'z2', 'x3', 'z3', 'z4', 'x5', 'x2', 'x6', 'x1', 'y5', 'z5', 'y6'] Current Score: 0.9583333333333334\n",
      "Added best feature: x7, Current feature list: ['y3', 'y4', 'z6', 'y9', 'y1', 'z1', 'y2', 'z2', 'x3', 'z3', 'z4', 'x5', 'x2', 'x6', 'x1', 'y5', 'z5', 'y6', 'x7'] Current Score: 0.9583333333333334\n",
      "Added best feature: y7, Current feature list: ['y3', 'y4', 'z6', 'y9', 'y1', 'z1', 'y2', 'z2', 'x3', 'z3', 'z4', 'x5', 'x2', 'x6', 'x1', 'y5', 'z5', 'y6', 'x7', 'y7'] Current Score: 0.9583333333333334\n",
      "Added best feature: z7, Current feature list: ['y3', 'y4', 'z6', 'y9', 'y1', 'z1', 'y2', 'z2', 'x3', 'z3', 'z4', 'x5', 'x2', 'x6', 'x1', 'y5', 'z5', 'y6', 'x7', 'y7', 'z7'] Current Score: 0.9583333333333334\n",
      "Added best feature: x8, Current feature list: ['y3', 'y4', 'z6', 'y9', 'y1', 'z1', 'y2', 'z2', 'x3', 'z3', 'z4', 'x5', 'x2', 'x6', 'x1', 'y5', 'z5', 'y6', 'x7', 'y7', 'z7', 'x8'] Current Score: 0.9583333333333334\n",
      "Added best feature: y8, Current feature list: ['y3', 'y4', 'z6', 'y9', 'y1', 'z1', 'y2', 'z2', 'x3', 'z3', 'z4', 'x5', 'x2', 'x6', 'x1', 'y5', 'z5', 'y6', 'x7', 'y7', 'z7', 'x8', 'y8'] Current Score: 0.9583333333333334\n",
      "Added best feature: z8, Current feature list: ['y3', 'y4', 'z6', 'y9', 'y1', 'z1', 'y2', 'z2', 'x3', 'z3', 'z4', 'x5', 'x2', 'x6', 'x1', 'y5', 'z5', 'y6', 'x7', 'y7', 'z7', 'x8', 'y8', 'z8'] Current Score: 0.9583333333333334\n",
      "Added best feature: x9, Current feature list: ['y3', 'y4', 'z6', 'y9', 'y1', 'z1', 'y2', 'z2', 'x3', 'z3', 'z4', 'x5', 'x2', 'x6', 'x1', 'y5', 'z5', 'y6', 'x7', 'y7', 'z7', 'x8', 'y8', 'z8', 'x9'] Current Score: 0.9583333333333334\n",
      "Added best feature: z9, Current feature list: ['y3', 'y4', 'z6', 'y9', 'y1', 'z1', 'y2', 'z2', 'x3', 'z3', 'z4', 'x5', 'x2', 'x6', 'x1', 'y5', 'z5', 'y6', 'x7', 'y7', 'z7', 'x8', 'y8', 'z8', 'x9', 'z9'] Current Score: 0.9583333333333334\n",
      "Added best feature: x10, Current feature list: ['y3', 'y4', 'z6', 'y9', 'y1', 'z1', 'y2', 'z2', 'x3', 'z3', 'z4', 'x5', 'x2', 'x6', 'x1', 'y5', 'z5', 'y6', 'x7', 'y7', 'z7', 'x8', 'y8', 'z8', 'x9', 'z9', 'x10'] Current Score: 0.9583333333333334\n",
      "Added best feature: y10, Current feature list: ['y3', 'y4', 'z6', 'y9', 'y1', 'z1', 'y2', 'z2', 'x3', 'z3', 'z4', 'x5', 'x2', 'x6', 'x1', 'y5', 'z5', 'y6', 'x7', 'y7', 'z7', 'x8', 'y8', 'z8', 'x9', 'z9', 'x10', 'y10'] Current Score: 0.9583333333333334\n",
      "Added best feature: z10, Current feature list: ['y3', 'y4', 'z6', 'y9', 'y1', 'z1', 'y2', 'z2', 'x3', 'z3', 'z4', 'x5', 'x2', 'x6', 'x1', 'y5', 'z5', 'y6', 'x7', 'y7', 'z7', 'x8', 'y8', 'z8', 'x9', 'z9', 'x10', 'y10', 'z10'] Current Score: 0.9583333333333334\n",
      "Added best feature: x11, Current feature list: ['y3', 'y4', 'z6', 'y9', 'y1', 'z1', 'y2', 'z2', 'x3', 'z3', 'z4', 'x5', 'x2', 'x6', 'x1', 'y5', 'z5', 'y6', 'x7', 'y7', 'z7', 'x8', 'y8', 'z8', 'x9', 'z9', 'x10', 'y10', 'z10', 'x11'] Current Score: 0.9583333333333334\n",
      "Added best feature: y11, Current feature list: ['y3', 'y4', 'z6', 'y9', 'y1', 'z1', 'y2', 'z2', 'x3', 'z3', 'z4', 'x5', 'x2', 'x6', 'x1', 'y5', 'z5', 'y6', 'x7', 'y7', 'z7', 'x8', 'y8', 'z8', 'x9', 'z9', 'x10', 'y10', 'z10', 'x11', 'y11'] Current Score: 0.9583333333333334\n",
      "Added best feature: z11, Current feature list: ['y3', 'y4', 'z6', 'y9', 'y1', 'z1', 'y2', 'z2', 'x3', 'z3', 'z4', 'x5', 'x2', 'x6', 'x1', 'y5', 'z5', 'y6', 'x7', 'y7', 'z7', 'x8', 'y8', 'z8', 'x9', 'z9', 'x10', 'y10', 'z10', 'x11', 'y11', 'z11'] Current Score: 0.9583333333333334\n",
      "Added best feature: x12, Current feature list: ['y3', 'y4', 'z6', 'y9', 'y1', 'z1', 'y2', 'z2', 'x3', 'z3', 'z4', 'x5', 'x2', 'x6', 'x1', 'y5', 'z5', 'y6', 'x7', 'y7', 'z7', 'x8', 'y8', 'z8', 'x9', 'z9', 'x10', 'y10', 'z10', 'x11', 'y11', 'z11', 'x12'] Current Score: 0.9583333333333334\n",
      "Added best feature: y12, Current feature list: ['y3', 'y4', 'z6', 'y9', 'y1', 'z1', 'y2', 'z2', 'x3', 'z3', 'z4', 'x5', 'x2', 'x6', 'x1', 'y5', 'z5', 'y6', 'x7', 'y7', 'z7', 'x8', 'y8', 'z8', 'x9', 'z9', 'x10', 'y10', 'z10', 'x11', 'y11', 'z11', 'x12', 'y12'] Current Score: 0.9583333333333334\n",
      "Added best feature: z12, Current feature list: ['y3', 'y4', 'z6', 'y9', 'y1', 'z1', 'y2', 'z2', 'x3', 'z3', 'z4', 'x5', 'x2', 'x6', 'x1', 'y5', 'z5', 'y6', 'x7', 'y7', 'z7', 'x8', 'y8', 'z8', 'x9', 'z9', 'x10', 'y10', 'z10', 'x11', 'y11', 'z11', 'x12', 'y12', 'z12'] Current Score: 0.9583333333333334\n",
      "Added best feature: x13, Current feature list: ['y3', 'y4', 'z6', 'y9', 'y1', 'z1', 'y2', 'z2', 'x3', 'z3', 'z4', 'x5', 'x2', 'x6', 'x1', 'y5', 'z5', 'y6', 'x7', 'y7', 'z7', 'x8', 'y8', 'z8', 'x9', 'z9', 'x10', 'y10', 'z10', 'x11', 'y11', 'z11', 'x12', 'y12', 'z12', 'x13'] Current Score: 0.9583333333333334\n",
      "Added best feature: y13, Current feature list: ['y3', 'y4', 'z6', 'y9', 'y1', 'z1', 'y2', 'z2', 'x3', 'z3', 'z4', 'x5', 'x2', 'x6', 'x1', 'y5', 'z5', 'y6', 'x7', 'y7', 'z7', 'x8', 'y8', 'z8', 'x9', 'z9', 'x10', 'y10', 'z10', 'x11', 'y11', 'z11', 'x12', 'y12', 'z12', 'x13', 'y13'] Current Score: 0.9583333333333334\n",
      "Added best feature: x4, Current feature list: ['y3', 'y4', 'z6', 'y9', 'y1', 'z1', 'y2', 'z2', 'x3', 'z3', 'z4', 'x5', 'x2', 'x6', 'x1', 'y5', 'z5', 'y6', 'x7', 'y7', 'z7', 'x8', 'y8', 'z8', 'x9', 'z9', 'x10', 'y10', 'z10', 'x11', 'y11', 'z11', 'x12', 'y12', 'z12', 'x13', 'y13', 'x4'] Current Score: 0.9583333333333334\n",
      "Added best feature: y14, Current feature list: ['y3', 'y4', 'z6', 'y9', 'y1', 'z1', 'y2', 'z2', 'x3', 'z3', 'z4', 'x5', 'x2', 'x6', 'x1', 'y5', 'z5', 'y6', 'x7', 'y7', 'z7', 'x8', 'y8', 'z8', 'x9', 'z9', 'x10', 'y10', 'z10', 'x11', 'y11', 'z11', 'x12', 'y12', 'z12', 'x13', 'y13', 'x4', 'y14'] Current Score: 0.9583333333333334\n",
      "Added best feature: z14, Current feature list: ['y3', 'y4', 'z6', 'y9', 'y1', 'z1', 'y2', 'z2', 'x3', 'z3', 'z4', 'x5', 'x2', 'x6', 'x1', 'y5', 'z5', 'y6', 'x7', 'y7', 'z7', 'x8', 'y8', 'z8', 'x9', 'z9', 'x10', 'y10', 'z10', 'x11', 'y11', 'z11', 'x12', 'y12', 'z12', 'x13', 'y13', 'x4', 'y14', 'z14'] Current Score: 0.9583333333333334\n",
      "Added best feature: y15, Current feature list: ['y3', 'y4', 'z6', 'y9', 'y1', 'z1', 'y2', 'z2', 'x3', 'z3', 'z4', 'x5', 'x2', 'x6', 'x1', 'y5', 'z5', 'y6', 'x7', 'y7', 'z7', 'x8', 'y8', 'z8', 'x9', 'z9', 'x10', 'y10', 'z10', 'x11', 'y11', 'z11', 'x12', 'y12', 'z12', 'x13', 'y13', 'x4', 'y14', 'z14', 'y15'] Current Score: 0.9583333333333334\n",
      "Added best feature: z15, Current feature list: ['y3', 'y4', 'z6', 'y9', 'y1', 'z1', 'y2', 'z2', 'x3', 'z3', 'z4', 'x5', 'x2', 'x6', 'x1', 'y5', 'z5', 'y6', 'x7', 'y7', 'z7', 'x8', 'y8', 'z8', 'x9', 'z9', 'x10', 'y10', 'z10', 'x11', 'y11', 'z11', 'x12', 'y12', 'z12', 'x13', 'y13', 'x4', 'y14', 'z14', 'y15', 'z15'] Current Score: 0.9583333333333334\n",
      "Added best feature: x14, Current feature list: ['y3', 'y4', 'z6', 'y9', 'y1', 'z1', 'y2', 'z2', 'x3', 'z3', 'z4', 'x5', 'x2', 'x6', 'x1', 'y5', 'z5', 'y6', 'x7', 'y7', 'z7', 'x8', 'y8', 'z8', 'x9', 'z9', 'x10', 'y10', 'z10', 'x11', 'y11', 'z11', 'x12', 'y12', 'z12', 'x13', 'y13', 'x4', 'y14', 'z14', 'y15', 'z15', 'x14'] Current Score: 0.9583333333333334\n",
      "Added best feature: y17, Current feature list: ['y3', 'y4', 'z6', 'y9', 'y1', 'z1', 'y2', 'z2', 'x3', 'z3', 'z4', 'x5', 'x2', 'x6', 'x1', 'y5', 'z5', 'y6', 'x7', 'y7', 'z7', 'x8', 'y8', 'z8', 'x9', 'z9', 'x10', 'y10', 'z10', 'x11', 'y11', 'z11', 'x12', 'y12', 'z12', 'x13', 'y13', 'x4', 'y14', 'z14', 'y15', 'z15', 'x14', 'y17'] Current Score: 0.9583333333333334\n",
      "Added best feature: y18, Current feature list: ['y3', 'y4', 'z6', 'y9', 'y1', 'z1', 'y2', 'z2', 'x3', 'z3', 'z4', 'x5', 'x2', 'x6', 'x1', 'y5', 'z5', 'y6', 'x7', 'y7', 'z7', 'x8', 'y8', 'z8', 'x9', 'z9', 'x10', 'y10', 'z10', 'x11', 'y11', 'z11', 'x12', 'y12', 'z12', 'x13', 'y13', 'x4', 'y14', 'z14', 'y15', 'z15', 'x14', 'y17', 'y18'] Current Score: 0.9583333333333334\n",
      "Added best feature: z16, Current feature list: ['y3', 'y4', 'z6', 'y9', 'y1', 'z1', 'y2', 'z2', 'x3', 'z3', 'z4', 'x5', 'x2', 'x6', 'x1', 'y5', 'z5', 'y6', 'x7', 'y7', 'z7', 'x8', 'y8', 'z8', 'x9', 'z9', 'x10', 'y10', 'z10', 'x11', 'y11', 'z11', 'x12', 'y12', 'z12', 'x13', 'y13', 'x4', 'y14', 'z14', 'y15', 'z15', 'x14', 'y17', 'y18', 'z16'] Current Score: 0.9583333333333334\n",
      "Added best feature: z18, Current feature list: ['y3', 'y4', 'z6', 'y9', 'y1', 'z1', 'y2', 'z2', 'x3', 'z3', 'z4', 'x5', 'x2', 'x6', 'x1', 'y5', 'z5', 'y6', 'x7', 'y7', 'z7', 'x8', 'y8', 'z8', 'x9', 'z9', 'x10', 'y10', 'z10', 'x11', 'y11', 'z11', 'x12', 'y12', 'z12', 'x13', 'y13', 'x4', 'y14', 'z14', 'y15', 'z15', 'x14', 'y17', 'y18', 'z16', 'z18'] Current Score: 0.9583333333333334\n",
      "Added best feature: y19, Current feature list: ['y3', 'y4', 'z6', 'y9', 'y1', 'z1', 'y2', 'z2', 'x3', 'z3', 'z4', 'x5', 'x2', 'x6', 'x1', 'y5', 'z5', 'y6', 'x7', 'y7', 'z7', 'x8', 'y8', 'z8', 'x9', 'z9', 'x10', 'y10', 'z10', 'x11', 'y11', 'z11', 'x12', 'y12', 'z12', 'x13', 'y13', 'x4', 'y14', 'z14', 'y15', 'z15', 'x14', 'y17', 'y18', 'z16', 'z18', 'y19'] Current Score: 0.9583333333333334\n",
      "Added best feature: z19, Current feature list: ['y3', 'y4', 'z6', 'y9', 'y1', 'z1', 'y2', 'z2', 'x3', 'z3', 'z4', 'x5', 'x2', 'x6', 'x1', 'y5', 'z5', 'y6', 'x7', 'y7', 'z7', 'x8', 'y8', 'z8', 'x9', 'z9', 'x10', 'y10', 'z10', 'x11', 'y11', 'z11', 'x12', 'y12', 'z12', 'x13', 'y13', 'x4', 'y14', 'z14', 'y15', 'z15', 'x14', 'y17', 'y18', 'z16', 'z18', 'y19', 'z19'] Current Score: 0.9583333333333334\n",
      "Added best feature: z20, Current feature list: ['y3', 'y4', 'z6', 'y9', 'y1', 'z1', 'y2', 'z2', 'x3', 'z3', 'z4', 'x5', 'x2', 'x6', 'x1', 'y5', 'z5', 'y6', 'x7', 'y7', 'z7', 'x8', 'y8', 'z8', 'x9', 'z9', 'x10', 'y10', 'z10', 'x11', 'y11', 'z11', 'x12', 'y12', 'z12', 'x13', 'y13', 'x4', 'y14', 'z14', 'y15', 'z15', 'x14', 'y17', 'y18', 'z16', 'z18', 'y19', 'z19', 'z20'] Current Score: 0.9583333333333334\n",
      "Added best feature: x21, Current feature list: ['y3', 'y4', 'z6', 'y9', 'y1', 'z1', 'y2', 'z2', 'x3', 'z3', 'z4', 'x5', 'x2', 'x6', 'x1', 'y5', 'z5', 'y6', 'x7', 'y7', 'z7', 'x8', 'y8', 'z8', 'x9', 'z9', 'x10', 'y10', 'z10', 'x11', 'y11', 'z11', 'x12', 'y12', 'z12', 'x13', 'y13', 'x4', 'y14', 'z14', 'y15', 'z15', 'x14', 'y17', 'y18', 'z16', 'z18', 'y19', 'z19', 'z20', 'x21'] Current Score: 0.9583333333333334\n",
      "Added best feature: z13, Current feature list: ['y3', 'y4', 'z6', 'y9', 'y1', 'z1', 'y2', 'z2', 'x3', 'z3', 'z4', 'x5', 'x2', 'x6', 'x1', 'y5', 'z5', 'y6', 'x7', 'y7', 'z7', 'x8', 'y8', 'z8', 'x9', 'z9', 'x10', 'y10', 'z10', 'x11', 'y11', 'z11', 'x12', 'y12', 'z12', 'x13', 'y13', 'x4', 'y14', 'z14', 'y15', 'z15', 'x14', 'y17', 'y18', 'z16', 'z18', 'y19', 'z19', 'z20', 'x21', 'z13'] Current Score: 0.9166666666666666\n",
      "Added best feature: x15, Current feature list: ['y3', 'y4', 'z6', 'y9', 'y1', 'z1', 'y2', 'z2', 'x3', 'z3', 'z4', 'x5', 'x2', 'x6', 'x1', 'y5', 'z5', 'y6', 'x7', 'y7', 'z7', 'x8', 'y8', 'z8', 'x9', 'z9', 'x10', 'y10', 'z10', 'x11', 'y11', 'z11', 'x12', 'y12', 'z12', 'x13', 'y13', 'x4', 'y14', 'z14', 'y15', 'z15', 'x14', 'y17', 'y18', 'z16', 'z18', 'y19', 'z19', 'z20', 'x21', 'z13', 'x15'] Current Score: 0.9166666666666666\n",
      "Added best feature: x17, Current feature list: ['y3', 'y4', 'z6', 'y9', 'y1', 'z1', 'y2', 'z2', 'x3', 'z3', 'z4', 'x5', 'x2', 'x6', 'x1', 'y5', 'z5', 'y6', 'x7', 'y7', 'z7', 'x8', 'y8', 'z8', 'x9', 'z9', 'x10', 'y10', 'z10', 'x11', 'y11', 'z11', 'x12', 'y12', 'z12', 'x13', 'y13', 'x4', 'y14', 'z14', 'y15', 'z15', 'x14', 'y17', 'y18', 'z16', 'z18', 'y19', 'z19', 'z20', 'x21', 'z13', 'x15', 'x17'] Current Score: 0.9166666666666666\n",
      "Added best feature: x16, Current feature list: ['y3', 'y4', 'z6', 'y9', 'y1', 'z1', 'y2', 'z2', 'x3', 'z3', 'z4', 'x5', 'x2', 'x6', 'x1', 'y5', 'z5', 'y6', 'x7', 'y7', 'z7', 'x8', 'y8', 'z8', 'x9', 'z9', 'x10', 'y10', 'z10', 'x11', 'y11', 'z11', 'x12', 'y12', 'z12', 'x13', 'y13', 'x4', 'y14', 'z14', 'y15', 'z15', 'x14', 'y17', 'y18', 'z16', 'z18', 'y19', 'z19', 'z20', 'x21', 'z13', 'x15', 'x17', 'x16'] Current Score: 0.875\n",
      "Added best feature: y16, Current feature list: ['y3', 'y4', 'z6', 'y9', 'y1', 'z1', 'y2', 'z2', 'x3', 'z3', 'z4', 'x5', 'x2', 'x6', 'x1', 'y5', 'z5', 'y6', 'x7', 'y7', 'z7', 'x8', 'y8', 'z8', 'x9', 'z9', 'x10', 'y10', 'z10', 'x11', 'y11', 'z11', 'x12', 'y12', 'z12', 'x13', 'y13', 'x4', 'y14', 'z14', 'y15', 'z15', 'x14', 'y17', 'y18', 'z16', 'z18', 'y19', 'z19', 'z20', 'x21', 'z13', 'x15', 'x17', 'x16', 'y16'] Current Score: 0.875\n",
      "Added best feature: z17, Current feature list: ['y3', 'y4', 'z6', 'y9', 'y1', 'z1', 'y2', 'z2', 'x3', 'z3', 'z4', 'x5', 'x2', 'x6', 'x1', 'y5', 'z5', 'y6', 'x7', 'y7', 'z7', 'x8', 'y8', 'z8', 'x9', 'z9', 'x10', 'y10', 'z10', 'x11', 'y11', 'z11', 'x12', 'y12', 'z12', 'x13', 'y13', 'x4', 'y14', 'z14', 'y15', 'z15', 'x14', 'y17', 'y18', 'z16', 'z18', 'y19', 'z19', 'z20', 'x21', 'z13', 'x15', 'x17', 'x16', 'y16', 'z17'] Current Score: 0.875\n",
      "Added best feature: x18, Current feature list: ['y3', 'y4', 'z6', 'y9', 'y1', 'z1', 'y2', 'z2', 'x3', 'z3', 'z4', 'x5', 'x2', 'x6', 'x1', 'y5', 'z5', 'y6', 'x7', 'y7', 'z7', 'x8', 'y8', 'z8', 'x9', 'z9', 'x10', 'y10', 'z10', 'x11', 'y11', 'z11', 'x12', 'y12', 'z12', 'x13', 'y13', 'x4', 'y14', 'z14', 'y15', 'z15', 'x14', 'y17', 'y18', 'z16', 'z18', 'y19', 'z19', 'z20', 'x21', 'z13', 'x15', 'x17', 'x16', 'y16', 'z17', 'x18'] Current Score: 0.875\n",
      "Added best feature: x19, Current feature list: ['y3', 'y4', 'z6', 'y9', 'y1', 'z1', 'y2', 'z2', 'x3', 'z3', 'z4', 'x5', 'x2', 'x6', 'x1', 'y5', 'z5', 'y6', 'x7', 'y7', 'z7', 'x8', 'y8', 'z8', 'x9', 'z9', 'x10', 'y10', 'z10', 'x11', 'y11', 'z11', 'x12', 'y12', 'z12', 'x13', 'y13', 'x4', 'y14', 'z14', 'y15', 'z15', 'x14', 'y17', 'y18', 'z16', 'z18', 'y19', 'z19', 'z20', 'x21', 'z13', 'x15', 'x17', 'x16', 'y16', 'z17', 'x18', 'x19'] Current Score: 0.875\n",
      "Added best feature: x20, Current feature list: ['y3', 'y4', 'z6', 'y9', 'y1', 'z1', 'y2', 'z2', 'x3', 'z3', 'z4', 'x5', 'x2', 'x6', 'x1', 'y5', 'z5', 'y6', 'x7', 'y7', 'z7', 'x8', 'y8', 'z8', 'x9', 'z9', 'x10', 'y10', 'z10', 'x11', 'y11', 'z11', 'x12', 'y12', 'z12', 'x13', 'y13', 'x4', 'y14', 'z14', 'y15', 'z15', 'x14', 'y17', 'y18', 'z16', 'z18', 'y19', 'z19', 'z20', 'x21', 'z13', 'x15', 'x17', 'x16', 'y16', 'z17', 'x18', 'x19', 'x20'] Current Score: 0.875\n",
      "Added best feature: y20, Current feature list: ['y3', 'y4', 'z6', 'y9', 'y1', 'z1', 'y2', 'z2', 'x3', 'z3', 'z4', 'x5', 'x2', 'x6', 'x1', 'y5', 'z5', 'y6', 'x7', 'y7', 'z7', 'x8', 'y8', 'z8', 'x9', 'z9', 'x10', 'y10', 'z10', 'x11', 'y11', 'z11', 'x12', 'y12', 'z12', 'x13', 'y13', 'x4', 'y14', 'z14', 'y15', 'z15', 'x14', 'y17', 'y18', 'z16', 'z18', 'y19', 'z19', 'z20', 'x21', 'z13', 'x15', 'x17', 'x16', 'y16', 'z17', 'x18', 'x19', 'x20', 'y20'] Current Score: 0.875\n",
      "Added best feature: y21, Current feature list: ['y3', 'y4', 'z6', 'y9', 'y1', 'z1', 'y2', 'z2', 'x3', 'z3', 'z4', 'x5', 'x2', 'x6', 'x1', 'y5', 'z5', 'y6', 'x7', 'y7', 'z7', 'x8', 'y8', 'z8', 'x9', 'z9', 'x10', 'y10', 'z10', 'x11', 'y11', 'z11', 'x12', 'y12', 'z12', 'x13', 'y13', 'x4', 'y14', 'z14', 'y15', 'z15', 'x14', 'y17', 'y18', 'z16', 'z18', 'y19', 'z19', 'z20', 'x21', 'z13', 'x15', 'x17', 'x16', 'y16', 'z17', 'x18', 'x19', 'x20', 'y20', 'y21'] Current Score: 0.875\n",
      "Added best feature: z21, Current feature list: ['y3', 'y4', 'z6', 'y9', 'y1', 'z1', 'y2', 'z2', 'x3', 'z3', 'z4', 'x5', 'x2', 'x6', 'x1', 'y5', 'z5', 'y6', 'x7', 'y7', 'z7', 'x8', 'y8', 'z8', 'x9', 'z9', 'x10', 'y10', 'z10', 'x11', 'y11', 'z11', 'x12', 'y12', 'z12', 'x13', 'y13', 'x4', 'y14', 'z14', 'y15', 'z15', 'x14', 'y17', 'y18', 'z16', 'z18', 'y19', 'z19', 'z20', 'x21', 'z13', 'x15', 'x17', 'x16', 'y16', 'z17', 'x18', 'x19', 'x20', 'y20', 'y21', 'z21'] Current Score: 0.875\n",
      "Final features: ['y3', 'y4', 'z6', 'y9', 'y1', 'z1', 'y2', 'z2', 'x3', 'z3', 'z4', 'x5', 'x2', 'x6', 'x1', 'y5', 'z5', 'y6', 'x7', 'y7', 'z7', 'x8', 'y8', 'z8', 'x9', 'z9', 'x10', 'y10', 'z10', 'x11', 'y11', 'z11', 'x12', 'y12', 'z12', 'x13', 'y13', 'x4', 'y14', 'z14', 'y15', 'z15', 'x14', 'y17', 'y18', 'z16', 'z18', 'y19', 'z19', 'z20', 'x21', 'z13', 'x15', 'x17', 'x16', 'y16', 'z17', 'x18', 'x19', 'x20', 'y20', 'y21', 'z21'] Score: 0.875\n"
     ]
    }
   ],
   "source": [
    "# import pandas as pd\n",
    "# import seaborn as sns\n",
    "# import matplotlib.pyplot as plt\n",
    "# from sklearn.neighbors import KNeighborsClassifier\n",
    "# from sklearn.model_selection import train_test_split\n",
    "# from sklearn.metrics import confusion_matrix, ConfusionMatrixDisplay\n",
    "\n",
    "# df = pd.read_csv(\"data/cleanhands.csv\")\n",
    "# all = df.loc[:, df.columns != \"label\"]\n",
    "# selected = []\n",
    "# to_add = len(all)\n",
    "# y_train = df[\"label\"]\n",
    "# scorelist = []\n",
    "\n",
    "# model = KNeighborsClassifier(n_neighbors=5)\n",
    "# # Perform forward selection\n",
    "# while to_add > 0:\n",
    "#     best_feature = None\n",
    "#     best_score = 0\n",
    "#     for feature in all:\n",
    "#         if feature not in selected:\n",
    "#             combined_features = selected + [feature]\n",
    "#             X_train, X_test, y_train, y_test = train_test_split(df[combined_features], df[\"label\"], test_size= 0.2, random_state=5)\n",
    "#             #print(combined_features)\n",
    "#             model.fit(X_train, y_train)\n",
    "#             model_score = model.score(X_test, y_test)\n",
    "#             #print(\"Features:\", selected, \"+\", feature + \", Score:\", model_score)\n",
    "#             if model_score > best_score:\n",
    "#                 best_score = model_score\n",
    "#                 best_feature = feature\n",
    "    \n",
    "#     # Append best feature to model\n",
    "#     if(not best_feature):\n",
    "#         break\n",
    "       \n",
    "    \n",
    "#     selected.append(best_feature)\n",
    "#     print(\"Added best feature:\", best_feature + \", Current feature list:\", selected, \"Current Score:\", best_score)\n",
    "#     scorelist.append(best_score)\n",
    "#     to_add -= 1\n",
    "# # Print final feature score\n",
    "# X_train, X_test, y_train, y_test = train_test_split(df[combined_features], df[\"label\"], test_size= 0.2, random_state=5)\n",
    "# model.fit(X_train, y_train)\n",
    "# initial_score = model.score(X_test, y_test)\n",
    "\n",
    "# print(\"Final features:\", selected, \"Score:\", initial_score)"
   ]
  },
  {
   "cell_type": "code",
   "execution_count": 32,
   "metadata": {},
   "outputs": [
    {
     "data": {
      "text/plain": [
       "0.9583333333333334"
      ]
     },
     "execution_count": 32,
     "metadata": {},
     "output_type": "execute_result"
    }
   ],
   "source": [
    "scorelist[50]"
   ]
  },
  {
   "cell_type": "code",
   "execution_count": 34,
   "metadata": {},
   "outputs": [
    {
     "data": {
      "text/plain": [
       "<matplotlib.collections.PathCollection at 0x2917ecb80>"
      ]
     },
     "execution_count": 34,
     "metadata": {},
     "output_type": "execute_result"
    },
    {
     "data": {
      "image/png": "[encoded data removed]",
      "text/plain": [
       "<Figure size 640x480 with 1 Axes>"
      ]
     },
     "metadata": {},
     "output_type": "display_data"
    }
   ],
   "source": [
    "plt.scatter(range(len(scorelist)),scorelist)"
   ]
  },
  {
   "cell_type": "code",
   "execution_count": null,
   "metadata": {},
   "outputs": [],
   "source": []
  }
 ],
 "metadata": {
  "kernelspec": {
   "display_name": ".venv",
   "language": "python",
   "name": "python3"
  },
  "language_info": {
   "codemirror_mode": {
    "name": "ipython",
    "version": 3
   },
   "file_extension": ".py",
   "mimetype": "text/x-python",
   "name": "python",
   "nbconvert_exporter": "python",
   "pygments_lexer": "ipython3",
   "version": "3.10.7"
  }
 },
 "nbformat": 4,
 "nbformat_minor": 2
}
